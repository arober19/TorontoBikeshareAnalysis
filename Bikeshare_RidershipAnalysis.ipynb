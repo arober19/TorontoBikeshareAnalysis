{
  "nbformat": 4,
  "nbformat_minor": 0,
  "metadata": {
    "colab": {
      "name": "Bikeshare-RidershipAnalysis.ipynb",
      "provenance": [],
      "collapsed_sections": []
    },
    "kernelspec": {
      "name": "python3",
      "display_name": "Python 3"
    }
  },
  "cells": [
    {
      "cell_type": "markdown",
      "metadata": {
        "id": "KpnAW-M_qnB4",
        "colab_type": "text"
      },
      "source": [
        "#Bikeshare Analysis 2016-2018"
      ]
    },
    {
      "cell_type": "code",
      "metadata": {
        "id": "4Ys2P4D-FM1o",
        "colab_type": "code",
        "colab": {}
      },
      "source": [
        "import pandas as pd\n",
        "import numpy as np\n",
        "import matplotlib.pyplot as plt\n",
        "from datetime import datetime"
      ],
      "execution_count": 0,
      "outputs": []
    },
    {
      "cell_type": "code",
      "metadata": {
        "id": "X8wpxyCEKgrw",
        "colab_type": "code",
        "colab": {}
      },
      "source": [
        "#converting 2016 Q3 file to csv\n",
        "read_file = pd.read_excel (r'/content/drive/My Drive/BikeshareData - City of Toronto/2016Q3.xlsx')\n",
        "read_file.to_csv (r'/content/drive/My Drive/BikeshareData - City of Toronto/2016Q3.csv', index = None, header=True)"
      ],
      "execution_count": 0,
      "outputs": []
    },
    {
      "cell_type": "code",
      "metadata": {
        "id": "PGYR9UgBLWAK",
        "colab_type": "code",
        "colab": {}
      },
      "source": [
        "#converting 2016 Q4 file to csv\n",
        "read_file = pd.read_excel (r'/content/drive/My Drive/BikeshareData - City of Toronto/2016Q4.xlsx')\n",
        "read_file.to_csv (r'/content/drive/My Drive/BikeshareData - City of Toronto/2016Q4.csv', index = None, header=True)"
      ],
      "execution_count": 0,
      "outputs": []
    },
    {
      "cell_type": "code",
      "metadata": {
        "id": "yc52gnGPLxEp",
        "colab_type": "code",
        "colab": {}
      },
      "source": [
        "df = pd.read_csv('/content/drive/My Drive/BikeshareData - City of Toronto/2016Q3.csv')"
      ],
      "execution_count": 0,
      "outputs": []
    },
    {
      "cell_type": "markdown",
      "metadata": {
        "id": "3veL-yfuXGjn",
        "colab_type": "text"
      },
      "source": [
        "##Reading all Quarters into Dataframes "
      ]
    },
    {
      "cell_type": "code",
      "metadata": {
        "id": "OG0WntU3XGKi",
        "colab_type": "code",
        "colab": {}
      },
      "source": [
        "df2 = pd.read_csv('/content/drive/My Drive/BikeshareData - City of Toronto/2016Q4.csv')"
      ],
      "execution_count": 0,
      "outputs": []
    },
    {
      "cell_type": "code",
      "metadata": {
        "id": "xrCCubJmWPvY",
        "colab_type": "code",
        "colab": {}
      },
      "source": [
        "df3 = pd.read_csv('/content/drive/My Drive/BikeshareData - City of Toronto/2017Q1.csv')"
      ],
      "execution_count": 0,
      "outputs": []
    },
    {
      "cell_type": "code",
      "metadata": {
        "id": "COxGPhP3XXw0",
        "colab_type": "code",
        "colab": {}
      },
      "source": [
        "df4 = pd.read_csv('/content/drive/My Drive/BikeshareData - City of Toronto/2017Q2.csv')"
      ],
      "execution_count": 0,
      "outputs": []
    },
    {
      "cell_type": "code",
      "metadata": {
        "id": "Ymh5UBuT5by1",
        "colab_type": "code",
        "colab": {}
      },
      "source": [
        "df5 = pd.read_csv('/content/drive/My Drive/BikeshareData - City of Toronto/2017Q3.csv')"
      ],
      "execution_count": 0,
      "outputs": []
    },
    {
      "cell_type": "code",
      "metadata": {
        "id": "5s9gERwa5eGJ",
        "colab_type": "code",
        "colab": {}
      },
      "source": [
        "df6 = pd.read_csv('/content/drive/My Drive/BikeshareData - City of Toronto/2017Q4.csv')"
      ],
      "execution_count": 0,
      "outputs": []
    },
    {
      "cell_type": "code",
      "metadata": {
        "id": "fTEEVW7E5gN7",
        "colab_type": "code",
        "colab": {}
      },
      "source": [
        "df7 = pd.read_csv('/content/drive/My Drive/BikeshareData - City of Toronto/2018Q1.csv')"
      ],
      "execution_count": 0,
      "outputs": []
    },
    {
      "cell_type": "code",
      "metadata": {
        "id": "qo7H7lGJ5i9O",
        "colab_type": "code",
        "colab": {}
      },
      "source": [
        "df8 = pd.read_csv('/content/drive/My Drive/BikeshareData - City of Toronto/2018Q2.csv')"
      ],
      "execution_count": 0,
      "outputs": []
    },
    {
      "cell_type": "code",
      "metadata": {
        "id": "VCumZ__55ku-",
        "colab_type": "code",
        "colab": {}
      },
      "source": [
        "df9 = pd.read_csv('/content/drive/My Drive/BikeshareData - City of Toronto/2018Q3.csv')"
      ],
      "execution_count": 0,
      "outputs": []
    },
    {
      "cell_type": "code",
      "metadata": {
        "id": "o7MsTaRH5mkM",
        "colab_type": "code",
        "colab": {}
      },
      "source": [
        "df10 = pd.read_csv('/content/drive/My Drive/BikeshareData - City of Toronto/2018Q4.csv')"
      ],
      "execution_count": 0,
      "outputs": []
    },
    {
      "cell_type": "markdown",
      "metadata": {
        "id": "cGsuC830f7vL",
        "colab_type": "text"
      },
      "source": [
        "#Data Cleaning"
      ]
    },
    {
      "cell_type": "markdown",
      "metadata": {
        "id": "ALAJhjSwfbqA",
        "colab_type": "text"
      },
      "source": [
        "##Approximately 6 different datetime formats, must convert to datetime objects\n"
      ]
    },
    {
      "cell_type": "markdown",
      "metadata": {
        "id": "7E_4huL3rTvm",
        "colab_type": "text"
      },
      "source": [
        "###2016 Quarter3"
      ]
    },
    {
      "cell_type": "code",
      "metadata": {
        "id": "A0zjOjWeo4cS",
        "colab_type": "code",
        "colab": {
          "base_uri": "https://localhost:8080/",
          "height": 326
        },
        "outputId": "845c5e18-e58d-4790-d2b8-dc2a32c0e5da"
      },
      "source": [
        "df.head()"
      ],
      "execution_count": 576,
      "outputs": [
        {
          "output_type": "execute_result",
          "data": {
            "text/html": [
              "<div>\n",
              "<style scoped>\n",
              "    .dataframe tbody tr th:only-of-type {\n",
              "        vertical-align: middle;\n",
              "    }\n",
              "\n",
              "    .dataframe tbody tr th {\n",
              "        vertical-align: top;\n",
              "    }\n",
              "\n",
              "    .dataframe thead th {\n",
              "        text-align: right;\n",
              "    }\n",
              "</style>\n",
              "<table border=\"1\" class=\"dataframe\">\n",
              "  <thead>\n",
              "    <tr style=\"text-align: right;\">\n",
              "      <th></th>\n",
              "      <th>trip_id</th>\n",
              "      <th>trip_start_time</th>\n",
              "      <th>trip_stop_time</th>\n",
              "      <th>trip_duration_seconds</th>\n",
              "      <th>from_station_name</th>\n",
              "      <th>to_station_name</th>\n",
              "      <th>user_type</th>\n",
              "    </tr>\n",
              "  </thead>\n",
              "  <tbody>\n",
              "    <tr>\n",
              "      <th>0</th>\n",
              "      <td>53279</td>\n",
              "      <td>2016-07-09 01:03:00</td>\n",
              "      <td>2016-07-09 01:15:00</td>\n",
              "      <td>714</td>\n",
              "      <td>Dundas St E / Regent Park Blvd</td>\n",
              "      <td>Danforth Ave / Ellerbeck St</td>\n",
              "      <td>Member</td>\n",
              "    </tr>\n",
              "    <tr>\n",
              "      <th>1</th>\n",
              "      <td>53394</td>\n",
              "      <td>2016-07-09 02:15:00</td>\n",
              "      <td>2016-07-09 02:22:00</td>\n",
              "      <td>417</td>\n",
              "      <td>Riverdale Park North (Broadview Ave)</td>\n",
              "      <td>Dundas St E / Regent Park Blvd</td>\n",
              "      <td>Member</td>\n",
              "    </tr>\n",
              "    <tr>\n",
              "      <th>2</th>\n",
              "      <td>58314</td>\n",
              "      <td>2016-07-10 17:04:00</td>\n",
              "      <td>2016-07-10 17:36:00</td>\n",
              "      <td>1904</td>\n",
              "      <td>Dundas St E / Regent Park Blvd</td>\n",
              "      <td>Queen St W / Close Ave</td>\n",
              "      <td>Member</td>\n",
              "    </tr>\n",
              "    <tr>\n",
              "      <th>3</th>\n",
              "      <td>60784</td>\n",
              "      <td>2016-07-11 01:45:00</td>\n",
              "      <td>2016-07-11 01:58:00</td>\n",
              "      <td>784</td>\n",
              "      <td>Union Station</td>\n",
              "      <td>Dundas St E / Regent Park Blvd</td>\n",
              "      <td>Member</td>\n",
              "    </tr>\n",
              "    <tr>\n",
              "      <th>4</th>\n",
              "      <td>93164</td>\n",
              "      <td>2016-07-18 13:35:00</td>\n",
              "      <td>2016-07-18 13:42:00</td>\n",
              "      <td>443</td>\n",
              "      <td>Front St W / Blue Jays Way</td>\n",
              "      <td>Front St / Yonge St (Hockey Hall of Fame)</td>\n",
              "      <td>Member</td>\n",
              "    </tr>\n",
              "  </tbody>\n",
              "</table>\n",
              "</div>"
            ],
            "text/plain": [
              "   trip_id  ... user_type\n",
              "0    53279  ...    Member\n",
              "1    53394  ...    Member\n",
              "2    58314  ...    Member\n",
              "3    60784  ...    Member\n",
              "4    93164  ...    Member\n",
              "\n",
              "[5 rows x 7 columns]"
            ]
          },
          "metadata": {
            "tags": []
          },
          "execution_count": 576
        }
      ]
    },
    {
      "cell_type": "code",
      "metadata": {
        "id": "yFDcwyKsf17T",
        "colab_type": "code",
        "colab": {}
      },
      "source": [
        "#converting start times to datetime\n",
        "df['trip_start_time'] = pd.to_datetime(df['trip_start_time'],errors = 'coerce',format = '%Y-%m-%d %H:%M:%S')"
      ],
      "execution_count": 0,
      "outputs": []
    },
    {
      "cell_type": "code",
      "metadata": {
        "id": "THWB-NfTzD69",
        "colab_type": "code",
        "colab": {}
      },
      "source": [
        "#converting stop times to datetime\n",
        "df['trip_stop_time'] = pd.to_datetime(df['trip_stop_time'],errors = 'coerce',format = '%Y-%m-%d %H:%M:%S')"
      ],
      "execution_count": 0,
      "outputs": []
    },
    {
      "cell_type": "code",
      "metadata": {
        "id": "NVB8Thdvqnml",
        "colab_type": "code",
        "colab": {
          "base_uri": "https://localhost:8080/",
          "height": 153
        },
        "outputId": "013f92f2-f4c4-4cd7-8896-d2114d871abc"
      },
      "source": [
        "#checking to see conversion was successful\n",
        "df.dtypes"
      ],
      "execution_count": 50,
      "outputs": [
        {
          "output_type": "execute_result",
          "data": {
            "text/plain": [
              "trip_id                           int64\n",
              "trip_start_time          datetime64[ns]\n",
              "trip_stop_time           datetime64[ns]\n",
              "trip_duration_seconds             int64\n",
              "from_station_name                object\n",
              "to_station_name                  object\n",
              "user_type                        object\n",
              "dtype: object"
            ]
          },
          "metadata": {
            "tags": []
          },
          "execution_count": 50
        }
      ]
    },
    {
      "cell_type": "code",
      "metadata": {
        "id": "DZBLH7fBl9qS",
        "colab_type": "code",
        "colab": {
          "base_uri": "https://localhost:8080/",
          "height": 153
        },
        "outputId": "905fc99a-0ed3-455c-ca76-d75856c9c1d1"
      },
      "source": [
        "#checking to see if datetime conversion cause any NaN values\n",
        "df.isna().sum()"
      ],
      "execution_count": 51,
      "outputs": [
        {
          "output_type": "execute_result",
          "data": {
            "text/plain": [
              "trip_id                  0\n",
              "trip_start_time          0\n",
              "trip_stop_time           0\n",
              "trip_duration_seconds    0\n",
              "from_station_name        3\n",
              "to_station_name          2\n",
              "user_type                0\n",
              "dtype: int64"
            ]
          },
          "metadata": {
            "tags": []
          },
          "execution_count": 51
        }
      ]
    },
    {
      "cell_type": "markdown",
      "metadata": {
        "id": "VwZa64wYrXsy",
        "colab_type": "text"
      },
      "source": [
        "###2016 Quarter 4"
      ]
    },
    {
      "cell_type": "markdown",
      "metadata": {
        "id": "s2O2CVXP5_Py",
        "colab_type": "text"
      },
      "source": [
        "Two different datetime formats in this dataset must convert one to the other to create datetime objects\n",
        "\n",
        "'%Y-%d-%m %H:%M:%S'\n",
        "\n",
        "'%d/%m/%Y %H:%M'"
      ]
    },
    {
      "cell_type": "code",
      "metadata": {
        "id": "a-uE8p2XrRdN",
        "colab_type": "code",
        "colab": {
          "base_uri": "https://localhost:8080/",
          "height": 309
        },
        "outputId": "00c3ae9f-089b-4afa-e3b4-47966903e1dc"
      },
      "source": [
        "df2.head()"
      ],
      "execution_count": 632,
      "outputs": [
        {
          "output_type": "execute_result",
          "data": {
            "text/html": [
              "<div>\n",
              "<style scoped>\n",
              "    .dataframe tbody tr th:only-of-type {\n",
              "        vertical-align: middle;\n",
              "    }\n",
              "\n",
              "    .dataframe tbody tr th {\n",
              "        vertical-align: top;\n",
              "    }\n",
              "\n",
              "    .dataframe thead th {\n",
              "        text-align: right;\n",
              "    }\n",
              "</style>\n",
              "<table border=\"1\" class=\"dataframe\">\n",
              "  <thead>\n",
              "    <tr style=\"text-align: right;\">\n",
              "      <th></th>\n",
              "      <th>trip_id</th>\n",
              "      <th>trip_start_time</th>\n",
              "      <th>trip_stop_time</th>\n",
              "      <th>trip_duration_seconds</th>\n",
              "      <th>from_station_name</th>\n",
              "      <th>to_station_name</th>\n",
              "      <th>user_type</th>\n",
              "    </tr>\n",
              "  </thead>\n",
              "  <tbody>\n",
              "    <tr>\n",
              "      <th>0</th>\n",
              "      <td>462305</td>\n",
              "      <td>2016-10-01 00:00:00</td>\n",
              "      <td>2016-10-01 00:07:00</td>\n",
              "      <td>394</td>\n",
              "      <td>Queens Quay W / Dan Leckie Way</td>\n",
              "      <td>Fort York Blvd / Garrison Rd</td>\n",
              "      <td>Casual</td>\n",
              "    </tr>\n",
              "    <tr>\n",
              "      <th>1</th>\n",
              "      <td>462306</td>\n",
              "      <td>2016-10-01 00:00:00</td>\n",
              "      <td>2016-10-01 00:09:00</td>\n",
              "      <td>533</td>\n",
              "      <td>Sherbourne St / Wellesley St</td>\n",
              "      <td>Edward St / Yonge St</td>\n",
              "      <td>Member</td>\n",
              "    </tr>\n",
              "    <tr>\n",
              "      <th>2</th>\n",
              "      <td>462307</td>\n",
              "      <td>2016-10-01 00:00:00</td>\n",
              "      <td>2016-10-01 00:07:00</td>\n",
              "      <td>383</td>\n",
              "      <td>Queens Quay W / Dan Leckie Way</td>\n",
              "      <td>Fort York Blvd / Garrison Rd</td>\n",
              "      <td>Casual</td>\n",
              "    </tr>\n",
              "    <tr>\n",
              "      <th>3</th>\n",
              "      <td>462308</td>\n",
              "      <td>2016-10-01 00:01:00</td>\n",
              "      <td>2016-10-01 00:27:00</td>\n",
              "      <td>1557</td>\n",
              "      <td>Cherry St / Distillery Ln</td>\n",
              "      <td>Fort York  Blvd / Capreol Crt</td>\n",
              "      <td>Casual</td>\n",
              "    </tr>\n",
              "    <tr>\n",
              "      <th>4</th>\n",
              "      <td>462309</td>\n",
              "      <td>2016-10-01 00:01:00</td>\n",
              "      <td>2016-10-01 00:27:00</td>\n",
              "      <td>1547</td>\n",
              "      <td>Cherry St / Distillery Ln</td>\n",
              "      <td>Fort York  Blvd / Capreol Crt</td>\n",
              "      <td>Casual</td>\n",
              "    </tr>\n",
              "  </tbody>\n",
              "</table>\n",
              "</div>"
            ],
            "text/plain": [
              "   trip_id     trip_start_time  ...                to_station_name  user_type\n",
              "0   462305 2016-10-01 00:00:00  ...   Fort York Blvd / Garrison Rd     Casual\n",
              "1   462306 2016-10-01 00:00:00  ...           Edward St / Yonge St     Member\n",
              "2   462307 2016-10-01 00:00:00  ...   Fort York Blvd / Garrison Rd     Casual\n",
              "3   462308 2016-10-01 00:01:00  ...  Fort York  Blvd / Capreol Crt     Casual\n",
              "4   462309 2016-10-01 00:01:00  ...  Fort York  Blvd / Capreol Crt     Casual\n",
              "\n",
              "[5 rows x 7 columns]"
            ]
          },
          "metadata": {
            "tags": []
          },
          "execution_count": 632
        }
      ]
    },
    {
      "cell_type": "markdown",
      "metadata": {
        "id": "svmSVab00Bsp",
        "colab_type": "text"
      },
      "source": [
        "Applying format changes to trip start time\n"
      ]
    },
    {
      "cell_type": "code",
      "metadata": {
        "id": "6-x5IWx5Cy-U",
        "colab_type": "code",
        "colab": {}
      },
      "source": [
        "#replace / with -\n",
        "df2['trip_start_time'] = df2.trip_start_time.str.replace('/','-')"
      ],
      "execution_count": 0,
      "outputs": []
    },
    {
      "cell_type": "code",
      "metadata": {
        "id": "DMS5W55YC-vJ",
        "colab_type": "code",
        "colab": {}
      },
      "source": [
        "#split by first space to seperate date and time\n",
        "startfix = df2.trip_start_time.str.split(' ',1,expand=True)"
      ],
      "execution_count": 0,
      "outputs": []
    },
    {
      "cell_type": "code",
      "metadata": {
        "id": "IoHyyTqBIOVI",
        "colab_type": "code",
        "colab": {}
      },
      "source": [
        "#set the date to original column\n",
        "df2['trip_start_time'] = startfix[0]"
      ],
      "execution_count": 0,
      "outputs": []
    },
    {
      "cell_type": "code",
      "metadata": {
        "id": "i832BbWJITch",
        "colab_type": "code",
        "colab": {}
      },
      "source": [
        "#split by - for entries in wrong order having year at the end(%f-%f-%Y)\n",
        "startfixed = df2.trip_start_time[df2.trip_start_time.str.contains('-201')].str.split('-',expand=True)"
      ],
      "execution_count": 0,
      "outputs": []
    },
    {
      "cell_type": "code",
      "metadata": {
        "id": "qik4yAw3K6Ur",
        "colab_type": "code",
        "colab": {}
      },
      "source": [
        "#re-arrange order\n",
        "startfixed = startfixed[[2,0,1]]"
      ],
      "execution_count": 0,
      "outputs": []
    },
    {
      "cell_type": "code",
      "metadata": {
        "id": "LQIzs2xnLLlu",
        "colab_type": "code",
        "colab": {}
      },
      "source": [
        "#join by correct order\n",
        "startfixed = startfixed.stack().groupby(level=0).apply('-'.join)"
      ],
      "execution_count": 0,
      "outputs": []
    },
    {
      "cell_type": "code",
      "metadata": {
        "id": "bPAF4VNDLptv",
        "colab_type": "code",
        "colab": {}
      },
      "source": [
        "#replace values in dataframe\n",
        "df2.loc[startfixed.index,'trip_start_time'] = startfixed"
      ],
      "execution_count": 0,
      "outputs": []
    },
    {
      "cell_type": "code",
      "metadata": {
        "id": "_lLdBviiNNsv",
        "colab_type": "code",
        "colab": {}
      },
      "source": [
        "#set time to its own column\n",
        "df2['StartTime'] = startfix[1]"
      ],
      "execution_count": 0,
      "outputs": []
    },
    {
      "cell_type": "code",
      "metadata": {
        "id": "2MJjWGC4NSF_",
        "colab_type": "code",
        "colab": {}
      },
      "source": [
        "#split by colons to seperate seconds\n",
        "starttimefix = df2.StartTime.str.split(':',expand = True)"
      ],
      "execution_count": 0,
      "outputs": []
    },
    {
      "cell_type": "code",
      "metadata": {
        "id": "OwuehKZeNzNl",
        "colab_type": "code",
        "colab": {}
      },
      "source": [
        "#keep hours and minutes while disregarding seconds and minutes\n",
        "starttimefix = starttimefix[[0,1]]"
      ],
      "execution_count": 0,
      "outputs": []
    },
    {
      "cell_type": "code",
      "metadata": {
        "id": "HYR7gQp3X81w",
        "colab_type": "code",
        "colab": {}
      },
      "source": [
        "starttimefix = starttimefix.stack().groupby(level=0).apply(':'.join)"
      ],
      "execution_count": 0,
      "outputs": []
    },
    {
      "cell_type": "code",
      "metadata": {
        "id": "urOGCsUWN5ZV",
        "colab_type": "code",
        "colab": {}
      },
      "source": [
        "#replace values in dataframe\n",
        "df2.loc[starttimefix.index,'StartTime'] = starttimefix"
      ],
      "execution_count": 0,
      "outputs": []
    },
    {
      "cell_type": "code",
      "metadata": {
        "id": "ECj5Pdblj5KB",
        "colab_type": "code",
        "colab": {}
      },
      "source": [
        "#concatenating time and date back together\n",
        "df2['trip_start_time'] = df2[['trip_start_time','StartTime']].agg(' '.join, axis=1)"
      ],
      "execution_count": 0,
      "outputs": []
    },
    {
      "cell_type": "code",
      "metadata": {
        "id": "v1IePnwhLujo",
        "colab_type": "code",
        "colab": {}
      },
      "source": [
        "#convert to datetime\n",
        "df2['trip_start_time'] = pd.to_datetime(df2.trip_start_time,format = '%Y-%d-%m %H:%M')"
      ],
      "execution_count": 0,
      "outputs": []
    },
    {
      "cell_type": "code",
      "metadata": {
        "id": "zIzqrA3AlP7N",
        "colab_type": "code",
        "colab": {}
      },
      "source": [
        "del df2['StartTime']"
      ],
      "execution_count": 0,
      "outputs": []
    },
    {
      "cell_type": "markdown",
      "metadata": {
        "id": "7kxiW30J0JRT",
        "colab_type": "text"
      },
      "source": [
        "Applying format changes to trip stop time"
      ]
    },
    {
      "cell_type": "code",
      "metadata": {
        "id": "aSK0vBy50I27",
        "colab_type": "code",
        "colab": {}
      },
      "source": [
        "#replace / with -\n",
        "df2['trip_stop_time'] = df2.trip_stop_time.str.replace('/','-')\n",
        "#split by first space to seperate date and time\n",
        "stopfix = df2.trip_stop_time.str.split(' ',1,expand=True)\n",
        "#set the date to original column\n",
        "df2['trip_stop_time'] = stopfix[0]\n",
        "#split by - for entries in wrong order having year at the end(%f-%f-%Y)\n",
        "stopfixed = df2.trip_stop_time[df2.trip_stop_time.str.contains('-201')].str.split('-',expand=True)\n",
        "#re-arrange order\n",
        "stopfixed = stopfixed[[2,0,1]]\n",
        "#join by correct order\n",
        "stopfixed = stopfixed.stack().groupby(level=0).apply('-'.join)\n",
        "#replace values in dataframe\n",
        "df2.loc[stopfixed.index,'trip_stop_time'] = stopfixed\n",
        "#set time to its own column\n",
        "df2['StopTime'] = stopfix[1]\n",
        "#split by colons to seperate seconds\n",
        "stoptimefix = df2.StopTime.str.split(':',expand = True)\n",
        "#keep hours and minutes while disregarding seconds and minutes\n",
        "stoptimefix = stoptimefix[[0,1]]\n",
        "stoptimefix = stoptimefix.stack().groupby(level=0).apply(':'.join)\n",
        "#replace values in dataframe\n",
        "df2.loc[stoptimefix.index,'StopTime'] = stoptimefix\n",
        "#concatenating time and date back together\n",
        "df2['trip_stop_time'] = df2[['trip_stop_time','StopTime']].agg(' '.join, axis=1)\n",
        "#convert to datetime\n",
        "df2['trip_stop_time'] = pd.to_datetime(df2.trip_stop_time,format = '%Y-%d-%m %H:%M')\n",
        "del df2['StopTime']"
      ],
      "execution_count": 0,
      "outputs": []
    },
    {
      "cell_type": "code",
      "metadata": {
        "id": "y2DsO3CeY2WG",
        "colab_type": "code",
        "colab": {
          "base_uri": "https://localhost:8080/",
          "height": 153
        },
        "outputId": "dddad2bc-ede2-4693-dd5c-b9a20f5093c9"
      },
      "source": [
        "df2.isna().sum()"
      ],
      "execution_count": 68,
      "outputs": [
        {
          "output_type": "execute_result",
          "data": {
            "text/plain": [
              "trip_id                  0\n",
              "trip_start_time          0\n",
              "trip_stop_time           0\n",
              "trip_duration_seconds    0\n",
              "from_station_name        2\n",
              "to_station_name          2\n",
              "user_type                0\n",
              "dtype: int64"
            ]
          },
          "metadata": {
            "tags": []
          },
          "execution_count": 68
        }
      ]
    },
    {
      "cell_type": "code",
      "metadata": {
        "id": "V_OAps29Y4ug",
        "colab_type": "code",
        "colab": {
          "base_uri": "https://localhost:8080/",
          "height": 153
        },
        "outputId": "a33b5789-7fb4-44bd-927f-56af3ff89756"
      },
      "source": [
        "df2.dtypes"
      ],
      "execution_count": 69,
      "outputs": [
        {
          "output_type": "execute_result",
          "data": {
            "text/plain": [
              "trip_id                           int64\n",
              "trip_start_time          datetime64[ns]\n",
              "trip_stop_time           datetime64[ns]\n",
              "trip_duration_seconds             int64\n",
              "from_station_name                object\n",
              "to_station_name                  object\n",
              "user_type                        object\n",
              "dtype: object"
            ]
          },
          "metadata": {
            "tags": []
          },
          "execution_count": 69
        }
      ]
    },
    {
      "cell_type": "markdown",
      "metadata": {
        "id": "UixfxWC-6TdI",
        "colab_type": "text"
      },
      "source": [
        "###2017 Quarter 1"
      ]
    },
    {
      "cell_type": "code",
      "metadata": {
        "id": "gqhly88K6VpF",
        "colab_type": "code",
        "colab": {
          "base_uri": "https://localhost:8080/",
          "height": 309
        },
        "outputId": "90d4d355-4c55-46c6-d994-6b93cdb69f17"
      },
      "source": [
        "df3.head()"
      ],
      "execution_count": 525,
      "outputs": [
        {
          "output_type": "execute_result",
          "data": {
            "text/html": [
              "<div>\n",
              "<style scoped>\n",
              "    .dataframe tbody tr th:only-of-type {\n",
              "        vertical-align: middle;\n",
              "    }\n",
              "\n",
              "    .dataframe tbody tr th {\n",
              "        vertical-align: top;\n",
              "    }\n",
              "\n",
              "    .dataframe thead th {\n",
              "        text-align: right;\n",
              "    }\n",
              "</style>\n",
              "<table border=\"1\" class=\"dataframe\">\n",
              "  <thead>\n",
              "    <tr style=\"text-align: right;\">\n",
              "      <th></th>\n",
              "      <th>trip_id</th>\n",
              "      <th>trip_start_time</th>\n",
              "      <th>trip_stop_time</th>\n",
              "      <th>trip_duration_seconds</th>\n",
              "      <th>from_station_id</th>\n",
              "      <th>from_station_name</th>\n",
              "      <th>to_station_id</th>\n",
              "      <th>to_station_name</th>\n",
              "      <th>user_type</th>\n",
              "    </tr>\n",
              "  </thead>\n",
              "  <tbody>\n",
              "    <tr>\n",
              "      <th>0</th>\n",
              "      <td>712382</td>\n",
              "      <td>2017-01-01 00:00:00</td>\n",
              "      <td>1/1/2017 0:03</td>\n",
              "      <td>223</td>\n",
              "      <td>7051</td>\n",
              "      <td>Wellesley St E / Yonge St Green P</td>\n",
              "      <td>7089</td>\n",
              "      <td>Church St  / Wood St</td>\n",
              "      <td>Member</td>\n",
              "    </tr>\n",
              "    <tr>\n",
              "      <th>1</th>\n",
              "      <td>712383</td>\n",
              "      <td>2017-01-01 00:00:00</td>\n",
              "      <td>1/1/2017 0:05</td>\n",
              "      <td>279</td>\n",
              "      <td>7143</td>\n",
              "      <td>Kendal Ave / Bernard Ave</td>\n",
              "      <td>7154</td>\n",
              "      <td>Bathurst Subway Station</td>\n",
              "      <td>Member</td>\n",
              "    </tr>\n",
              "    <tr>\n",
              "      <th>2</th>\n",
              "      <td>712384</td>\n",
              "      <td>2017-01-01 00:05:00</td>\n",
              "      <td>1/1/2017 0:29</td>\n",
              "      <td>1394</td>\n",
              "      <td>7113</td>\n",
              "      <td>Parliament St / Aberdeen Ave</td>\n",
              "      <td>7199</td>\n",
              "      <td>College St W / Markham St</td>\n",
              "      <td>Member</td>\n",
              "    </tr>\n",
              "    <tr>\n",
              "      <th>3</th>\n",
              "      <td>712385</td>\n",
              "      <td>2017-01-01 00:07:00</td>\n",
              "      <td>1/1/2017 0:21</td>\n",
              "      <td>826</td>\n",
              "      <td>7077</td>\n",
              "      <td>College Park South</td>\n",
              "      <td>7010</td>\n",
              "      <td>King St W / Spadina Ave</td>\n",
              "      <td>Member</td>\n",
              "    </tr>\n",
              "    <tr>\n",
              "      <th>4</th>\n",
              "      <td>712386</td>\n",
              "      <td>2017-01-01 00:08:00</td>\n",
              "      <td>1/1/2017 0:12</td>\n",
              "      <td>279</td>\n",
              "      <td>7079</td>\n",
              "      <td>McGill St / Church St</td>\n",
              "      <td>7047</td>\n",
              "      <td>University Ave / Gerrard St W</td>\n",
              "      <td>Member</td>\n",
              "    </tr>\n",
              "  </tbody>\n",
              "</table>\n",
              "</div>"
            ],
            "text/plain": [
              "   trip_id     trip_start_time  ...                to_station_name  user_type\n",
              "0   712382 2017-01-01 00:00:00  ...           Church St  / Wood St     Member\n",
              "1   712383 2017-01-01 00:00:00  ...        Bathurst Subway Station     Member\n",
              "2   712384 2017-01-01 00:05:00  ...      College St W / Markham St     Member\n",
              "3   712385 2017-01-01 00:07:00  ...        King St W / Spadina Ave     Member\n",
              "4   712386 2017-01-01 00:08:00  ...  University Ave / Gerrard St W     Member\n",
              "\n",
              "[5 rows x 9 columns]"
            ]
          },
          "metadata": {
            "tags": []
          },
          "execution_count": 525
        }
      ]
    },
    {
      "cell_type": "code",
      "metadata": {
        "id": "I0ZIPBNfmJHu",
        "colab_type": "code",
        "colab": {}
      },
      "source": [
        "df3['trip_start_time'] = pd.to_datetime(df3['trip_start_time'],errors = 'coerce',format = '%d/%m/%Y %H:%M')"
      ],
      "execution_count": 0,
      "outputs": []
    },
    {
      "cell_type": "code",
      "metadata": {
        "id": "VPyPZo5l4fRM",
        "colab_type": "code",
        "colab": {}
      },
      "source": [
        "df3['trip_stop_time'] = pd.to_datetime(df3['trip_stop_time'],errors = 'coerce',format = '%d/%m/%Y %H:%M')"
      ],
      "execution_count": 0,
      "outputs": []
    },
    {
      "cell_type": "code",
      "metadata": {
        "id": "F43iGH73mjO9",
        "colab_type": "code",
        "colab": {
          "base_uri": "https://localhost:8080/",
          "height": 187
        },
        "outputId": "d25f3c6f-0973-4ee4-e5c1-44628673d984"
      },
      "source": [
        "df3.isna().sum()"
      ],
      "execution_count": 634,
      "outputs": [
        {
          "output_type": "execute_result",
          "data": {
            "text/plain": [
              "trip_id                  0\n",
              "trip_start_time          0\n",
              "trip_stop_time           0\n",
              "trip_duration_seconds    0\n",
              "from_station_id          0\n",
              "from_station_name        0\n",
              "to_station_id            0\n",
              "to_station_name          0\n",
              "user_type                0\n",
              "dtype: int64"
            ]
          },
          "metadata": {
            "tags": []
          },
          "execution_count": 634
        }
      ]
    },
    {
      "cell_type": "code",
      "metadata": {
        "id": "4A5iOfB-mlaR",
        "colab_type": "code",
        "colab": {
          "base_uri": "https://localhost:8080/",
          "height": 187
        },
        "outputId": "28312294-707c-46be-f42c-be024a3ae0a5"
      },
      "source": [
        "df3.dtypes"
      ],
      "execution_count": 635,
      "outputs": [
        {
          "output_type": "execute_result",
          "data": {
            "text/plain": [
              "trip_id                           int64\n",
              "trip_start_time          datetime64[ns]\n",
              "trip_stop_time           datetime64[ns]\n",
              "trip_duration_seconds             int64\n",
              "from_station_id                   int64\n",
              "from_station_name                object\n",
              "to_station_id                     int64\n",
              "to_station_name                  object\n",
              "user_type                        object\n",
              "dtype: object"
            ]
          },
          "metadata": {
            "tags": []
          },
          "execution_count": 635
        }
      ]
    },
    {
      "cell_type": "markdown",
      "metadata": {
        "id": "anFoPSFdDJyA",
        "colab_type": "text"
      },
      "source": [
        "###2017 Quarter 2"
      ]
    },
    {
      "cell_type": "code",
      "metadata": {
        "id": "tvm5B919DJOo",
        "colab_type": "code",
        "colab": {
          "base_uri": "https://localhost:8080/",
          "height": 309
        },
        "outputId": "0cf1e5dd-df3f-40ed-eed7-a3bb987b51c8"
      },
      "source": [
        "df4.tail()"
      ],
      "execution_count": 529,
      "outputs": [
        {
          "output_type": "execute_result",
          "data": {
            "text/html": [
              "<div>\n",
              "<style scoped>\n",
              "    .dataframe tbody tr th:only-of-type {\n",
              "        vertical-align: middle;\n",
              "    }\n",
              "\n",
              "    .dataframe tbody tr th {\n",
              "        vertical-align: top;\n",
              "    }\n",
              "\n",
              "    .dataframe thead th {\n",
              "        text-align: right;\n",
              "    }\n",
              "</style>\n",
              "<table border=\"1\" class=\"dataframe\">\n",
              "  <thead>\n",
              "    <tr style=\"text-align: right;\">\n",
              "      <th></th>\n",
              "      <th>trip_id</th>\n",
              "      <th>trip_start_time</th>\n",
              "      <th>trip_stop_time</th>\n",
              "      <th>trip_duration_seconds</th>\n",
              "      <th>from_station_id</th>\n",
              "      <th>from_station_name</th>\n",
              "      <th>to_station_id</th>\n",
              "      <th>to_station_name</th>\n",
              "      <th>user_type</th>\n",
              "    </tr>\n",
              "  </thead>\n",
              "  <tbody>\n",
              "    <tr>\n",
              "      <th>333348</th>\n",
              "      <td>1253139</td>\n",
              "      <td>2017-06-30 23:59:00</td>\n",
              "      <td>1/7/2017 0:12</td>\n",
              "      <td>783</td>\n",
              "      <td>7163</td>\n",
              "      <td>Yonge St / Wood St</td>\n",
              "      <td>7118</td>\n",
              "      <td>King St W / Bay St (East Side)</td>\n",
              "      <td>Member</td>\n",
              "    </tr>\n",
              "    <tr>\n",
              "      <th>333349</th>\n",
              "      <td>1253140</td>\n",
              "      <td>2017-06-30 23:59:00</td>\n",
              "      <td>1/7/2017 0:34</td>\n",
              "      <td>2081</td>\n",
              "      <td>7199</td>\n",
              "      <td>College St W / Markham St</td>\n",
              "      <td>7043</td>\n",
              "      <td>Queens Quay W / Lower Simcoe St</td>\n",
              "      <td>Casual</td>\n",
              "    </tr>\n",
              "    <tr>\n",
              "      <th>333350</th>\n",
              "      <td>1253141</td>\n",
              "      <td>2017-06-30 23:59:00</td>\n",
              "      <td>1/7/2017 0:03</td>\n",
              "      <td>227</td>\n",
              "      <td>7049</td>\n",
              "      <td>Queen St W / Portland St</td>\n",
              "      <td>7046</td>\n",
              "      <td>Niagara St / Richmond St W</td>\n",
              "      <td>Member</td>\n",
              "    </tr>\n",
              "    <tr>\n",
              "      <th>333351</th>\n",
              "      <td>1253142</td>\n",
              "      <td>2017-06-30 23:59:00</td>\n",
              "      <td>1/7/2017 0:34</td>\n",
              "      <td>2067</td>\n",
              "      <td>7199</td>\n",
              "      <td>College St W / Markham St</td>\n",
              "      <td>7043</td>\n",
              "      <td>Queens Quay W / Lower Simcoe St</td>\n",
              "      <td>Casual</td>\n",
              "    </tr>\n",
              "    <tr>\n",
              "      <th>333352</th>\n",
              "      <td>1253144</td>\n",
              "      <td>2017-06-30 23:59:00</td>\n",
              "      <td>1/7/2017 0:26</td>\n",
              "      <td>1623</td>\n",
              "      <td>7006</td>\n",
              "      <td>Bay St / College St (East Side)</td>\n",
              "      <td>7093</td>\n",
              "      <td>Danforth Ave / Gough Ave</td>\n",
              "      <td>Member</td>\n",
              "    </tr>\n",
              "  </tbody>\n",
              "</table>\n",
              "</div>"
            ],
            "text/plain": [
              "        trip_id     trip_start_time  ...                  to_station_name  user_type\n",
              "333348  1253139 2017-06-30 23:59:00  ...   King St W / Bay St (East Side)     Member\n",
              "333349  1253140 2017-06-30 23:59:00  ...  Queens Quay W / Lower Simcoe St     Casual\n",
              "333350  1253141 2017-06-30 23:59:00  ...       Niagara St / Richmond St W     Member\n",
              "333351  1253142 2017-06-30 23:59:00  ...  Queens Quay W / Lower Simcoe St     Casual\n",
              "333352  1253144 2017-06-30 23:59:00  ...         Danforth Ave / Gough Ave     Member\n",
              "\n",
              "[5 rows x 9 columns]"
            ]
          },
          "metadata": {
            "tags": []
          },
          "execution_count": 529
        }
      ]
    },
    {
      "cell_type": "code",
      "metadata": {
        "id": "2tiLVQP3qK4O",
        "colab_type": "code",
        "colab": {}
      },
      "source": [
        "df4['trip_start_time'] = pd.to_datetime(df4['trip_start_time'],errors = 'coerce',format = '%d/%m/%Y %H:%M')"
      ],
      "execution_count": 0,
      "outputs": []
    },
    {
      "cell_type": "code",
      "metadata": {
        "id": "EL3j0XP_4oSz",
        "colab_type": "code",
        "colab": {}
      },
      "source": [
        "df4['trip_stop_time'] = pd.to_datetime(df4['trip_stop_time'],errors = 'coerce',format = '%d/%m/%Y %H:%M')"
      ],
      "execution_count": 0,
      "outputs": []
    },
    {
      "cell_type": "code",
      "metadata": {
        "id": "yBHPOe0dqpbu",
        "colab_type": "code",
        "colab": {
          "base_uri": "https://localhost:8080/",
          "height": 187
        },
        "outputId": "7bea747a-a014-4a35-8809-f87cd1f89a27"
      },
      "source": [
        "df4.isna().sum()"
      ],
      "execution_count": 74,
      "outputs": [
        {
          "output_type": "execute_result",
          "data": {
            "text/plain": [
              "trip_id                  0\n",
              "trip_start_time          0\n",
              "trip_stop_time           0\n",
              "trip_duration_seconds    0\n",
              "from_station_id          0\n",
              "from_station_name        0\n",
              "to_station_id            0\n",
              "to_station_name          0\n",
              "user_type                0\n",
              "dtype: int64"
            ]
          },
          "metadata": {
            "tags": []
          },
          "execution_count": 74
        }
      ]
    },
    {
      "cell_type": "code",
      "metadata": {
        "id": "z0cZxHfiq0P9",
        "colab_type": "code",
        "colab": {
          "base_uri": "https://localhost:8080/",
          "height": 187
        },
        "outputId": "7e379481-18f7-4ebd-c0c7-00f28f7b9ac8"
      },
      "source": [
        "df4.dtypes"
      ],
      "execution_count": 75,
      "outputs": [
        {
          "output_type": "execute_result",
          "data": {
            "text/plain": [
              "trip_id                           int64\n",
              "trip_start_time          datetime64[ns]\n",
              "trip_stop_time           datetime64[ns]\n",
              "trip_duration_seconds             int64\n",
              "from_station_id                   int64\n",
              "from_station_name                object\n",
              "to_station_id                     int64\n",
              "to_station_name                  object\n",
              "user_type                        object\n",
              "dtype: object"
            ]
          },
          "metadata": {
            "tags": []
          },
          "execution_count": 75
        }
      ]
    },
    {
      "cell_type": "markdown",
      "metadata": {
        "id": "6l9YAJyKDceJ",
        "colab_type": "text"
      },
      "source": [
        "###2017 Quarter 3"
      ]
    },
    {
      "cell_type": "code",
      "metadata": {
        "id": "IPzQJjYPDfzB",
        "colab_type": "code",
        "colab": {
          "base_uri": "https://localhost:8080/",
          "height": 309
        },
        "outputId": "df0d6924-e0e2-4260-b9b8-acc1c5d7cb1b"
      },
      "source": [
        "df5.head()"
      ],
      "execution_count": 533,
      "outputs": [
        {
          "output_type": "execute_result",
          "data": {
            "text/html": [
              "<div>\n",
              "<style scoped>\n",
              "    .dataframe tbody tr th:only-of-type {\n",
              "        vertical-align: middle;\n",
              "    }\n",
              "\n",
              "    .dataframe tbody tr th {\n",
              "        vertical-align: top;\n",
              "    }\n",
              "\n",
              "    .dataframe thead th {\n",
              "        text-align: right;\n",
              "    }\n",
              "</style>\n",
              "<table border=\"1\" class=\"dataframe\">\n",
              "  <thead>\n",
              "    <tr style=\"text-align: right;\">\n",
              "      <th></th>\n",
              "      <th>trip_id</th>\n",
              "      <th>trip_start_time</th>\n",
              "      <th>trip_stop_time</th>\n",
              "      <th>trip_duration_seconds</th>\n",
              "      <th>from_station_name</th>\n",
              "      <th>to_station_name</th>\n",
              "      <th>user_type</th>\n",
              "    </tr>\n",
              "  </thead>\n",
              "  <tbody>\n",
              "    <tr>\n",
              "      <th>0</th>\n",
              "      <td>1253914</td>\n",
              "      <td>2017-07-01 00:00:00</td>\n",
              "      <td>7/1/2017 0:15</td>\n",
              "      <td>910</td>\n",
              "      <td>Princess St / Adelaide St E</td>\n",
              "      <td>424 Wellington St W</td>\n",
              "      <td>Member</td>\n",
              "    </tr>\n",
              "    <tr>\n",
              "      <th>1</th>\n",
              "      <td>1253915</td>\n",
              "      <td>2017-07-01 00:01:00</td>\n",
              "      <td>7/1/2017 0:15</td>\n",
              "      <td>837</td>\n",
              "      <td>Fort York  Blvd / Capreol Crt</td>\n",
              "      <td>HTO Park (Queens Quay W)</td>\n",
              "      <td>Casual</td>\n",
              "    </tr>\n",
              "    <tr>\n",
              "      <th>2</th>\n",
              "      <td>1253916</td>\n",
              "      <td>2017-07-01 00:01:00</td>\n",
              "      <td>7/1/2017 0:14</td>\n",
              "      <td>786</td>\n",
              "      <td>Fort York  Blvd / Capreol Crt</td>\n",
              "      <td>HTO Park (Queens Quay W)</td>\n",
              "      <td>Casual</td>\n",
              "    </tr>\n",
              "    <tr>\n",
              "      <th>3</th>\n",
              "      <td>1253917</td>\n",
              "      <td>2017-07-01 00:01:00</td>\n",
              "      <td>7/1/2017 0:25</td>\n",
              "      <td>1420</td>\n",
              "      <td>Elizabeth St / Edward St (Bus Terminal)</td>\n",
              "      <td>Boston Ave / Queen St E</td>\n",
              "      <td>Casual</td>\n",
              "    </tr>\n",
              "    <tr>\n",
              "      <th>4</th>\n",
              "      <td>1253918</td>\n",
              "      <td>2017-07-01 00:01:00</td>\n",
              "      <td>7/1/2017 0:25</td>\n",
              "      <td>1437</td>\n",
              "      <td>Elizabeth St / Edward St (Bus Terminal)</td>\n",
              "      <td>Boston Ave / Queen St E</td>\n",
              "      <td>Casual</td>\n",
              "    </tr>\n",
              "  </tbody>\n",
              "</table>\n",
              "</div>"
            ],
            "text/plain": [
              "   trip_id     trip_start_time  ...           to_station_name  user_type\n",
              "0  1253914 2017-07-01 00:00:00  ...       424 Wellington St W     Member\n",
              "1  1253915 2017-07-01 00:01:00  ...  HTO Park (Queens Quay W)     Casual\n",
              "2  1253916 2017-07-01 00:01:00  ...  HTO Park (Queens Quay W)     Casual\n",
              "3  1253917 2017-07-01 00:01:00  ...   Boston Ave / Queen St E     Casual\n",
              "4  1253918 2017-07-01 00:01:00  ...   Boston Ave / Queen St E     Casual\n",
              "\n",
              "[5 rows x 7 columns]"
            ]
          },
          "metadata": {
            "tags": []
          },
          "execution_count": 533
        }
      ]
    },
    {
      "cell_type": "code",
      "metadata": {
        "id": "1gPPifvArSkj",
        "colab_type": "code",
        "colab": {}
      },
      "source": [
        "df5['trip_start_time'] = pd.to_datetime(df5['trip_start_time'],errors = 'coerce',format = '%m/%d/%Y %H:%M')"
      ],
      "execution_count": 0,
      "outputs": []
    },
    {
      "cell_type": "code",
      "metadata": {
        "id": "ELfJz29X4wjO",
        "colab_type": "code",
        "colab": {}
      },
      "source": [
        "df5['trip_stop_time'] = pd.to_datetime(df5['trip_stop_time'],errors = 'coerce',format = '%m/%d/%Y %H:%M')"
      ],
      "execution_count": 0,
      "outputs": []
    },
    {
      "cell_type": "code",
      "metadata": {
        "id": "2m1PY79UrVyf",
        "colab_type": "code",
        "colab": {
          "base_uri": "https://localhost:8080/",
          "height": 153
        },
        "outputId": "95a1f0a0-254a-42fc-dbff-2c0f5494dca8"
      },
      "source": [
        "df5.isna().sum()"
      ],
      "execution_count": 640,
      "outputs": [
        {
          "output_type": "execute_result",
          "data": {
            "text/plain": [
              "trip_id                  0\n",
              "trip_start_time          0\n",
              "trip_stop_time           0\n",
              "trip_duration_seconds    0\n",
              "from_station_name        0\n",
              "to_station_name          0\n",
              "user_type                0\n",
              "dtype: int64"
            ]
          },
          "metadata": {
            "tags": []
          },
          "execution_count": 640
        }
      ]
    },
    {
      "cell_type": "code",
      "metadata": {
        "id": "GcbLLE28rtv1",
        "colab_type": "code",
        "colab": {
          "base_uri": "https://localhost:8080/",
          "height": 153
        },
        "outputId": "5e9b257b-377a-47b3-94c3-329dd713deb1"
      },
      "source": [
        "df5.dtypes"
      ],
      "execution_count": 641,
      "outputs": [
        {
          "output_type": "execute_result",
          "data": {
            "text/plain": [
              "trip_id                           int64\n",
              "trip_start_time          datetime64[ns]\n",
              "trip_stop_time           datetime64[ns]\n",
              "trip_duration_seconds             int64\n",
              "from_station_name                object\n",
              "to_station_name                  object\n",
              "user_type                        object\n",
              "dtype: object"
            ]
          },
          "metadata": {
            "tags": []
          },
          "execution_count": 641
        }
      ]
    },
    {
      "cell_type": "markdown",
      "metadata": {
        "id": "epKdcrXWDgcR",
        "colab_type": "text"
      },
      "source": [
        "###2017 Quarter 4"
      ]
    },
    {
      "cell_type": "code",
      "metadata": {
        "id": "72XI7H8ADijP",
        "colab_type": "code",
        "colab": {
          "base_uri": "https://localhost:8080/",
          "height": 343
        },
        "outputId": "e86999ee-d8a8-4f0c-b85a-89265c3e0347"
      },
      "source": [
        "df6.head()"
      ],
      "execution_count": 537,
      "outputs": [
        {
          "output_type": "execute_result",
          "data": {
            "text/html": [
              "<div>\n",
              "<style scoped>\n",
              "    .dataframe tbody tr th:only-of-type {\n",
              "        vertical-align: middle;\n",
              "    }\n",
              "\n",
              "    .dataframe tbody tr th {\n",
              "        vertical-align: top;\n",
              "    }\n",
              "\n",
              "    .dataframe thead th {\n",
              "        text-align: right;\n",
              "    }\n",
              "</style>\n",
              "<table border=\"1\" class=\"dataframe\">\n",
              "  <thead>\n",
              "    <tr style=\"text-align: right;\">\n",
              "      <th></th>\n",
              "      <th>trip_id</th>\n",
              "      <th>trip_start_time</th>\n",
              "      <th>trip_stop_time</th>\n",
              "      <th>trip_duration_seconds</th>\n",
              "      <th>from_station_name</th>\n",
              "      <th>to_station_name</th>\n",
              "      <th>user_type</th>\n",
              "    </tr>\n",
              "  </thead>\n",
              "  <tbody>\n",
              "    <tr>\n",
              "      <th>0</th>\n",
              "      <td>1971685</td>\n",
              "      <td>2017-10-01 00:00:01</td>\n",
              "      <td>10/01/17 00:14:10</td>\n",
              "      <td>849</td>\n",
              "      <td>Queen St W / James St</td>\n",
              "      <td>Taddle Creek Park</td>\n",
              "      <td>Member</td>\n",
              "    </tr>\n",
              "    <tr>\n",
              "      <th>1</th>\n",
              "      <td>1971686</td>\n",
              "      <td>2017-10-01 00:00:01</td>\n",
              "      <td>10/01/17 00:00:27</td>\n",
              "      <td>26</td>\n",
              "      <td>Stewart St / Bathurst St  - SMART</td>\n",
              "      <td>Stewart St / Bathurst St  - SMART</td>\n",
              "      <td>Casual</td>\n",
              "    </tr>\n",
              "    <tr>\n",
              "      <th>2</th>\n",
              "      <td>1971687</td>\n",
              "      <td>2017-10-01 00:00:22</td>\n",
              "      <td>10/01/17 00:22:12</td>\n",
              "      <td>1310</td>\n",
              "      <td>Hayter St / Laplante Ave</td>\n",
              "      <td>Queen St W / Portland St</td>\n",
              "      <td>Member</td>\n",
              "    </tr>\n",
              "    <tr>\n",
              "      <th>3</th>\n",
              "      <td>1971688</td>\n",
              "      <td>2017-10-01 00:00:38</td>\n",
              "      <td>10/01/17 00:11:09</td>\n",
              "      <td>631</td>\n",
              "      <td>Beverly St / College St</td>\n",
              "      <td>Beverly  St / Dundas St W</td>\n",
              "      <td>Member</td>\n",
              "    </tr>\n",
              "    <tr>\n",
              "      <th>4</th>\n",
              "      <td>1971689</td>\n",
              "      <td>2017-10-01 00:00:55</td>\n",
              "      <td>10/01/17 00:20:53</td>\n",
              "      <td>1198</td>\n",
              "      <td>Thompson St / Broadview Ave - SMART</td>\n",
              "      <td>Thompson St / Broadview Ave - SMART</td>\n",
              "      <td>Member</td>\n",
              "    </tr>\n",
              "  </tbody>\n",
              "</table>\n",
              "</div>"
            ],
            "text/plain": [
              "   trip_id     trip_start_time  ...                      to_station_name  user_type\n",
              "0  1971685 2017-10-01 00:00:01  ...                    Taddle Creek Park     Member\n",
              "1  1971686 2017-10-01 00:00:01  ...    Stewart St / Bathurst St  - SMART     Casual\n",
              "2  1971687 2017-10-01 00:00:22  ...             Queen St W / Portland St     Member\n",
              "3  1971688 2017-10-01 00:00:38  ...            Beverly  St / Dundas St W     Member\n",
              "4  1971689 2017-10-01 00:00:55  ...  Thompson St / Broadview Ave - SMART     Member\n",
              "\n",
              "[5 rows x 7 columns]"
            ]
          },
          "metadata": {
            "tags": []
          },
          "execution_count": 537
        }
      ]
    },
    {
      "cell_type": "code",
      "metadata": {
        "id": "PKgwRsgXrx0E",
        "colab_type": "code",
        "colab": {}
      },
      "source": [
        "df6['trip_start_time'] = pd.to_datetime(df6['trip_start_time'],errors = 'coerce',format = '%m/%d/%y %H:%M:%S')"
      ],
      "execution_count": 0,
      "outputs": []
    },
    {
      "cell_type": "code",
      "metadata": {
        "id": "gvUHeDsr42cJ",
        "colab_type": "code",
        "colab": {}
      },
      "source": [
        "df6['trip_stop_time'] = pd.to_datetime(df6['trip_stop_time'],errors = 'coerce',format = '%m/%d/%y %H:%M:%S')"
      ],
      "execution_count": 0,
      "outputs": []
    },
    {
      "cell_type": "code",
      "metadata": {
        "id": "oPRvqhVz6DNg",
        "colab_type": "code",
        "colab": {
          "base_uri": "https://localhost:8080/",
          "height": 153
        },
        "outputId": "c21df5e9-1834-4ece-89c7-42eaeab3d5fa"
      },
      "source": [
        "df6.isna().sum()"
      ],
      "execution_count": 654,
      "outputs": [
        {
          "output_type": "execute_result",
          "data": {
            "text/plain": [
              "trip_id                  0\n",
              "trip_start_time          0\n",
              "trip_stop_time           1\n",
              "trip_duration_seconds    0\n",
              "from_station_name        0\n",
              "to_station_name          1\n",
              "user_type                0\n",
              "dtype: int64"
            ]
          },
          "metadata": {
            "tags": []
          },
          "execution_count": 654
        }
      ]
    },
    {
      "cell_type": "code",
      "metadata": {
        "id": "4-TJDQ58sHzG",
        "colab_type": "code",
        "colab": {
          "base_uri": "https://localhost:8080/",
          "height": 153
        },
        "outputId": "365d0556-9a4d-460a-99e8-f3a0a1667efe"
      },
      "source": [
        "df6.dtypes"
      ],
      "execution_count": 655,
      "outputs": [
        {
          "output_type": "execute_result",
          "data": {
            "text/plain": [
              "trip_id                           int64\n",
              "trip_start_time          datetime64[ns]\n",
              "trip_stop_time           datetime64[ns]\n",
              "trip_duration_seconds             int64\n",
              "from_station_name                object\n",
              "to_station_name                  object\n",
              "user_type                        object\n",
              "dtype: object"
            ]
          },
          "metadata": {
            "tags": []
          },
          "execution_count": 655
        }
      ]
    },
    {
      "cell_type": "markdown",
      "metadata": {
        "id": "RGJNBWa8DjRk",
        "colab_type": "text"
      },
      "source": [
        "###2018 Quarter 1"
      ]
    },
    {
      "cell_type": "code",
      "metadata": {
        "id": "1qAX0v5xDlvX",
        "colab_type": "code",
        "colab": {
          "base_uri": "https://localhost:8080/",
          "height": 309
        },
        "outputId": "a9b7ec63-c283-4274-e977-334bd2e8a137"
      },
      "source": [
        "df7.head()"
      ],
      "execution_count": 540,
      "outputs": [
        {
          "output_type": "execute_result",
          "data": {
            "text/html": [
              "<div>\n",
              "<style scoped>\n",
              "    .dataframe tbody tr th:only-of-type {\n",
              "        vertical-align: middle;\n",
              "    }\n",
              "\n",
              "    .dataframe tbody tr th {\n",
              "        vertical-align: top;\n",
              "    }\n",
              "\n",
              "    .dataframe thead th {\n",
              "        text-align: right;\n",
              "    }\n",
              "</style>\n",
              "<table border=\"1\" class=\"dataframe\">\n",
              "  <thead>\n",
              "    <tr style=\"text-align: right;\">\n",
              "      <th></th>\n",
              "      <th>trip_id</th>\n",
              "      <th>trip_duration_seconds</th>\n",
              "      <th>from_station_id</th>\n",
              "      <th>trip_start_time</th>\n",
              "      <th>from_station_name</th>\n",
              "      <th>trip_stop_time</th>\n",
              "      <th>to_station_id</th>\n",
              "      <th>to_station_name</th>\n",
              "      <th>user_type</th>\n",
              "    </tr>\n",
              "  </thead>\n",
              "  <tbody>\n",
              "    <tr>\n",
              "      <th>0</th>\n",
              "      <td>2383648</td>\n",
              "      <td>393</td>\n",
              "      <td>7018</td>\n",
              "      <td>2018-01-01 00:47:00</td>\n",
              "      <td>Bremner Blvd / Rees St</td>\n",
              "      <td>1/1/2018 0:54</td>\n",
              "      <td>7176</td>\n",
              "      <td>Bathurst St / Fort York Blvd</td>\n",
              "      <td>Annual Member</td>\n",
              "    </tr>\n",
              "    <tr>\n",
              "      <th>1</th>\n",
              "      <td>2383649</td>\n",
              "      <td>625</td>\n",
              "      <td>7184</td>\n",
              "      <td>2018-01-01 00:52:00</td>\n",
              "      <td>Ossington Ave / College St</td>\n",
              "      <td>1/1/2018 1:03</td>\n",
              "      <td>7191</td>\n",
              "      <td>Central Tech  (Harbord St)</td>\n",
              "      <td>Annual Member</td>\n",
              "    </tr>\n",
              "    <tr>\n",
              "      <th>2</th>\n",
              "      <td>2383650</td>\n",
              "      <td>233</td>\n",
              "      <td>7235</td>\n",
              "      <td>2018-01-01 00:55:00</td>\n",
              "      <td>Bay St / College St (West Side) - SMART</td>\n",
              "      <td>1/1/2018 0:59</td>\n",
              "      <td>7021</td>\n",
              "      <td>Bay St / Albert St</td>\n",
              "      <td>Annual Member</td>\n",
              "    </tr>\n",
              "    <tr>\n",
              "      <th>3</th>\n",
              "      <td>2383651</td>\n",
              "      <td>1138</td>\n",
              "      <td>7202</td>\n",
              "      <td>2018-01-01 00:57:00</td>\n",
              "      <td>Queen St W / York St (City Hall)</td>\n",
              "      <td>1/1/2018 1:16</td>\n",
              "      <td>7020</td>\n",
              "      <td>Phoebe St / Spadina Ave</td>\n",
              "      <td>Annual Member</td>\n",
              "    </tr>\n",
              "    <tr>\n",
              "      <th>4</th>\n",
              "      <td>2383652</td>\n",
              "      <td>703</td>\n",
              "      <td>7004</td>\n",
              "      <td>2018-01-01 01:00:00</td>\n",
              "      <td>University Ave / Elm St</td>\n",
              "      <td>1/1/2018 1:12</td>\n",
              "      <td>7060</td>\n",
              "      <td>Princess St / Adelaide St E</td>\n",
              "      <td>Annual Member</td>\n",
              "    </tr>\n",
              "  </tbody>\n",
              "</table>\n",
              "</div>"
            ],
            "text/plain": [
              "   trip_id  trip_duration_seconds  ...               to_station_name      user_type\n",
              "0  2383648                    393  ...  Bathurst St / Fort York Blvd  Annual Member\n",
              "1  2383649                    625  ...    Central Tech  (Harbord St)  Annual Member\n",
              "2  2383650                    233  ...            Bay St / Albert St  Annual Member\n",
              "3  2383651                   1138  ...       Phoebe St / Spadina Ave  Annual Member\n",
              "4  2383652                    703  ...   Princess St / Adelaide St E  Annual Member\n",
              "\n",
              "[5 rows x 9 columns]"
            ]
          },
          "metadata": {
            "tags": []
          },
          "execution_count": 540
        }
      ]
    },
    {
      "cell_type": "code",
      "metadata": {
        "id": "7pVzr32IsSUN",
        "colab_type": "code",
        "colab": {}
      },
      "source": [
        "df7['trip_start_time'] = pd.to_datetime(df7['trip_start_time'],errors = 'coerce',format = '%m/%d/%Y %H:%M')"
      ],
      "execution_count": 0,
      "outputs": []
    },
    {
      "cell_type": "code",
      "metadata": {
        "id": "9X9vaJZa6UR3",
        "colab_type": "code",
        "colab": {}
      },
      "source": [
        "df7['trip_stop_time'] = pd.to_datetime(df7['trip_stop_time'],errors = 'coerce',format = '%m/%d/%Y %H:%M')"
      ],
      "execution_count": 0,
      "outputs": []
    },
    {
      "cell_type": "code",
      "metadata": {
        "id": "Aj1qW6tdsfD2",
        "colab_type": "code",
        "colab": {
          "base_uri": "https://localhost:8080/",
          "height": 187
        },
        "outputId": "5df4b53a-0bc0-4652-813c-2b20bbc79746"
      },
      "source": [
        "df7.isna().sum()"
      ],
      "execution_count": 657,
      "outputs": [
        {
          "output_type": "execute_result",
          "data": {
            "text/plain": [
              "trip_id                  0\n",
              "trip_duration_seconds    0\n",
              "from_station_id          0\n",
              "trip_start_time          0\n",
              "from_station_name        0\n",
              "trip_stop_time           0\n",
              "to_station_id            0\n",
              "to_station_name          0\n",
              "user_type                0\n",
              "dtype: int64"
            ]
          },
          "metadata": {
            "tags": []
          },
          "execution_count": 657
        }
      ]
    },
    {
      "cell_type": "code",
      "metadata": {
        "id": "xu8xt-n5sipr",
        "colab_type": "code",
        "colab": {
          "base_uri": "https://localhost:8080/",
          "height": 187
        },
        "outputId": "f2f6b476-6544-4e91-f196-52a4835e795a"
      },
      "source": [
        "df7.dtypes"
      ],
      "execution_count": 658,
      "outputs": [
        {
          "output_type": "execute_result",
          "data": {
            "text/plain": [
              "trip_id                           int64\n",
              "trip_duration_seconds             int64\n",
              "from_station_id                   int64\n",
              "trip_start_time          datetime64[ns]\n",
              "from_station_name                object\n",
              "trip_stop_time           datetime64[ns]\n",
              "to_station_id                     int64\n",
              "to_station_name                  object\n",
              "user_type                        object\n",
              "dtype: object"
            ]
          },
          "metadata": {
            "tags": []
          },
          "execution_count": 658
        }
      ]
    },
    {
      "cell_type": "markdown",
      "metadata": {
        "id": "p06BxRvtDmXv",
        "colab_type": "text"
      },
      "source": [
        "###2018 Quarter 2"
      ]
    },
    {
      "cell_type": "code",
      "metadata": {
        "id": "cdd1-8mHDn-u",
        "colab_type": "code",
        "colab": {
          "base_uri": "https://localhost:8080/",
          "height": 326
        },
        "outputId": "a45606f3-74e8-482a-d4ab-10321b5bd19f"
      },
      "source": [
        "df8.head()"
      ],
      "execution_count": 543,
      "outputs": [
        {
          "output_type": "execute_result",
          "data": {
            "text/html": [
              "<div>\n",
              "<style scoped>\n",
              "    .dataframe tbody tr th:only-of-type {\n",
              "        vertical-align: middle;\n",
              "    }\n",
              "\n",
              "    .dataframe tbody tr th {\n",
              "        vertical-align: top;\n",
              "    }\n",
              "\n",
              "    .dataframe thead th {\n",
              "        text-align: right;\n",
              "    }\n",
              "</style>\n",
              "<table border=\"1\" class=\"dataframe\">\n",
              "  <thead>\n",
              "    <tr style=\"text-align: right;\">\n",
              "      <th></th>\n",
              "      <th>trip_id</th>\n",
              "      <th>trip_duration_seconds</th>\n",
              "      <th>from_station_id</th>\n",
              "      <th>trip_start_time</th>\n",
              "      <th>from_station_name</th>\n",
              "      <th>trip_stop_time</th>\n",
              "      <th>to_station_id</th>\n",
              "      <th>to_station_name</th>\n",
              "      <th>user_type</th>\n",
              "    </tr>\n",
              "  </thead>\n",
              "  <tbody>\n",
              "    <tr>\n",
              "      <th>0</th>\n",
              "      <td>2605025</td>\n",
              "      <td>1666</td>\n",
              "      <td>7000</td>\n",
              "      <td>2018-04-01 00:01:00</td>\n",
              "      <td>Fort York  Blvd / Capreol Ct</td>\n",
              "      <td>4/1/2018 0:29</td>\n",
              "      <td>7150</td>\n",
              "      <td>Dufferin St / Sylvan Av (Dufferin Grove Park)</td>\n",
              "      <td>Annual Member</td>\n",
              "    </tr>\n",
              "    <tr>\n",
              "      <th>1</th>\n",
              "      <td>2605024</td>\n",
              "      <td>247</td>\n",
              "      <td>7051</td>\n",
              "      <td>2018-04-01 00:01:00</td>\n",
              "      <td>Wellesley St E / Yonge St (Green P)</td>\n",
              "      <td>4/1/2018 0:05</td>\n",
              "      <td>7042</td>\n",
              "      <td>Sherbourne St / Wellesley St E</td>\n",
              "      <td>Annual Member</td>\n",
              "    </tr>\n",
              "    <tr>\n",
              "      <th>2</th>\n",
              "      <td>2605026</td>\n",
              "      <td>2032</td>\n",
              "      <td>7062</td>\n",
              "      <td>2018-04-01 00:03:00</td>\n",
              "      <td>University Ave / College St (West)</td>\n",
              "      <td>4/1/2018 0:37</td>\n",
              "      <td>7056</td>\n",
              "      <td>Parliament St / Gerrard St</td>\n",
              "      <td>Annual Member</td>\n",
              "    </tr>\n",
              "    <tr>\n",
              "      <th>3</th>\n",
              "      <td>2605027</td>\n",
              "      <td>531</td>\n",
              "      <td>7063</td>\n",
              "      <td>2018-04-01 00:03:00</td>\n",
              "      <td>Queen's Park / Bloor St W</td>\n",
              "      <td>4/1/2018 0:12</td>\n",
              "      <td>7143</td>\n",
              "      <td>Kendal Ave / Bernard Ave</td>\n",
              "      <td>Annual Member</td>\n",
              "    </tr>\n",
              "    <tr>\n",
              "      <th>4</th>\n",
              "      <td>2605028</td>\n",
              "      <td>642</td>\n",
              "      <td>7199</td>\n",
              "      <td>2018-04-01 00:05:00</td>\n",
              "      <td>College St / Markham St</td>\n",
              "      <td>4/1/2018 0:15</td>\n",
              "      <td>7004</td>\n",
              "      <td>University Ave / Elm St</td>\n",
              "      <td>Annual Member</td>\n",
              "    </tr>\n",
              "  </tbody>\n",
              "</table>\n",
              "</div>"
            ],
            "text/plain": [
              "   trip_id  ...      user_type\n",
              "0  2605025  ...  Annual Member\n",
              "1  2605024  ...  Annual Member\n",
              "2  2605026  ...  Annual Member\n",
              "3  2605027  ...  Annual Member\n",
              "4  2605028  ...  Annual Member\n",
              "\n",
              "[5 rows x 9 columns]"
            ]
          },
          "metadata": {
            "tags": []
          },
          "execution_count": 543
        }
      ]
    },
    {
      "cell_type": "code",
      "metadata": {
        "id": "yzjrUUBXsr2t",
        "colab_type": "code",
        "colab": {}
      },
      "source": [
        "df8['trip_start_time'] = pd.to_datetime(df8['trip_start_time'],errors = 'coerce',format = '%m/%d/%Y %H:%M')"
      ],
      "execution_count": 0,
      "outputs": []
    },
    {
      "cell_type": "code",
      "metadata": {
        "id": "hTau8R-g6aX7",
        "colab_type": "code",
        "colab": {}
      },
      "source": [
        "df8['trip_stop_time'] = pd.to_datetime(df8['trip_stop_time'],errors = 'coerce',format = '%m/%d/%Y %H:%M')"
      ],
      "execution_count": 0,
      "outputs": []
    },
    {
      "cell_type": "code",
      "metadata": {
        "id": "3D90FmDws0lf",
        "colab_type": "code",
        "colab": {
          "base_uri": "https://localhost:8080/",
          "height": 187
        },
        "outputId": "5f9f9264-a64c-47c1-b178-ba2fc27a1e5b"
      },
      "source": [
        "df8.isna().sum()"
      ],
      "execution_count": 660,
      "outputs": [
        {
          "output_type": "execute_result",
          "data": {
            "text/plain": [
              "trip_id                  0\n",
              "trip_duration_seconds    0\n",
              "from_station_id          0\n",
              "trip_start_time          0\n",
              "from_station_name        0\n",
              "trip_stop_time           0\n",
              "to_station_id            0\n",
              "to_station_name          0\n",
              "user_type                0\n",
              "dtype: int64"
            ]
          },
          "metadata": {
            "tags": []
          },
          "execution_count": 660
        }
      ]
    },
    {
      "cell_type": "code",
      "metadata": {
        "id": "pSLCl1wJs6Lu",
        "colab_type": "code",
        "colab": {
          "base_uri": "https://localhost:8080/",
          "height": 187
        },
        "outputId": "84edd5f9-935e-431b-f0d7-57c51eede2a7"
      },
      "source": [
        "df8.dtypes"
      ],
      "execution_count": 661,
      "outputs": [
        {
          "output_type": "execute_result",
          "data": {
            "text/plain": [
              "trip_id                           int64\n",
              "trip_duration_seconds             int64\n",
              "from_station_id                   int64\n",
              "trip_start_time          datetime64[ns]\n",
              "from_station_name                object\n",
              "trip_stop_time           datetime64[ns]\n",
              "to_station_id                     int64\n",
              "to_station_name                  object\n",
              "user_type                        object\n",
              "dtype: object"
            ]
          },
          "metadata": {
            "tags": []
          },
          "execution_count": 661
        }
      ]
    },
    {
      "cell_type": "markdown",
      "metadata": {
        "id": "cJBk1hmoDocA",
        "colab_type": "text"
      },
      "source": [
        "###2018 Quarter 3"
      ]
    },
    {
      "cell_type": "code",
      "metadata": {
        "id": "jOMzIQJDDqrY",
        "colab_type": "code",
        "colab": {
          "base_uri": "https://localhost:8080/",
          "height": 326
        },
        "outputId": "c284cb99-bf84-4dfc-d660-8287489885da"
      },
      "source": [
        "df9.head()"
      ],
      "execution_count": 546,
      "outputs": [
        {
          "output_type": "execute_result",
          "data": {
            "text/html": [
              "<div>\n",
              "<style scoped>\n",
              "    .dataframe tbody tr th:only-of-type {\n",
              "        vertical-align: middle;\n",
              "    }\n",
              "\n",
              "    .dataframe tbody tr th {\n",
              "        vertical-align: top;\n",
              "    }\n",
              "\n",
              "    .dataframe thead th {\n",
              "        text-align: right;\n",
              "    }\n",
              "</style>\n",
              "<table border=\"1\" class=\"dataframe\">\n",
              "  <thead>\n",
              "    <tr style=\"text-align: right;\">\n",
              "      <th></th>\n",
              "      <th>trip_id</th>\n",
              "      <th>trip_duration_seconds</th>\n",
              "      <th>from_station_id</th>\n",
              "      <th>trip_start_time</th>\n",
              "      <th>from_station_name</th>\n",
              "      <th>trip_stop_time</th>\n",
              "      <th>to_station_id</th>\n",
              "      <th>to_station_name</th>\n",
              "      <th>user_type</th>\n",
              "    </tr>\n",
              "  </thead>\n",
              "  <tbody>\n",
              "    <tr>\n",
              "      <th>0</th>\n",
              "      <td>3244396</td>\n",
              "      <td>528</td>\n",
              "      <td>7254</td>\n",
              "      <td>2018-07-01 00:00:00</td>\n",
              "      <td>Borden St / Bloor St W - SMART</td>\n",
              "      <td>7/1/2018 0:08</td>\n",
              "      <td>7140</td>\n",
              "      <td>Macpherson Ave / Spadina Rd</td>\n",
              "      <td>Annual Member</td>\n",
              "    </tr>\n",
              "    <tr>\n",
              "      <th>1</th>\n",
              "      <td>3244398</td>\n",
              "      <td>570</td>\n",
              "      <td>7031</td>\n",
              "      <td>2018-07-01 00:00:00</td>\n",
              "      <td>Jarvis St / Isabella St</td>\n",
              "      <td>7/1/2018 0:09</td>\n",
              "      <td>7167</td>\n",
              "      <td>Queen St E / George St (Moss Park)</td>\n",
              "      <td>Annual Member</td>\n",
              "    </tr>\n",
              "    <tr>\n",
              "      <th>2</th>\n",
              "      <td>3244397</td>\n",
              "      <td>368</td>\n",
              "      <td>7286</td>\n",
              "      <td>2018-07-01 00:00:00</td>\n",
              "      <td>Gerrard St E / Broadview - SMART</td>\n",
              "      <td>7/1/2018 0:06</td>\n",
              "      <td>7286</td>\n",
              "      <td>Gerrard St E / Broadview - SMART</td>\n",
              "      <td>Casual Member</td>\n",
              "    </tr>\n",
              "    <tr>\n",
              "      <th>3</th>\n",
              "      <td>3244399</td>\n",
              "      <td>1147</td>\n",
              "      <td>7248</td>\n",
              "      <td>2018-07-01 00:00:00</td>\n",
              "      <td>Baldwin Ave / Spadina Ave - SMART</td>\n",
              "      <td>7/1/2018 0:19</td>\n",
              "      <td>7020</td>\n",
              "      <td>Phoebe St / Spadina Ave</td>\n",
              "      <td>Annual Member</td>\n",
              "    </tr>\n",
              "    <tr>\n",
              "      <th>4</th>\n",
              "      <td>3244400</td>\n",
              "      <td>730</td>\n",
              "      <td>7207</td>\n",
              "      <td>2018-07-01 00:02:00</td>\n",
              "      <td>Dundas St W / Crawford St</td>\n",
              "      <td>7/1/2018 0:14</td>\n",
              "      <td>7000</td>\n",
              "      <td>Fort York  Blvd / Capreol Ct</td>\n",
              "      <td>Annual Member</td>\n",
              "    </tr>\n",
              "  </tbody>\n",
              "</table>\n",
              "</div>"
            ],
            "text/plain": [
              "   trip_id  ...      user_type\n",
              "0  3244396  ...  Annual Member\n",
              "1  3244398  ...  Annual Member\n",
              "2  3244397  ...  Casual Member\n",
              "3  3244399  ...  Annual Member\n",
              "4  3244400  ...  Annual Member\n",
              "\n",
              "[5 rows x 9 columns]"
            ]
          },
          "metadata": {
            "tags": []
          },
          "execution_count": 546
        }
      ]
    },
    {
      "cell_type": "code",
      "metadata": {
        "id": "qP4mN7a9s8TM",
        "colab_type": "code",
        "colab": {}
      },
      "source": [
        "df9['trip_start_time'] = pd.to_datetime(df9['trip_start_time'],errors = 'coerce',format = '%m/%d/%Y %H:%M')"
      ],
      "execution_count": 0,
      "outputs": []
    },
    {
      "cell_type": "code",
      "metadata": {
        "id": "YZKVDnLJ6gFh",
        "colab_type": "code",
        "colab": {}
      },
      "source": [
        "df9['trip_stop_time'] = pd.to_datetime(df9['trip_stop_time'],errors = 'coerce',format = '%m/%d/%Y %H:%M')"
      ],
      "execution_count": 0,
      "outputs": []
    },
    {
      "cell_type": "code",
      "metadata": {
        "id": "JdD4OX4atF-w",
        "colab_type": "code",
        "colab": {
          "base_uri": "https://localhost:8080/",
          "height": 187
        },
        "outputId": "0eeed186-eb7e-4404-f3f8-cf67df01f8fb"
      },
      "source": [
        "df9.isna().sum()"
      ],
      "execution_count": 663,
      "outputs": [
        {
          "output_type": "execute_result",
          "data": {
            "text/plain": [
              "trip_id                  0\n",
              "trip_duration_seconds    0\n",
              "from_station_id          0\n",
              "trip_start_time          0\n",
              "from_station_name        0\n",
              "trip_stop_time           0\n",
              "to_station_id            0\n",
              "to_station_name          0\n",
              "user_type                0\n",
              "dtype: int64"
            ]
          },
          "metadata": {
            "tags": []
          },
          "execution_count": 663
        }
      ]
    },
    {
      "cell_type": "code",
      "metadata": {
        "id": "N4zYIw5ctI4E",
        "colab_type": "code",
        "colab": {
          "base_uri": "https://localhost:8080/",
          "height": 187
        },
        "outputId": "2eb05517-adb8-4507-fb54-5809c57988cb"
      },
      "source": [
        "df9.dtypes"
      ],
      "execution_count": 664,
      "outputs": [
        {
          "output_type": "execute_result",
          "data": {
            "text/plain": [
              "trip_id                           int64\n",
              "trip_duration_seconds             int64\n",
              "from_station_id                   int64\n",
              "trip_start_time          datetime64[ns]\n",
              "from_station_name                object\n",
              "trip_stop_time           datetime64[ns]\n",
              "to_station_id                     int64\n",
              "to_station_name                  object\n",
              "user_type                        object\n",
              "dtype: object"
            ]
          },
          "metadata": {
            "tags": []
          },
          "execution_count": 664
        }
      ]
    },
    {
      "cell_type": "markdown",
      "metadata": {
        "id": "klYl4IjPDrKN",
        "colab_type": "text"
      },
      "source": [
        "###2018 Quarter 4"
      ]
    },
    {
      "cell_type": "code",
      "metadata": {
        "id": "e9qYHynBDs8G",
        "colab_type": "code",
        "colab": {
          "base_uri": "https://localhost:8080/",
          "height": 326
        },
        "outputId": "f2c2bfb3-a202-4a54-a6b6-b3c942272ffb"
      },
      "source": [
        "df10.head()"
      ],
      "execution_count": 549,
      "outputs": [
        {
          "output_type": "execute_result",
          "data": {
            "text/html": [
              "<div>\n",
              "<style scoped>\n",
              "    .dataframe tbody tr th:only-of-type {\n",
              "        vertical-align: middle;\n",
              "    }\n",
              "\n",
              "    .dataframe tbody tr th {\n",
              "        vertical-align: top;\n",
              "    }\n",
              "\n",
              "    .dataframe thead th {\n",
              "        text-align: right;\n",
              "    }\n",
              "</style>\n",
              "<table border=\"1\" class=\"dataframe\">\n",
              "  <thead>\n",
              "    <tr style=\"text-align: right;\">\n",
              "      <th></th>\n",
              "      <th>trip_id</th>\n",
              "      <th>trip_duration_seconds</th>\n",
              "      <th>from_station_id</th>\n",
              "      <th>trip_start_time</th>\n",
              "      <th>from_station_name</th>\n",
              "      <th>trip_stop_time</th>\n",
              "      <th>to_station_id</th>\n",
              "      <th>to_station_name</th>\n",
              "      <th>user_type</th>\n",
              "    </tr>\n",
              "  </thead>\n",
              "  <tbody>\n",
              "    <tr>\n",
              "      <th>0</th>\n",
              "      <td>4158592</td>\n",
              "      <td>749</td>\n",
              "      <td>7061</td>\n",
              "      <td>2018-10-01 00:01:00</td>\n",
              "      <td>Dalton Rd / Bloor St W</td>\n",
              "      <td>10/1/2018 0:14</td>\n",
              "      <td>7042</td>\n",
              "      <td>Sherbourne St / Wellesley St E</td>\n",
              "      <td>Annual Member</td>\n",
              "    </tr>\n",
              "    <tr>\n",
              "      <th>1</th>\n",
              "      <td>4158593</td>\n",
              "      <td>433</td>\n",
              "      <td>7003</td>\n",
              "      <td>2018-10-01 00:06:00</td>\n",
              "      <td>Madison Ave / Bloor St W</td>\n",
              "      <td>10/1/2018 0:13</td>\n",
              "      <td>7280</td>\n",
              "      <td>Charles St E / Jarvis St - SMART</td>\n",
              "      <td>Annual Member</td>\n",
              "    </tr>\n",
              "    <tr>\n",
              "      <th>2</th>\n",
              "      <td>4158594</td>\n",
              "      <td>285</td>\n",
              "      <td>7024</td>\n",
              "      <td>2018-10-01 00:14:00</td>\n",
              "      <td>Dundonald St / Church St</td>\n",
              "      <td>10/1/2018 0:19</td>\n",
              "      <td>7028</td>\n",
              "      <td>Gould St / Mutual St</td>\n",
              "      <td>Annual Member</td>\n",
              "    </tr>\n",
              "    <tr>\n",
              "      <th>3</th>\n",
              "      <td>4158595</td>\n",
              "      <td>150</td>\n",
              "      <td>7190</td>\n",
              "      <td>2018-10-01 00:16:00</td>\n",
              "      <td>St. George St / Hoskin Ave</td>\n",
              "      <td>10/1/2018 0:18</td>\n",
              "      <td>7161</td>\n",
              "      <td>Beverley St / College St</td>\n",
              "      <td>Annual Member</td>\n",
              "    </tr>\n",
              "    <tr>\n",
              "      <th>4</th>\n",
              "      <td>4158596</td>\n",
              "      <td>744</td>\n",
              "      <td>7265</td>\n",
              "      <td>2018-10-01 00:21:00</td>\n",
              "      <td>Wallace Ave / Symington Ave - SMART</td>\n",
              "      <td>10/1/2018 0:33</td>\n",
              "      <td>7136</td>\n",
              "      <td>Queen St W / Close Ave</td>\n",
              "      <td>Annual Member</td>\n",
              "    </tr>\n",
              "  </tbody>\n",
              "</table>\n",
              "</div>"
            ],
            "text/plain": [
              "   trip_id  ...      user_type\n",
              "0  4158592  ...  Annual Member\n",
              "1  4158593  ...  Annual Member\n",
              "2  4158594  ...  Annual Member\n",
              "3  4158595  ...  Annual Member\n",
              "4  4158596  ...  Annual Member\n",
              "\n",
              "[5 rows x 9 columns]"
            ]
          },
          "metadata": {
            "tags": []
          },
          "execution_count": 549
        }
      ]
    },
    {
      "cell_type": "code",
      "metadata": {
        "id": "ZzH34BWOtNTI",
        "colab_type": "code",
        "colab": {}
      },
      "source": [
        "df10['trip_start_time'] = pd.to_datetime(df10['trip_start_time'],errors = 'coerce',format = '%m/%d/%Y %H:%M')"
      ],
      "execution_count": 0,
      "outputs": []
    },
    {
      "cell_type": "code",
      "metadata": {
        "id": "R1QBa0Is6mbv",
        "colab_type": "code",
        "colab": {}
      },
      "source": [
        "df10['trip_stop_time'] = pd.to_datetime(df10['trip_stop_time'],errors = 'coerce',format = '%m/%d/%Y %H:%M')"
      ],
      "execution_count": 0,
      "outputs": []
    },
    {
      "cell_type": "code",
      "metadata": {
        "id": "StQUWTV9tYCq",
        "colab_type": "code",
        "colab": {
          "base_uri": "https://localhost:8080/",
          "height": 187
        },
        "outputId": "0b0434ff-933d-4d21-cdc8-7131b1a5babb"
      },
      "source": [
        "df10.isna().sum()"
      ],
      "execution_count": 666,
      "outputs": [
        {
          "output_type": "execute_result",
          "data": {
            "text/plain": [
              "trip_id                  0\n",
              "trip_duration_seconds    0\n",
              "from_station_id          0\n",
              "trip_start_time          0\n",
              "from_station_name        0\n",
              "trip_stop_time           0\n",
              "to_station_id            0\n",
              "to_station_name          0\n",
              "user_type                0\n",
              "dtype: int64"
            ]
          },
          "metadata": {
            "tags": []
          },
          "execution_count": 666
        }
      ]
    },
    {
      "cell_type": "code",
      "metadata": {
        "id": "_JQxrwMYtaZ0",
        "colab_type": "code",
        "colab": {
          "base_uri": "https://localhost:8080/",
          "height": 187
        },
        "outputId": "39344d20-2214-4381-f389-b9fb19e2422d"
      },
      "source": [
        "df10.dtypes"
      ],
      "execution_count": 667,
      "outputs": [
        {
          "output_type": "execute_result",
          "data": {
            "text/plain": [
              "trip_id                           int64\n",
              "trip_duration_seconds             int64\n",
              "from_station_id                   int64\n",
              "trip_start_time          datetime64[ns]\n",
              "from_station_name                object\n",
              "trip_stop_time           datetime64[ns]\n",
              "to_station_id                     int64\n",
              "to_station_name                  object\n",
              "user_type                        object\n",
              "dtype: object"
            ]
          },
          "metadata": {
            "tags": []
          },
          "execution_count": 667
        }
      ]
    },
    {
      "cell_type": "markdown",
      "metadata": {
        "id": "LuhdSFX3hE4I",
        "colab_type": "text"
      },
      "source": [
        "##Merging all Dataframes into 1"
      ]
    },
    {
      "cell_type": "code",
      "metadata": {
        "id": "Q0AmUXvGtiWn",
        "colab_type": "code",
        "colab": {
          "base_uri": "https://localhost:8080/",
          "height": 68
        },
        "outputId": "f01c07c0-a79e-41a8-c906-7518277969f0"
      },
      "source": [
        "#looking for differences in columns of each dataframe \n",
        "df.columns"
      ],
      "execution_count": 504,
      "outputs": [
        {
          "output_type": "execute_result",
          "data": {
            "text/plain": [
              "Index(['trip_id', 'trip_start_time', 'trip_stop_time', 'trip_duration_seconds',\n",
              "       'from_station_name', 'to_station_name', 'user_type'],\n",
              "      dtype='object')"
            ]
          },
          "metadata": {
            "tags": []
          },
          "execution_count": 504
        }
      ]
    },
    {
      "cell_type": "code",
      "metadata": {
        "id": "_vk4GiAztp6o",
        "colab_type": "code",
        "colab": {
          "base_uri": "https://localhost:8080/",
          "height": 68
        },
        "outputId": "4d033243-41ee-434e-b6a7-60689dbfbe4f"
      },
      "source": [
        "df2.columns"
      ],
      "execution_count": 505,
      "outputs": [
        {
          "output_type": "execute_result",
          "data": {
            "text/plain": [
              "Index(['trip_id', 'trip_start_time', 'trip_stop_time', 'trip_duration_seconds',\n",
              "       'from_station_name', 'to_station_name', 'user_type'],\n",
              "      dtype='object')"
            ]
          },
          "metadata": {
            "tags": []
          },
          "execution_count": 505
        }
      ]
    },
    {
      "cell_type": "code",
      "metadata": {
        "id": "vw-zANvVts3H",
        "colab_type": "code",
        "colab": {
          "base_uri": "https://localhost:8080/",
          "height": 85
        },
        "outputId": "fb1eaf03-c70d-4d6c-93a6-adb4cb14fc6f"
      },
      "source": [
        "df3.columns"
      ],
      "execution_count": 506,
      "outputs": [
        {
          "output_type": "execute_result",
          "data": {
            "text/plain": [
              "Index(['trip_id', 'trip_start_time', 'trip_stop_time', 'trip_duration_seconds',\n",
              "       'from_station_id', 'from_station_name', 'to_station_id',\n",
              "       'to_station_name', 'user_type'],\n",
              "      dtype='object')"
            ]
          },
          "metadata": {
            "tags": []
          },
          "execution_count": 506
        }
      ]
    },
    {
      "cell_type": "code",
      "metadata": {
        "id": "KmRPDiDIt2xx",
        "colab_type": "code",
        "colab": {
          "base_uri": "https://localhost:8080/",
          "height": 85
        },
        "outputId": "c687f4a5-906d-43cd-80c9-210815832d5d"
      },
      "source": [
        "df4.columns"
      ],
      "execution_count": 507,
      "outputs": [
        {
          "output_type": "execute_result",
          "data": {
            "text/plain": [
              "Index(['trip_id', 'trip_start_time', 'trip_stop_time', 'trip_duration_seconds',\n",
              "       'from_station_id', 'from_station_name', 'to_station_id',\n",
              "       'to_station_name', 'user_type'],\n",
              "      dtype='object')"
            ]
          },
          "metadata": {
            "tags": []
          },
          "execution_count": 507
        }
      ]
    },
    {
      "cell_type": "code",
      "metadata": {
        "id": "TEFT2_hnt4lR",
        "colab_type": "code",
        "colab": {
          "base_uri": "https://localhost:8080/",
          "height": 68
        },
        "outputId": "c9f5bcf1-9134-4c0a-cf8f-a9266a2144e2"
      },
      "source": [
        "df5.columns"
      ],
      "execution_count": 508,
      "outputs": [
        {
          "output_type": "execute_result",
          "data": {
            "text/plain": [
              "Index(['trip_id', 'trip_start_time', 'trip_stop_time', 'trip_duration_seconds',\n",
              "       'from_station_name', 'to_station_name', 'user_type'],\n",
              "      dtype='object')"
            ]
          },
          "metadata": {
            "tags": []
          },
          "execution_count": 508
        }
      ]
    },
    {
      "cell_type": "code",
      "metadata": {
        "id": "XCHMIB1it6vf",
        "colab_type": "code",
        "colab": {
          "base_uri": "https://localhost:8080/",
          "height": 68
        },
        "outputId": "2634b48d-f805-495b-ac53-b963d5b1f033"
      },
      "source": [
        "df6.columns"
      ],
      "execution_count": 509,
      "outputs": [
        {
          "output_type": "execute_result",
          "data": {
            "text/plain": [
              "Index(['trip_id', 'trip_start_time', 'trip_stop_time', 'trip_duration_seconds',\n",
              "       'from_station_name', 'to_station_name', 'user_type'],\n",
              "      dtype='object')"
            ]
          },
          "metadata": {
            "tags": []
          },
          "execution_count": 509
        }
      ]
    },
    {
      "cell_type": "code",
      "metadata": {
        "id": "dFyoG5x2t85c",
        "colab_type": "code",
        "colab": {
          "base_uri": "https://localhost:8080/",
          "height": 85
        },
        "outputId": "d5e5e75f-a9dd-415d-d691-885581124600"
      },
      "source": [
        "df7.columns"
      ],
      "execution_count": 510,
      "outputs": [
        {
          "output_type": "execute_result",
          "data": {
            "text/plain": [
              "Index(['trip_id', 'trip_duration_seconds', 'from_station_id',\n",
              "       'trip_start_time', 'from_station_name', 'trip_stop_time',\n",
              "       'to_station_id', 'to_station_name', 'user_type'],\n",
              "      dtype='object')"
            ]
          },
          "metadata": {
            "tags": []
          },
          "execution_count": 510
        }
      ]
    },
    {
      "cell_type": "code",
      "metadata": {
        "id": "CnwMILLouAvj",
        "colab_type": "code",
        "colab": {
          "base_uri": "https://localhost:8080/",
          "height": 85
        },
        "outputId": "a530088c-c05b-4805-e633-927d740e7c53"
      },
      "source": [
        "df8.columns"
      ],
      "execution_count": 511,
      "outputs": [
        {
          "output_type": "execute_result",
          "data": {
            "text/plain": [
              "Index(['trip_id', 'trip_duration_seconds', 'from_station_id',\n",
              "       'trip_start_time', 'from_station_name', 'trip_stop_time',\n",
              "       'to_station_id', 'to_station_name', 'user_type'],\n",
              "      dtype='object')"
            ]
          },
          "metadata": {
            "tags": []
          },
          "execution_count": 511
        }
      ]
    },
    {
      "cell_type": "code",
      "metadata": {
        "id": "2rOEQKfnuCVk",
        "colab_type": "code",
        "colab": {
          "base_uri": "https://localhost:8080/",
          "height": 85
        },
        "outputId": "da125b25-c5b6-417f-9f42-f222bf4f25d9"
      },
      "source": [
        "df9.columns"
      ],
      "execution_count": 512,
      "outputs": [
        {
          "output_type": "execute_result",
          "data": {
            "text/plain": [
              "Index(['trip_id', 'trip_duration_seconds', 'from_station_id',\n",
              "       'trip_start_time', 'from_station_name', 'trip_stop_time',\n",
              "       'to_station_id', 'to_station_name', 'user_type'],\n",
              "      dtype='object')"
            ]
          },
          "metadata": {
            "tags": []
          },
          "execution_count": 512
        }
      ]
    },
    {
      "cell_type": "code",
      "metadata": {
        "id": "V4iYjR98uFO7",
        "colab_type": "code",
        "colab": {
          "base_uri": "https://localhost:8080/",
          "height": 85
        },
        "outputId": "b5080b26-eae7-4ae8-8c4b-2250a1696879"
      },
      "source": [
        "df10.columns"
      ],
      "execution_count": 513,
      "outputs": [
        {
          "output_type": "execute_result",
          "data": {
            "text/plain": [
              "Index(['trip_id', 'trip_duration_seconds', 'from_station_id',\n",
              "       'trip_start_time', 'from_station_name', 'trip_stop_time',\n",
              "       'to_station_id', 'to_station_name', 'user_type'],\n",
              "      dtype='object')"
            ]
          },
          "metadata": {
            "tags": []
          },
          "execution_count": 513
        }
      ]
    },
    {
      "cell_type": "markdown",
      "metadata": {
        "id": "W590uKALuQNH",
        "colab_type": "text"
      },
      "source": [
        "**Datasets 3,4,7,8,9,10 have two additional columns being from_station_id and to_station_id**"
      ]
    },
    {
      "cell_type": "code",
      "metadata": {
        "id": "5eB1ojZZXoO3",
        "colab_type": "code",
        "colab": {}
      },
      "source": [
        "frames = [df, df2, df3,df4,df5,df6,df7,df8,df9,df10]\n"
      ],
      "execution_count": 0,
      "outputs": []
    },
    {
      "cell_type": "code",
      "metadata": {
        "id": "18TtJhBBaQXp",
        "colab_type": "code",
        "colab": {}
      },
      "source": [
        "#putting all dataframes together\n",
        "bikeshare_df = pd.concat(frames)"
      ],
      "execution_count": 0,
      "outputs": []
    },
    {
      "cell_type": "code",
      "metadata": {
        "id": "iRAPJnNkIfTT",
        "colab_type": "code",
        "colab": {}
      },
      "source": [
        "id_list = frames_df['from_station_id'].unique()"
      ],
      "execution_count": 0,
      "outputs": []
    },
    {
      "cell_type": "code",
      "metadata": {
        "id": "y49olP6hItbh",
        "colab_type": "code",
        "colab": {}
      },
      "source": [
        "id2_list = frames_df['to_station_id'].unique()"
      ],
      "execution_count": 0,
      "outputs": []
    },
    {
      "cell_type": "code",
      "metadata": {
        "id": "AKm5eD3TIq2Z",
        "colab_type": "code",
        "colab": {
          "base_uri": "https://localhost:8080/",
          "height": 34
        },
        "outputId": "1c5be4cb-5197-4882-a40a-279e525de1b5"
      },
      "source": [
        "len(id2_list)"
      ],
      "execution_count": 28,
      "outputs": [
        {
          "output_type": "execute_result",
          "data": {
            "text/plain": [
              "360"
            ]
          },
          "metadata": {
            "tags": []
          },
          "execution_count": 28
        }
      ]
    },
    {
      "cell_type": "code",
      "metadata": {
        "id": "X8aRYddmYT3K",
        "colab_type": "code",
        "colab": {
          "base_uri": "https://localhost:8080/",
          "height": 34
        },
        "outputId": "cc66d459-16a7-49f4-89d5-8e39d113a76e"
      },
      "source": [
        "bikeshare_df.shape"
      ],
      "execution_count": 48,
      "outputs": [
        {
          "output_type": "execute_result",
          "data": {
            "text/plain": [
              "(4000855, 9)"
            ]
          },
          "metadata": {
            "tags": []
          },
          "execution_count": 48
        }
      ]
    },
    {
      "cell_type": "code",
      "metadata": {
        "id": "LGVCHm1DZSSQ",
        "colab_type": "code",
        "colab": {}
      },
      "source": [
        "#dropping trip id to determine duplicates in data\n",
        "bikeshare_df = bikeshare_df.drop(['trip_id'],axis = 1)"
      ],
      "execution_count": 0,
      "outputs": []
    },
    {
      "cell_type": "code",
      "metadata": {
        "id": "JTIiKz74Z72x",
        "colab_type": "code",
        "colab": {
          "base_uri": "https://localhost:8080/",
          "height": 34
        },
        "outputId": "bca57a83-07c8-49af-fc5a-a6ea40ec7fcd"
      },
      "source": [
        "#determining number of duplicate rows\n",
        "bikeshare_df.duplicated().sum()"
      ],
      "execution_count": 50,
      "outputs": [
        {
          "output_type": "execute_result",
          "data": {
            "text/plain": [
              "7501"
            ]
          },
          "metadata": {
            "tags": []
          },
          "execution_count": 50
        }
      ]
    },
    {
      "cell_type": "code",
      "metadata": {
        "id": "o1FD5LluaBcy",
        "colab_type": "code",
        "colab": {}
      },
      "source": [
        "# dropping duplicated rows\n",
        "bikeshare_df.drop_duplicates(keep=False,inplace=True)"
      ],
      "execution_count": 0,
      "outputs": []
    },
    {
      "cell_type": "code",
      "metadata": {
        "id": "lwSRV_44alnA",
        "colab_type": "code",
        "colab": {
          "base_uri": "https://localhost:8080/",
          "height": 34
        },
        "outputId": "978cbcc4-8538-44b8-bf57-a14cbbd9a703"
      },
      "source": [
        "#checking duplicates again\n",
        "bikeshare_df.duplicated().sum()"
      ],
      "execution_count": 52,
      "outputs": [
        {
          "output_type": "execute_result",
          "data": {
            "text/plain": [
              "0"
            ]
          },
          "metadata": {
            "tags": []
          },
          "execution_count": 52
        }
      ]
    },
    {
      "cell_type": "code",
      "metadata": {
        "id": "qoQv9a_Dapxp",
        "colab_type": "code",
        "colab": {
          "base_uri": "https://localhost:8080/",
          "height": 34
        },
        "outputId": "e78bc83c-4b1b-4c6c-d950-03d6ebd01d98"
      },
      "source": [
        "bikeshare_df.shape"
      ],
      "execution_count": 53,
      "outputs": [
        {
          "output_type": "execute_result",
          "data": {
            "text/plain": [
              "(3985860, 8)"
            ]
          },
          "metadata": {
            "tags": []
          },
          "execution_count": 53
        }
      ]
    },
    {
      "cell_type": "code",
      "metadata": {
        "id": "abfDSJMa7AT_",
        "colab_type": "code",
        "colab": {
          "base_uri": "https://localhost:8080/",
          "height": 643
        },
        "outputId": "2f921492-93b4-479b-c3fc-80fc37658e18"
      },
      "source": [
        "bikeshare_df.reset_index(drop =True)"
      ],
      "execution_count": 54,
      "outputs": [
        {
          "output_type": "execute_result",
          "data": {
            "text/html": [
              "<div>\n",
              "<style scoped>\n",
              "    .dataframe tbody tr th:only-of-type {\n",
              "        vertical-align: middle;\n",
              "    }\n",
              "\n",
              "    .dataframe tbody tr th {\n",
              "        vertical-align: top;\n",
              "    }\n",
              "\n",
              "    .dataframe thead th {\n",
              "        text-align: right;\n",
              "    }\n",
              "</style>\n",
              "<table border=\"1\" class=\"dataframe\">\n",
              "  <thead>\n",
              "    <tr style=\"text-align: right;\">\n",
              "      <th></th>\n",
              "      <th>trip_start_time</th>\n",
              "      <th>trip_stop_time</th>\n",
              "      <th>trip_duration_seconds</th>\n",
              "      <th>from_station_name</th>\n",
              "      <th>to_station_name</th>\n",
              "      <th>user_type</th>\n",
              "      <th>from_station_id</th>\n",
              "      <th>to_station_id</th>\n",
              "    </tr>\n",
              "  </thead>\n",
              "  <tbody>\n",
              "    <tr>\n",
              "      <th>0</th>\n",
              "      <td>2016-07-09 01:03:00</td>\n",
              "      <td>2016-07-09 01:15:00</td>\n",
              "      <td>714</td>\n",
              "      <td>Dundas St E / Regent Park Blvd</td>\n",
              "      <td>Danforth Ave / Ellerbeck St</td>\n",
              "      <td>Member</td>\n",
              "      <td>NaN</td>\n",
              "      <td>NaN</td>\n",
              "    </tr>\n",
              "    <tr>\n",
              "      <th>1</th>\n",
              "      <td>2016-07-09 02:15:00</td>\n",
              "      <td>2016-07-09 02:22:00</td>\n",
              "      <td>417</td>\n",
              "      <td>Riverdale Park North (Broadview Ave)</td>\n",
              "      <td>Dundas St E / Regent Park Blvd</td>\n",
              "      <td>Member</td>\n",
              "      <td>NaN</td>\n",
              "      <td>NaN</td>\n",
              "    </tr>\n",
              "    <tr>\n",
              "      <th>2</th>\n",
              "      <td>2016-07-10 17:04:00</td>\n",
              "      <td>2016-07-10 17:36:00</td>\n",
              "      <td>1904</td>\n",
              "      <td>Dundas St E / Regent Park Blvd</td>\n",
              "      <td>Queen St W / Close Ave</td>\n",
              "      <td>Member</td>\n",
              "      <td>NaN</td>\n",
              "      <td>NaN</td>\n",
              "    </tr>\n",
              "    <tr>\n",
              "      <th>3</th>\n",
              "      <td>2016-07-11 01:45:00</td>\n",
              "      <td>2016-07-11 01:58:00</td>\n",
              "      <td>784</td>\n",
              "      <td>Union Station</td>\n",
              "      <td>Dundas St E / Regent Park Blvd</td>\n",
              "      <td>Member</td>\n",
              "      <td>NaN</td>\n",
              "      <td>NaN</td>\n",
              "    </tr>\n",
              "    <tr>\n",
              "      <th>4</th>\n",
              "      <td>2016-07-18 13:35:00</td>\n",
              "      <td>2016-07-18 13:42:00</td>\n",
              "      <td>443</td>\n",
              "      <td>Front St W / Blue Jays Way</td>\n",
              "      <td>Front St / Yonge St (Hockey Hall of Fame)</td>\n",
              "      <td>Member</td>\n",
              "      <td>NaN</td>\n",
              "      <td>NaN</td>\n",
              "    </tr>\n",
              "    <tr>\n",
              "      <th>...</th>\n",
              "      <td>...</td>\n",
              "      <td>...</td>\n",
              "      <td>...</td>\n",
              "      <td>...</td>\n",
              "      <td>...</td>\n",
              "      <td>...</td>\n",
              "      <td>...</td>\n",
              "      <td>...</td>\n",
              "    </tr>\n",
              "    <tr>\n",
              "      <th>3985855</th>\n",
              "      <td>2018-12-31 23:43:00</td>\n",
              "      <td>2018-12-31 23:49:00</td>\n",
              "      <td>379</td>\n",
              "      <td>Danforth Ave / Coxwell Ave</td>\n",
              "      <td>Donlands Station</td>\n",
              "      <td>Annual Member</td>\n",
              "      <td>7088.0</td>\n",
              "      <td>7091.0</td>\n",
              "    </tr>\n",
              "    <tr>\n",
              "      <th>3985856</th>\n",
              "      <td>2018-12-31 23:45:00</td>\n",
              "      <td>2018-12-31 23:50:00</td>\n",
              "      <td>306</td>\n",
              "      <td>Bay St / Wellesley St W</td>\n",
              "      <td>Jarvis St / Isabella St</td>\n",
              "      <td>Annual Member</td>\n",
              "      <td>7030.0</td>\n",
              "      <td>7031.0</td>\n",
              "    </tr>\n",
              "    <tr>\n",
              "      <th>3985857</th>\n",
              "      <td>2018-12-31 23:49:00</td>\n",
              "      <td>2018-12-31 23:55:00</td>\n",
              "      <td>340</td>\n",
              "      <td>Phoebe St / Spadina Ave</td>\n",
              "      <td>Fort York  Blvd / Capreol Ct</td>\n",
              "      <td>Annual Member</td>\n",
              "      <td>7020.0</td>\n",
              "      <td>7000.0</td>\n",
              "    </tr>\n",
              "    <tr>\n",
              "      <th>3985858</th>\n",
              "      <td>2018-12-31 23:52:00</td>\n",
              "      <td>2019-01-01 00:17:00</td>\n",
              "      <td>1466</td>\n",
              "      <td>Sherbourne St / Carlton St (Allan Gardens)</td>\n",
              "      <td>Toronto Eaton Centre (Yonge St)</td>\n",
              "      <td>Annual Member</td>\n",
              "      <td>7014.0</td>\n",
              "      <td>7269.0</td>\n",
              "    </tr>\n",
              "    <tr>\n",
              "      <th>3985859</th>\n",
              "      <td>2018-12-31 23:58:00</td>\n",
              "      <td>2019-01-01 00:04:00</td>\n",
              "      <td>333</td>\n",
              "      <td>Mill St / Parliament St</td>\n",
              "      <td>Scott St / The Esplanade</td>\n",
              "      <td>Annual Member</td>\n",
              "      <td>7299.0</td>\n",
              "      <td>7013.0</td>\n",
              "    </tr>\n",
              "  </tbody>\n",
              "</table>\n",
              "<p>3985860 rows × 8 columns</p>\n",
              "</div>"
            ],
            "text/plain": [
              "            trip_start_time      trip_stop_time  ...  from_station_id to_station_id\n",
              "0       2016-07-09 01:03:00 2016-07-09 01:15:00  ...              NaN           NaN\n",
              "1       2016-07-09 02:15:00 2016-07-09 02:22:00  ...              NaN           NaN\n",
              "2       2016-07-10 17:04:00 2016-07-10 17:36:00  ...              NaN           NaN\n",
              "3       2016-07-11 01:45:00 2016-07-11 01:58:00  ...              NaN           NaN\n",
              "4       2016-07-18 13:35:00 2016-07-18 13:42:00  ...              NaN           NaN\n",
              "...                     ...                 ...  ...              ...           ...\n",
              "3985855 2018-12-31 23:43:00 2018-12-31 23:49:00  ...           7088.0        7091.0\n",
              "3985856 2018-12-31 23:45:00 2018-12-31 23:50:00  ...           7030.0        7031.0\n",
              "3985857 2018-12-31 23:49:00 2018-12-31 23:55:00  ...           7020.0        7000.0\n",
              "3985858 2018-12-31 23:52:00 2019-01-01 00:17:00  ...           7014.0        7269.0\n",
              "3985859 2018-12-31 23:58:00 2019-01-01 00:04:00  ...           7299.0        7013.0\n",
              "\n",
              "[3985860 rows x 8 columns]"
            ]
          },
          "metadata": {
            "tags": []
          },
          "execution_count": 54
        }
      ]
    },
    {
      "cell_type": "markdown",
      "metadata": {
        "id": "7_y95kU0KO2o",
        "colab_type": "text"
      },
      "source": [
        "##Loading Station Data from Bikeshare API Endpoint"
      ]
    },
    {
      "cell_type": "markdown",
      "metadata": {
        "id": "JFSfyS_RUtpc",
        "colab_type": "text"
      },
      "source": [
        "need latitude and longitude coordinates"
      ]
    },
    {
      "cell_type": "code",
      "metadata": {
        "id": "1DcobkriKoN4",
        "colab_type": "code",
        "colab": {
          "base_uri": "https://localhost:8080/",
          "height": 105
        },
        "outputId": "02b3fa17-c5d8-4e23-81b5-80d1a1e6de13"
      },
      "source": [
        "pip install fuzzywuzzy"
      ],
      "execution_count": 55,
      "outputs": [
        {
          "output_type": "stream",
          "text": [
            "Collecting fuzzywuzzy\n",
            "  Downloading https://files.pythonhosted.org/packages/43/ff/74f23998ad2f93b945c0309f825be92e04e0348e062026998b5eefef4c33/fuzzywuzzy-0.18.0-py2.py3-none-any.whl\n",
            "Installing collected packages: fuzzywuzzy\n",
            "Successfully installed fuzzywuzzy-0.18.0\n"
          ],
          "name": "stdout"
        }
      ]
    },
    {
      "cell_type": "code",
      "metadata": {
        "id": "KWXlk-tcKN_r",
        "colab_type": "code",
        "colab": {
          "base_uri": "https://localhost:8080/",
          "height": 105
        },
        "outputId": "fd888fcd-1377-474a-9840-b8efcc3d695e"
      },
      "source": [
        "from datetime import timedelta\n",
        "from fuzzywuzzy import fuzz\n",
        "\n",
        "import matplotlib.pyplot as plt\n",
        "import pandas as pd\n",
        "import requests\n",
        "import seaborn as sns\n",
        "\n",
        "import json\n",
        "import os\n",
        "\n",
        "\n",
        "r = requests.get('https://tor.publicbikesystem.net/ube/gbfs/v1/en/station_information')\n",
        "\n",
        "bikeshare_stations = pd.DataFrame(json.loads(r.content)['data']['stations'])[['station_id', 'name', 'lat', 'lon']].astype({\n",
        "    'station_id': 'float64',\n",
        "})\n",
        "\n",
        "bikeshare_stations.to_csv('/content/drive/My Drive/BikeshareData - City of Toronto/bikeshare_stations.csv', index=False)"
      ],
      "execution_count": 56,
      "outputs": [
        {
          "output_type": "stream",
          "text": [
            "/usr/local/lib/python3.6/dist-packages/fuzzywuzzy/fuzz.py:11: UserWarning: Using slow pure-python SequenceMatcher. Install python-Levenshtein to remove this warning\n",
            "  warnings.warn('Using slow pure-python SequenceMatcher. Install python-Levenshtein to remove this warning')\n",
            "/usr/local/lib/python3.6/dist-packages/statsmodels/tools/_testing.py:19: FutureWarning: pandas.util.testing is deprecated. Use the functions in the public API at pandas.testing instead.\n",
            "  import pandas.util.testing as tm\n"
          ],
          "name": "stderr"
        }
      ]
    },
    {
      "cell_type": "code",
      "metadata": {
        "id": "z2jb5qGgK9dG",
        "colab_type": "code",
        "colab": {}
      },
      "source": [
        "bikestations_df = pd.read_csv(r'/content/drive/My Drive/BikeshareData - City of Toronto/bikeshare_stations.csv')"
      ],
      "execution_count": 0,
      "outputs": []
    },
    {
      "cell_type": "code",
      "metadata": {
        "id": "R5E-1kqYSZ8Q",
        "colab_type": "code",
        "colab": {
          "base_uri": "https://localhost:8080/",
          "height": 204
        },
        "outputId": "0985f632-b4f5-423a-91df-b10a3636b4d9"
      },
      "source": [
        "bikestations_df.head()"
      ],
      "execution_count": 159,
      "outputs": [
        {
          "output_type": "execute_result",
          "data": {
            "text/html": [
              "<div>\n",
              "<style scoped>\n",
              "    .dataframe tbody tr th:only-of-type {\n",
              "        vertical-align: middle;\n",
              "    }\n",
              "\n",
              "    .dataframe tbody tr th {\n",
              "        vertical-align: top;\n",
              "    }\n",
              "\n",
              "    .dataframe thead th {\n",
              "        text-align: right;\n",
              "    }\n",
              "</style>\n",
              "<table border=\"1\" class=\"dataframe\">\n",
              "  <thead>\n",
              "    <tr style=\"text-align: right;\">\n",
              "      <th></th>\n",
              "      <th>station_id</th>\n",
              "      <th>name</th>\n",
              "      <th>lat</th>\n",
              "      <th>lon</th>\n",
              "    </tr>\n",
              "  </thead>\n",
              "  <tbody>\n",
              "    <tr>\n",
              "      <th>0</th>\n",
              "      <td>7000.0</td>\n",
              "      <td>Fort York  Blvd / Capreol Ct</td>\n",
              "      <td>43.639832</td>\n",
              "      <td>-79.395954</td>\n",
              "    </tr>\n",
              "    <tr>\n",
              "      <th>1</th>\n",
              "      <td>7001.0</td>\n",
              "      <td>Lower Jarvis St / The Esplanade</td>\n",
              "      <td>43.647992</td>\n",
              "      <td>-79.370907</td>\n",
              "    </tr>\n",
              "    <tr>\n",
              "      <th>2</th>\n",
              "      <td>7002.0</td>\n",
              "      <td>St. George St / Bloor St W</td>\n",
              "      <td>43.667333</td>\n",
              "      <td>-79.399429</td>\n",
              "    </tr>\n",
              "    <tr>\n",
              "      <th>3</th>\n",
              "      <td>7003.0</td>\n",
              "      <td>Madison Ave / Bloor St W</td>\n",
              "      <td>43.667158</td>\n",
              "      <td>-79.402761</td>\n",
              "    </tr>\n",
              "    <tr>\n",
              "      <th>4</th>\n",
              "      <td>7004.0</td>\n",
              "      <td>University Ave / Elm St</td>\n",
              "      <td>43.656518</td>\n",
              "      <td>-79.389099</td>\n",
              "    </tr>\n",
              "  </tbody>\n",
              "</table>\n",
              "</div>"
            ],
            "text/plain": [
              "   station_id                             name        lat        lon\n",
              "0      7000.0     Fort York  Blvd / Capreol Ct  43.639832 -79.395954\n",
              "1      7001.0  Lower Jarvis St / The Esplanade  43.647992 -79.370907\n",
              "2      7002.0       St. George St / Bloor St W  43.667333 -79.399429\n",
              "3      7003.0         Madison Ave / Bloor St W  43.667158 -79.402761\n",
              "4      7004.0          University Ave / Elm St  43.656518 -79.389099"
            ]
          },
          "metadata": {
            "tags": []
          },
          "execution_count": 159
        }
      ]
    },
    {
      "cell_type": "markdown",
      "metadata": {
        "id": "NaKCn_YdOm6T",
        "colab_type": "text"
      },
      "source": [
        "###Missing station Id from 6 of the 10 quarters\n",
        "\n",
        "must match the latitude and longitude based on id therefore need to match station ids to names from station data set"
      ]
    },
    {
      "cell_type": "code",
      "metadata": {
        "id": "QzlAaZBGObtT",
        "colab_type": "code",
        "colab": {}
      },
      "source": [
        "#creating dataframe containing both start and end station names\n",
        "stations_start = bikeshare_df[['from_station_id', 'from_station_name']]\n",
        "stations_end = bikeshare_df[['to_station_id', 'to_station_name']]\n",
        "stations_start.columns = stations_end.columns = ['station_id', 'name']\n",
        "\n",
        "# Extracts the unique station ID and name combination from the from_station and to_station columns\n",
        "stations = pd.concat([stations_start, stations_end]).dropna(how='all').drop_duplicates().reset_index(drop=True)"
      ],
      "execution_count": 0,
      "outputs": []
    },
    {
      "cell_type": "code",
      "metadata": {
        "id": "G47Uc7a6PrpZ",
        "colab_type": "code",
        "colab": {
          "base_uri": "https://localhost:8080/",
          "height": 377
        },
        "outputId": "b491ed72-fcc8-419c-8d9e-7ec374bcc56f"
      },
      "source": [
        "# Separate the stations without station IDs\n",
        "no_ids = stations[stations['station_id'].isnull()]\n",
        "for idx, miss in no_ids.iterrows():\n",
        "    max_score = 0\n",
        "    \n",
        "    # Compare the similarity of the station without ID to each station in the API data\n",
        "    for i, exist in bikeshare_stations[['station_id', 'name']].iterrows():\n",
        "        score = fuzz.ratio(miss['name'], exist['name'])\n",
        "        \n",
        "        if score > 80 and score > max_score:\n",
        "            max_score = score\n",
        "            no_ids.at[idx, 'station_id'] = exist['station_id']\n",
        "    \n",
        "    # Warn if the station was not able to be matched\n",
        "    if max_score <= 80:\n",
        "        print('WARN: {0} station could not be matched to an existing station'.format(miss['name']))\n",
        "        \n",
        "# Remove all stations that were not matched\n",
        "no_ids = no_ids.dropna()"
      ],
      "execution_count": 59,
      "outputs": [
        {
          "output_type": "stream",
          "text": [
            "WARN: Victoria St / Gould St (Ryerson University) station could not be matched to an existing station\n",
            "WARN: Bloor St / Brunswick Ave station could not be matched to an existing station\n",
            "WARN: Bay St / Bloor St W station could not be matched to an existing station\n",
            "WARN: Bremner Blvd / Spadina Ave station could not be matched to an existing station\n",
            "WARN: Dockside Dr / Queens Quay E (Sugar Beach) station could not be matched to an existing station\n",
            "WARN: Temperance St / Yonge St station could not be matched to an existing station\n",
            "WARN: Ontario Place Blvd / Remembrance Dr station could not be matched to an existing station\n",
            "WARN: Landsdowne Subway Green P station could not be matched to an existing station\n",
            "WARN: Bathurst St / Queens Quay W station could not be matched to an existing station\n",
            "WARN: Bloor GO / UP Station/ Rail Path station could not be matched to an existing station\n",
            "WARN: Stephenson Ave / Main St station could not be matched to an existing station\n",
            "WARN: Woodbine Subway Green P (Cedarvale Ave) station could not be matched to an existing station\n",
            "WARN: Margueretta St / College St W station could not be matched to an existing station\n",
            "WARN: Base Station station could not be matched to an existing station\n",
            "WARN: Michael Sweet Ave / St. Patrick St station could not be matched to an existing station\n",
            "WARN: Margueretta St / College St station could not be matched to an existing station\n",
            "WARN: Lansdowne Subway Green P station could not be matched to an existing station\n",
            "WARN: Roxton Rd / College St station could not be matched to an existing station\n",
            "WARN: Lake Shore Blvd W / Ontario Dr(Ontario Place) station could not be matched to an existing station\n",
            "WARN: Fringe Next Stage - 7219 station could not be matched to an existing station\n"
          ],
          "name": "stdout"
        }
      ]
    },
    {
      "cell_type": "code",
      "metadata": {
        "id": "1e1x09v0PrgM",
        "colab_type": "code",
        "colab": {}
      },
      "source": [
        "#concatenating station data and merging with Bikeshare API Data\n",
        "stations = pd.concat([stations[~stations['station_id'].isnull()], no_ids])\\\n",
        "             .merge(bikeshare_stations[['station_id', 'lat', 'lon']], how='inner', on='station_id')\\\n",
        "             .drop_duplicates()"
      ],
      "execution_count": 0,
      "outputs": []
    },
    {
      "cell_type": "code",
      "metadata": {
        "id": "O3uXq2tzUPch",
        "colab_type": "code",
        "colab": {
          "base_uri": "https://localhost:8080/",
          "height": 204
        },
        "outputId": "1dc9b028-4515-4a7c-ca51-640dc23fb5a3"
      },
      "source": [
        "stations.head()"
      ],
      "execution_count": 107,
      "outputs": [
        {
          "output_type": "execute_result",
          "data": {
            "text/html": [
              "<div>\n",
              "<style scoped>\n",
              "    .dataframe tbody tr th:only-of-type {\n",
              "        vertical-align: middle;\n",
              "    }\n",
              "\n",
              "    .dataframe tbody tr th {\n",
              "        vertical-align: top;\n",
              "    }\n",
              "\n",
              "    .dataframe thead th {\n",
              "        text-align: right;\n",
              "    }\n",
              "</style>\n",
              "<table border=\"1\" class=\"dataframe\">\n",
              "  <thead>\n",
              "    <tr style=\"text-align: right;\">\n",
              "      <th></th>\n",
              "      <th>station_id</th>\n",
              "      <th>name</th>\n",
              "      <th>lat</th>\n",
              "      <th>lon</th>\n",
              "    </tr>\n",
              "  </thead>\n",
              "  <tbody>\n",
              "    <tr>\n",
              "      <th>0</th>\n",
              "      <td>7051.0</td>\n",
              "      <td>Wellesley St E / Yonge St Green P</td>\n",
              "      <td>43.665060</td>\n",
              "      <td>-79.383570</td>\n",
              "    </tr>\n",
              "    <tr>\n",
              "      <th>1</th>\n",
              "      <td>7051.0</td>\n",
              "      <td>Wellesley St E / Yonge St (Green P)</td>\n",
              "      <td>43.665060</td>\n",
              "      <td>-79.383570</td>\n",
              "    </tr>\n",
              "    <tr>\n",
              "      <th>4</th>\n",
              "      <td>7143.0</td>\n",
              "      <td>Kendal Ave / Bernard Ave</td>\n",
              "      <td>43.671513</td>\n",
              "      <td>-79.408317</td>\n",
              "    </tr>\n",
              "    <tr>\n",
              "      <th>6</th>\n",
              "      <td>7113.0</td>\n",
              "      <td>Parliament St / Aberdeen Ave</td>\n",
              "      <td>43.665278</td>\n",
              "      <td>-79.368333</td>\n",
              "    </tr>\n",
              "    <tr>\n",
              "      <th>8</th>\n",
              "      <td>7077.0</td>\n",
              "      <td>College Park South</td>\n",
              "      <td>43.659777</td>\n",
              "      <td>-79.382767</td>\n",
              "    </tr>\n",
              "  </tbody>\n",
              "</table>\n",
              "</div>"
            ],
            "text/plain": [
              "   station_id                                 name        lat        lon\n",
              "0      7051.0    Wellesley St E / Yonge St Green P  43.665060 -79.383570\n",
              "1      7051.0  Wellesley St E / Yonge St (Green P)  43.665060 -79.383570\n",
              "4      7143.0             Kendal Ave / Bernard Ave  43.671513 -79.408317\n",
              "6      7113.0         Parliament St / Aberdeen Ave  43.665278 -79.368333\n",
              "8      7077.0                   College Park South  43.659777 -79.382767"
            ]
          },
          "metadata": {
            "tags": []
          },
          "execution_count": 107
        }
      ]
    },
    {
      "cell_type": "code",
      "metadata": {
        "id": "ZiF7Ud8ES6Mk",
        "colab_type": "code",
        "colab": {}
      },
      "source": [
        "#matching stations data frame to bikeshare dataframe based on station names\n",
        "bikeshare_df = bikeshare_df.merge(stations, how='inner', left_on='from_station_name', right_on='name') \\\n",
        "       .merge(stations, how='inner', left_on='to_station_name', right_on='name', suffixes=['_from', '_to']) \\\n",
        "       .drop_duplicates()"
      ],
      "execution_count": 0,
      "outputs": []
    },
    {
      "cell_type": "code",
      "metadata": {
        "id": "UP3g0fkZUy5W",
        "colab_type": "code",
        "colab": {
          "base_uri": "https://localhost:8080/",
          "height": 306
        },
        "outputId": "a064589f-6f73-4e3c-f404-9b723b42352c"
      },
      "source": [
        "bikeshare_df.isna().sum()"
      ],
      "execution_count": 109,
      "outputs": [
        {
          "output_type": "execute_result",
          "data": {
            "text/plain": [
              "trip_start_time                0\n",
              "trip_stop_time                 0\n",
              "trip_duration_seconds          0\n",
              "from_station_name              0\n",
              "to_station_name                0\n",
              "user_type                      0\n",
              "from_station_id          1602151\n",
              "to_station_id            1602151\n",
              "station_id_from                0\n",
              "name_from                      0\n",
              "lat_from                       0\n",
              "lon_from                       0\n",
              "station_id_to                  0\n",
              "name_to                        0\n",
              "lat_to                         0\n",
              "lon_to                         0\n",
              "dtype: int64"
            ]
          },
          "metadata": {
            "tags": []
          },
          "execution_count": 109
        }
      ]
    },
    {
      "cell_type": "code",
      "metadata": {
        "id": "zyD1s2eiXc9e",
        "colab_type": "code",
        "colab": {
          "base_uri": "https://localhost:8080/",
          "height": 34
        },
        "outputId": "def807f0-acd9-4a7c-f60d-08ab73de86a6"
      },
      "source": [
        "bikeshare_df.shape"
      ],
      "execution_count": 65,
      "outputs": [
        {
          "output_type": "execute_result",
          "data": {
            "text/plain": [
              "(3946860, 12)"
            ]
          },
          "metadata": {
            "tags": []
          },
          "execution_count": 65
        }
      ]
    },
    {
      "cell_type": "code",
      "metadata": {
        "id": "aXdHBWeCW5TL",
        "colab_type": "code",
        "colab": {
          "base_uri": "https://localhost:8080/",
          "height": 479
        },
        "outputId": "53c19a1c-b5b7-46ce-c3a2-5f9d300a277f"
      },
      "source": [
        "bikeshare_df.head()"
      ],
      "execution_count": 114,
      "outputs": [
        {
          "output_type": "execute_result",
          "data": {
            "text/html": [
              "<div>\n",
              "<style scoped>\n",
              "    .dataframe tbody tr th:only-of-type {\n",
              "        vertical-align: middle;\n",
              "    }\n",
              "\n",
              "    .dataframe tbody tr th {\n",
              "        vertical-align: top;\n",
              "    }\n",
              "\n",
              "    .dataframe thead th {\n",
              "        text-align: right;\n",
              "    }\n",
              "</style>\n",
              "<table border=\"1\" class=\"dataframe\">\n",
              "  <thead>\n",
              "    <tr style=\"text-align: right;\">\n",
              "      <th></th>\n",
              "      <th>trip_start_time</th>\n",
              "      <th>trip_stop_time</th>\n",
              "      <th>trip_duration_seconds</th>\n",
              "      <th>user_type</th>\n",
              "      <th>station_id_from</th>\n",
              "      <th>name_from</th>\n",
              "      <th>lat_from</th>\n",
              "      <th>lon_from</th>\n",
              "      <th>station_id_to</th>\n",
              "      <th>name_to</th>\n",
              "      <th>lat_to</th>\n",
              "      <th>lon_to</th>\n",
              "    </tr>\n",
              "  </thead>\n",
              "  <tbody>\n",
              "    <tr>\n",
              "      <th>0</th>\n",
              "      <td>2016-07-09 01:03:00</td>\n",
              "      <td>2016-07-09 01:15:00</td>\n",
              "      <td>714</td>\n",
              "      <td>Member</td>\n",
              "      <td>7100.0</td>\n",
              "      <td>Dundas St E / Regent Park Blvd</td>\n",
              "      <td>43.660207</td>\n",
              "      <td>-79.361275</td>\n",
              "      <td>7095.0</td>\n",
              "      <td>Danforth Ave / Ellerbeck St</td>\n",
              "      <td>43.677076</td>\n",
              "      <td>-79.35667</td>\n",
              "    </tr>\n",
              "    <tr>\n",
              "      <th>1</th>\n",
              "      <td>2016-09-03 22:37:00</td>\n",
              "      <td>2016-09-03 22:48:00</td>\n",
              "      <td>685</td>\n",
              "      <td>Member</td>\n",
              "      <td>7100.0</td>\n",
              "      <td>Dundas St E / Regent Park Blvd</td>\n",
              "      <td>43.660207</td>\n",
              "      <td>-79.361275</td>\n",
              "      <td>7095.0</td>\n",
              "      <td>Danforth Ave / Ellerbeck St</td>\n",
              "      <td>43.677076</td>\n",
              "      <td>-79.35667</td>\n",
              "    </tr>\n",
              "    <tr>\n",
              "      <th>2</th>\n",
              "      <td>2016-08-05 16:21:00</td>\n",
              "      <td>2016-08-05 16:33:00</td>\n",
              "      <td>718</td>\n",
              "      <td>Member</td>\n",
              "      <td>7100.0</td>\n",
              "      <td>Dundas St E / Regent Park Blvd</td>\n",
              "      <td>43.660207</td>\n",
              "      <td>-79.361275</td>\n",
              "      <td>7095.0</td>\n",
              "      <td>Danforth Ave / Ellerbeck St</td>\n",
              "      <td>43.677076</td>\n",
              "      <td>-79.35667</td>\n",
              "    </tr>\n",
              "    <tr>\n",
              "      <th>3</th>\n",
              "      <td>2016-09-23 10:15:00</td>\n",
              "      <td>2016-09-23 10:28:00</td>\n",
              "      <td>792</td>\n",
              "      <td>Member</td>\n",
              "      <td>7100.0</td>\n",
              "      <td>Dundas St E / Regent Park Blvd</td>\n",
              "      <td>43.660207</td>\n",
              "      <td>-79.361275</td>\n",
              "      <td>7095.0</td>\n",
              "      <td>Danforth Ave / Ellerbeck St</td>\n",
              "      <td>43.677076</td>\n",
              "      <td>-79.35667</td>\n",
              "    </tr>\n",
              "    <tr>\n",
              "      <th>4</th>\n",
              "      <td>2016-10-15 13:40:00</td>\n",
              "      <td>2016-10-15 13:51:00</td>\n",
              "      <td>653</td>\n",
              "      <td>Member</td>\n",
              "      <td>7100.0</td>\n",
              "      <td>Dundas St E / Regent Park Blvd</td>\n",
              "      <td>43.660207</td>\n",
              "      <td>-79.361275</td>\n",
              "      <td>7095.0</td>\n",
              "      <td>Danforth Ave / Ellerbeck St</td>\n",
              "      <td>43.677076</td>\n",
              "      <td>-79.35667</td>\n",
              "    </tr>\n",
              "  </tbody>\n",
              "</table>\n",
              "</div>"
            ],
            "text/plain": [
              "      trip_start_time      trip_stop_time  ...     lat_to    lon_to\n",
              "0 2016-07-09 01:03:00 2016-07-09 01:15:00  ...  43.677076 -79.35667\n",
              "1 2016-09-03 22:37:00 2016-09-03 22:48:00  ...  43.677076 -79.35667\n",
              "2 2016-08-05 16:21:00 2016-08-05 16:33:00  ...  43.677076 -79.35667\n",
              "3 2016-09-23 10:15:00 2016-09-23 10:28:00  ...  43.677076 -79.35667\n",
              "4 2016-10-15 13:40:00 2016-10-15 13:51:00  ...  43.677076 -79.35667\n",
              "\n",
              "[5 rows x 12 columns]"
            ]
          },
          "metadata": {
            "tags": []
          },
          "execution_count": 114
        }
      ]
    },
    {
      "cell_type": "code",
      "metadata": {
        "id": "vvjvSJ7pW9FR",
        "colab_type": "code",
        "colab": {}
      },
      "source": [
        "#no longer need from_station_name, to_station_name, from_station_id, to_station_id columns\n",
        "del bikeshare_df['from_station_id']\n",
        "del bikeshare_df['from_station_name']\n",
        "del bikeshare_df['to_station_id']\n",
        "del bikeshare_df['to_station_name']"
      ],
      "execution_count": 0,
      "outputs": []
    },
    {
      "cell_type": "markdown",
      "metadata": {
        "id": "fC35yIQTzoIs",
        "colab_type": "text"
      },
      "source": [
        "##Removing Trip Less than 1 Minute, Assuming they are false trips"
      ]
    },
    {
      "cell_type": "code",
      "metadata": {
        "id": "kMVSsY6tz-eA",
        "colab_type": "code",
        "colab": {}
      },
      "source": [
        "bikeshare_df = bikeshare_df[(bikeshare_df['trip_duration_seconds']>=60)]"
      ],
      "execution_count": 0,
      "outputs": []
    },
    {
      "cell_type": "code",
      "metadata": {
        "id": "FCp7zxtFwycA",
        "colab_type": "code",
        "colab": {}
      },
      "source": [
        "#export as csv\n",
        "export_csv = bikeshare_df.to_csv(r'/content/drive/My Drive/BikeshareData - City of Toronto/bikeshare_df.csv',index = False)"
      ],
      "execution_count": 0,
      "outputs": []
    },
    {
      "cell_type": "code",
      "metadata": {
        "id": "NhMxA70XalhL",
        "colab_type": "code",
        "colab": {}
      },
      "source": [
        "bikeshare_df = pd.read_csv(r'/content/drive/My Drive/BikeshareData - City of Toronto/bikeshare_df.csv',)"
      ],
      "execution_count": 0,
      "outputs": []
    },
    {
      "cell_type": "markdown",
      "metadata": {
        "id": "EkI7canWgMl3",
        "colab_type": "text"
      },
      "source": [
        "#Feature Engineering"
      ]
    },
    {
      "cell_type": "code",
      "metadata": {
        "id": "DfcNhzmtbs96",
        "colab_type": "code",
        "colab": {}
      },
      "source": [
        "#when reading csv back into notebook, must convert tip start time and stop time back to datetime\n",
        "bikeshare_df['trip_start_time'] = pd.to_datetime(bikeshare_df['trip_start_time'],errors='coerce')\n",
        "bikeshare_df['trip_stop_time'] = pd.to_datetime(bikeshare_df['trip_stop_time'],errors='coerce')"
      ],
      "execution_count": 0,
      "outputs": []
    },
    {
      "cell_type": "code",
      "metadata": {
        "id": "K1YbZVEzgWop",
        "colab_type": "code",
        "colab": {}
      },
      "source": [
        "#creating columns to display hour of day for start and stop times\n",
        "bikeshare_df['StartHour'] = bikeshare_df['trip_start_time'].dt.hour\n",
        "bikeshare_df['StopHour'] = bikeshare_df['trip_stop_time'].dt.hour"
      ],
      "execution_count": 0,
      "outputs": []
    },
    {
      "cell_type": "code",
      "metadata": {
        "id": "jaHh1iyl8voZ",
        "colab_type": "code",
        "colab": {}
      },
      "source": [
        "#creating column for quarter of the year\n",
        "bikeshare_df['Quarter'] = bikeshare_df['trip_start_time'].dt.quarter"
      ],
      "execution_count": 0,
      "outputs": []
    },
    {
      "cell_type": "code",
      "metadata": {
        "id": "FcHR1PHi-H42",
        "colab_type": "code",
        "colab": {}
      },
      "source": [
        "#creating columns for month, dayofweek, daynumber, year, \n",
        "bikeshare_df['Year'] = bikeshare_df['trip_start_time'].dt.year\n",
        "bikeshare_df['Month'] = bikeshare_df['trip_start_time'].dt.month\n",
        "bikeshare_df['DayofWeek'] = bikeshare_df['trip_start_time'].dt.dayofweek\n",
        "bikeshare_df['DayNumber'] = bikeshare_df['trip_start_time'].dt.day\n"
      ],
      "execution_count": 0,
      "outputs": []
    },
    {
      "cell_type": "code",
      "metadata": {
        "id": "WTzFplXBfw4g",
        "colab_type": "code",
        "colab": {}
      },
      "source": [
        "#applying names to day of week numbers\n",
        "weekdaynamedict = {0:'Monday',1:'Tuesday',2:'Wednesday',3:'Thursday',4:'Friday',5:'Saturday',6:'Sunday'}\n",
        "bikeshare_df['DayofWeek'] = bikeshare_df['DayofWeek'].map(weekdaynamedict)"
      ],
      "execution_count": 0,
      "outputs": []
    },
    {
      "cell_type": "code",
      "metadata": {
        "id": "nwcXt_1acOFM",
        "colab_type": "code",
        "colab": {}
      },
      "source": [
        "#calculating extra usage fees\n",
        "bikeshare_df['ExtraFees'] = ((bikeshare_df['trip_duration_seconds'] - 1800)/1800)*4"
      ],
      "execution_count": 0,
      "outputs": []
    },
    {
      "cell_type": "code",
      "metadata": {
        "id": "2lzufb73J25s",
        "colab_type": "code",
        "colab": {}
      },
      "source": [
        "#setting usage fees that are negative to zero\n",
        "bikeshare_df.loc[bikeshare_df['ExtraFees']<=0,'ExtraFees'] = 0"
      ],
      "execution_count": 0,
      "outputs": []
    },
    {
      "cell_type": "code",
      "metadata": {
        "id": "zbGWBJ9CeWIT",
        "colab_type": "code",
        "colab": {}
      },
      "source": [
        "#converting to whole numbers\n",
        "bikeshare_df['ExtraFees'] = bikeshare_df['ExtraFees'].astype(int)"
      ],
      "execution_count": 0,
      "outputs": []
    },
    {
      "cell_type": "markdown",
      "metadata": {
        "id": "8TBMXH9xwtgx",
        "colab_type": "text"
      },
      "source": [
        "##Putting in Route IDs"
      ]
    },
    {
      "cell_type": "code",
      "metadata": {
        "id": "jQVizT9vws5q",
        "colab_type": "code",
        "colab": {}
      },
      "source": [
        "#creating new column combining start and end station ids\n",
        "bikeshare_df['Route Id'] = bikeshare_df.apply(lambda x: '{0}-{1}'.format(int(x['station_id_from']), int(x['station_id_to'])), axis=1)"
      ],
      "execution_count": 0,
      "outputs": []
    },
    {
      "cell_type": "code",
      "metadata": {
        "id": "7w7vlGdiyWQ_",
        "colab_type": "code",
        "colab": {}
      },
      "source": [
        "#converting latitude and longitude columns to numeric types\n",
        "bikeshare_df['lat_to'] = pd.to_numeric(bikeshare_df['lat_to'])\n",
        "bikeshare_df['lat_from'] = pd.to_numeric(bikeshare_df['lat_from'])\n",
        "bikeshare_df['lon_to'] = pd.to_numeric(bikeshare_df['lon_to'])\n",
        "bikeshare_df['lon_from'] = pd.to_numeric(bikeshare_df['lon_from'])"
      ],
      "execution_count": 0,
      "outputs": []
    },
    {
      "cell_type": "code",
      "metadata": {
        "id": "nxzMdtUH_sW8",
        "colab_type": "code",
        "colab": {
          "base_uri": "https://localhost:8080/",
          "height": 185
        },
        "outputId": "4b91bb7b-1a13-4da8-fad0-e3d0eebafc30"
      },
      "source": [
        "bikeshare_df[bikeshare_df['Year'] == 2000]"
      ],
      "execution_count": 75,
      "outputs": [
        {
          "output_type": "execute_result",
          "data": {
            "text/html": [
              "<div>\n",
              "<style scoped>\n",
              "    .dataframe tbody tr th:only-of-type {\n",
              "        vertical-align: middle;\n",
              "    }\n",
              "\n",
              "    .dataframe tbody tr th {\n",
              "        vertical-align: top;\n",
              "    }\n",
              "\n",
              "    .dataframe thead th {\n",
              "        text-align: right;\n",
              "    }\n",
              "</style>\n",
              "<table border=\"1\" class=\"dataframe\">\n",
              "  <thead>\n",
              "    <tr style=\"text-align: right;\">\n",
              "      <th></th>\n",
              "      <th>trip_start_time</th>\n",
              "      <th>trip_stop_time</th>\n",
              "      <th>trip_duration_seconds</th>\n",
              "      <th>user_type</th>\n",
              "      <th>station_id_from</th>\n",
              "      <th>name_from</th>\n",
              "      <th>lat_from</th>\n",
              "      <th>lon_from</th>\n",
              "      <th>station_id_to</th>\n",
              "      <th>name_to</th>\n",
              "      <th>lat_to</th>\n",
              "      <th>lon_to</th>\n",
              "      <th>StartHour</th>\n",
              "      <th>StopHour</th>\n",
              "      <th>Quarter</th>\n",
              "      <th>Year</th>\n",
              "      <th>Month</th>\n",
              "      <th>DayofWeek</th>\n",
              "      <th>DayNumber</th>\n",
              "      <th>ExtraFees</th>\n",
              "      <th>Route Id</th>\n",
              "    </tr>\n",
              "  </thead>\n",
              "  <tbody>\n",
              "    <tr>\n",
              "      <th>91802</th>\n",
              "      <td>2000-01-01 14:40:00</td>\n",
              "      <td>2000-01-01 15:44:00</td>\n",
              "      <td>3794</td>\n",
              "      <td>Member</td>\n",
              "      <td>7048.0</td>\n",
              "      <td>Front St / Yonge St (Hockey Hall of Fame)</td>\n",
              "      <td>43.646144</td>\n",
              "      <td>-79.377962</td>\n",
              "      <td>7048.0</td>\n",
              "      <td>Front St / Yonge St (Hockey Hall of Fame)</td>\n",
              "      <td>43.646144</td>\n",
              "      <td>-79.377962</td>\n",
              "      <td>14</td>\n",
              "      <td>15</td>\n",
              "      <td>1</td>\n",
              "      <td>2000</td>\n",
              "      <td>1</td>\n",
              "      <td>Saturday</td>\n",
              "      <td>1</td>\n",
              "      <td>4</td>\n",
              "      <td>7048-7048</td>\n",
              "    </tr>\n",
              "  </tbody>\n",
              "</table>\n",
              "</div>"
            ],
            "text/plain": [
              "          trip_start_time      trip_stop_time  ...  ExtraFees   Route Id\n",
              "91802 2000-01-01 14:40:00 2000-01-01 15:44:00  ...          4  7048-7048\n",
              "\n",
              "[1 rows x 21 columns]"
            ]
          },
          "metadata": {
            "tags": []
          },
          "execution_count": 75
        }
      ]
    },
    {
      "cell_type": "code",
      "metadata": {
        "id": "X16jyid-_hCw",
        "colab_type": "code",
        "colab": {}
      },
      "source": [
        "#getting rid of row with incorrect date \n",
        "bikeshare_df = bikeshare_df.drop([91802])"
      ],
      "execution_count": 0,
      "outputs": []
    },
    {
      "cell_type": "code",
      "metadata": {
        "id": "eszkjKdd_vDV",
        "colab_type": "code",
        "colab": {
          "base_uri": "https://localhost:8080/",
          "height": 881
        },
        "outputId": "7335ed3d-3d58-487d-95c3-e5bccdbf405b"
      },
      "source": [
        "bikeshare_df.reset_index(drop = True)"
      ],
      "execution_count": 77,
      "outputs": [
        {
          "output_type": "execute_result",
          "data": {
            "text/html": [
              "<div>\n",
              "<style scoped>\n",
              "    .dataframe tbody tr th:only-of-type {\n",
              "        vertical-align: middle;\n",
              "    }\n",
              "\n",
              "    .dataframe tbody tr th {\n",
              "        vertical-align: top;\n",
              "    }\n",
              "\n",
              "    .dataframe thead th {\n",
              "        text-align: right;\n",
              "    }\n",
              "</style>\n",
              "<table border=\"1\" class=\"dataframe\">\n",
              "  <thead>\n",
              "    <tr style=\"text-align: right;\">\n",
              "      <th></th>\n",
              "      <th>trip_start_time</th>\n",
              "      <th>trip_stop_time</th>\n",
              "      <th>trip_duration_seconds</th>\n",
              "      <th>user_type</th>\n",
              "      <th>station_id_from</th>\n",
              "      <th>name_from</th>\n",
              "      <th>lat_from</th>\n",
              "      <th>lon_from</th>\n",
              "      <th>station_id_to</th>\n",
              "      <th>name_to</th>\n",
              "      <th>lat_to</th>\n",
              "      <th>lon_to</th>\n",
              "      <th>StartHour</th>\n",
              "      <th>StopHour</th>\n",
              "      <th>Quarter</th>\n",
              "      <th>Year</th>\n",
              "      <th>Month</th>\n",
              "      <th>DayofWeek</th>\n",
              "      <th>DayNumber</th>\n",
              "      <th>ExtraFees</th>\n",
              "      <th>Route Id</th>\n",
              "    </tr>\n",
              "  </thead>\n",
              "  <tbody>\n",
              "    <tr>\n",
              "      <th>0</th>\n",
              "      <td>2016-07-09 01:03:00</td>\n",
              "      <td>2016-07-09 01:15:00</td>\n",
              "      <td>714</td>\n",
              "      <td>Member</td>\n",
              "      <td>7100.0</td>\n",
              "      <td>Dundas St E / Regent Park Blvd</td>\n",
              "      <td>43.660207</td>\n",
              "      <td>-79.361275</td>\n",
              "      <td>7095.0</td>\n",
              "      <td>Danforth Ave / Ellerbeck St</td>\n",
              "      <td>43.677076</td>\n",
              "      <td>-79.35667</td>\n",
              "      <td>1</td>\n",
              "      <td>1</td>\n",
              "      <td>3</td>\n",
              "      <td>2016</td>\n",
              "      <td>7</td>\n",
              "      <td>Saturday</td>\n",
              "      <td>9</td>\n",
              "      <td>0</td>\n",
              "      <td>7100-7095</td>\n",
              "    </tr>\n",
              "    <tr>\n",
              "      <th>1</th>\n",
              "      <td>2016-09-03 22:37:00</td>\n",
              "      <td>2016-09-03 22:48:00</td>\n",
              "      <td>685</td>\n",
              "      <td>Member</td>\n",
              "      <td>7100.0</td>\n",
              "      <td>Dundas St E / Regent Park Blvd</td>\n",
              "      <td>43.660207</td>\n",
              "      <td>-79.361275</td>\n",
              "      <td>7095.0</td>\n",
              "      <td>Danforth Ave / Ellerbeck St</td>\n",
              "      <td>43.677076</td>\n",
              "      <td>-79.35667</td>\n",
              "      <td>22</td>\n",
              "      <td>22</td>\n",
              "      <td>3</td>\n",
              "      <td>2016</td>\n",
              "      <td>9</td>\n",
              "      <td>Saturday</td>\n",
              "      <td>3</td>\n",
              "      <td>0</td>\n",
              "      <td>7100-7095</td>\n",
              "    </tr>\n",
              "    <tr>\n",
              "      <th>2</th>\n",
              "      <td>2016-08-05 16:21:00</td>\n",
              "      <td>2016-08-05 16:33:00</td>\n",
              "      <td>718</td>\n",
              "      <td>Member</td>\n",
              "      <td>7100.0</td>\n",
              "      <td>Dundas St E / Regent Park Blvd</td>\n",
              "      <td>43.660207</td>\n",
              "      <td>-79.361275</td>\n",
              "      <td>7095.0</td>\n",
              "      <td>Danforth Ave / Ellerbeck St</td>\n",
              "      <td>43.677076</td>\n",
              "      <td>-79.35667</td>\n",
              "      <td>16</td>\n",
              "      <td>16</td>\n",
              "      <td>3</td>\n",
              "      <td>2016</td>\n",
              "      <td>8</td>\n",
              "      <td>Friday</td>\n",
              "      <td>5</td>\n",
              "      <td>0</td>\n",
              "      <td>7100-7095</td>\n",
              "    </tr>\n",
              "    <tr>\n",
              "      <th>3</th>\n",
              "      <td>2016-09-23 10:15:00</td>\n",
              "      <td>2016-09-23 10:28:00</td>\n",
              "      <td>792</td>\n",
              "      <td>Member</td>\n",
              "      <td>7100.0</td>\n",
              "      <td>Dundas St E / Regent Park Blvd</td>\n",
              "      <td>43.660207</td>\n",
              "      <td>-79.361275</td>\n",
              "      <td>7095.0</td>\n",
              "      <td>Danforth Ave / Ellerbeck St</td>\n",
              "      <td>43.677076</td>\n",
              "      <td>-79.35667</td>\n",
              "      <td>10</td>\n",
              "      <td>10</td>\n",
              "      <td>3</td>\n",
              "      <td>2016</td>\n",
              "      <td>9</td>\n",
              "      <td>Friday</td>\n",
              "      <td>23</td>\n",
              "      <td>0</td>\n",
              "      <td>7100-7095</td>\n",
              "    </tr>\n",
              "    <tr>\n",
              "      <th>4</th>\n",
              "      <td>2016-10-15 13:40:00</td>\n",
              "      <td>2016-10-15 13:51:00</td>\n",
              "      <td>653</td>\n",
              "      <td>Member</td>\n",
              "      <td>7100.0</td>\n",
              "      <td>Dundas St E / Regent Park Blvd</td>\n",
              "      <td>43.660207</td>\n",
              "      <td>-79.361275</td>\n",
              "      <td>7095.0</td>\n",
              "      <td>Danforth Ave / Ellerbeck St</td>\n",
              "      <td>43.677076</td>\n",
              "      <td>-79.35667</td>\n",
              "      <td>13</td>\n",
              "      <td>13</td>\n",
              "      <td>4</td>\n",
              "      <td>2016</td>\n",
              "      <td>10</td>\n",
              "      <td>Saturday</td>\n",
              "      <td>15</td>\n",
              "      <td>0</td>\n",
              "      <td>7100-7095</td>\n",
              "    </tr>\n",
              "    <tr>\n",
              "      <th>...</th>\n",
              "      <td>...</td>\n",
              "      <td>...</td>\n",
              "      <td>...</td>\n",
              "      <td>...</td>\n",
              "      <td>...</td>\n",
              "      <td>...</td>\n",
              "      <td>...</td>\n",
              "      <td>...</td>\n",
              "      <td>...</td>\n",
              "      <td>...</td>\n",
              "      <td>...</td>\n",
              "      <td>...</td>\n",
              "      <td>...</td>\n",
              "      <td>...</td>\n",
              "      <td>...</td>\n",
              "      <td>...</td>\n",
              "      <td>...</td>\n",
              "      <td>...</td>\n",
              "      <td>...</td>\n",
              "      <td>...</td>\n",
              "      <td>...</td>\n",
              "    </tr>\n",
              "    <tr>\n",
              "      <th>3946854</th>\n",
              "      <td>2018-10-19 15:20:00</td>\n",
              "      <td>2018-10-19 15:40:00</td>\n",
              "      <td>1215</td>\n",
              "      <td>Annual Member</td>\n",
              "      <td>7380.0</td>\n",
              "      <td>Erskine Ave / Yonge St SMART</td>\n",
              "      <td>43.711215</td>\n",
              "      <td>-79.398940</td>\n",
              "      <td>7379.0</td>\n",
              "      <td>Lawton Blvd / Yonge St</td>\n",
              "      <td>43.691067</td>\n",
              "      <td>-79.39535</td>\n",
              "      <td>15</td>\n",
              "      <td>15</td>\n",
              "      <td>4</td>\n",
              "      <td>2018</td>\n",
              "      <td>10</td>\n",
              "      <td>Friday</td>\n",
              "      <td>19</td>\n",
              "      <td>0</td>\n",
              "      <td>7380-7379</td>\n",
              "    </tr>\n",
              "    <tr>\n",
              "      <th>3946855</th>\n",
              "      <td>2018-10-23 17:58:00</td>\n",
              "      <td>2018-10-23 18:05:00</td>\n",
              "      <td>448</td>\n",
              "      <td>Annual Member</td>\n",
              "      <td>7380.0</td>\n",
              "      <td>Erskine Ave / Yonge St SMART</td>\n",
              "      <td>43.711215</td>\n",
              "      <td>-79.398940</td>\n",
              "      <td>7379.0</td>\n",
              "      <td>Lawton Blvd / Yonge St</td>\n",
              "      <td>43.691067</td>\n",
              "      <td>-79.39535</td>\n",
              "      <td>17</td>\n",
              "      <td>18</td>\n",
              "      <td>4</td>\n",
              "      <td>2018</td>\n",
              "      <td>10</td>\n",
              "      <td>Tuesday</td>\n",
              "      <td>23</td>\n",
              "      <td>0</td>\n",
              "      <td>7380-7379</td>\n",
              "    </tr>\n",
              "    <tr>\n",
              "      <th>3946856</th>\n",
              "      <td>2018-11-13 15:16:00</td>\n",
              "      <td>2018-11-13 15:39:00</td>\n",
              "      <td>1372</td>\n",
              "      <td>Annual Member</td>\n",
              "      <td>7380.0</td>\n",
              "      <td>Erskine Ave / Yonge St SMART</td>\n",
              "      <td>43.711215</td>\n",
              "      <td>-79.398940</td>\n",
              "      <td>7379.0</td>\n",
              "      <td>Lawton Blvd / Yonge St</td>\n",
              "      <td>43.691067</td>\n",
              "      <td>-79.39535</td>\n",
              "      <td>15</td>\n",
              "      <td>15</td>\n",
              "      <td>4</td>\n",
              "      <td>2018</td>\n",
              "      <td>11</td>\n",
              "      <td>Tuesday</td>\n",
              "      <td>13</td>\n",
              "      <td>0</td>\n",
              "      <td>7380-7379</td>\n",
              "    </tr>\n",
              "    <tr>\n",
              "      <th>3946857</th>\n",
              "      <td>2018-09-23 16:46:00</td>\n",
              "      <td>2018-09-23 17:09:00</td>\n",
              "      <td>1375</td>\n",
              "      <td>Annual Member</td>\n",
              "      <td>7384.0</td>\n",
              "      <td>Cumberland Ave / Bay St SMART</td>\n",
              "      <td>43.670454</td>\n",
              "      <td>-79.390140</td>\n",
              "      <td>7379.0</td>\n",
              "      <td>Lawton Blvd / Yonge St</td>\n",
              "      <td>43.691067</td>\n",
              "      <td>-79.39535</td>\n",
              "      <td>16</td>\n",
              "      <td>17</td>\n",
              "      <td>3</td>\n",
              "      <td>2018</td>\n",
              "      <td>9</td>\n",
              "      <td>Sunday</td>\n",
              "      <td>23</td>\n",
              "      <td>0</td>\n",
              "      <td>7384-7379</td>\n",
              "    </tr>\n",
              "    <tr>\n",
              "      <th>3946858</th>\n",
              "      <td>2018-10-10 10:34:00</td>\n",
              "      <td>2018-10-10 10:55:00</td>\n",
              "      <td>1278</td>\n",
              "      <td>Annual Member</td>\n",
              "      <td>7384.0</td>\n",
              "      <td>Cumberland Ave / Bay St SMART</td>\n",
              "      <td>43.670454</td>\n",
              "      <td>-79.390140</td>\n",
              "      <td>7379.0</td>\n",
              "      <td>Lawton Blvd / Yonge St</td>\n",
              "      <td>43.691067</td>\n",
              "      <td>-79.39535</td>\n",
              "      <td>10</td>\n",
              "      <td>10</td>\n",
              "      <td>4</td>\n",
              "      <td>2018</td>\n",
              "      <td>10</td>\n",
              "      <td>Wednesday</td>\n",
              "      <td>10</td>\n",
              "      <td>0</td>\n",
              "      <td>7384-7379</td>\n",
              "    </tr>\n",
              "  </tbody>\n",
              "</table>\n",
              "<p>3946859 rows × 21 columns</p>\n",
              "</div>"
            ],
            "text/plain": [
              "            trip_start_time      trip_stop_time  ...  ExtraFees   Route Id\n",
              "0       2016-07-09 01:03:00 2016-07-09 01:15:00  ...          0  7100-7095\n",
              "1       2016-09-03 22:37:00 2016-09-03 22:48:00  ...          0  7100-7095\n",
              "2       2016-08-05 16:21:00 2016-08-05 16:33:00  ...          0  7100-7095\n",
              "3       2016-09-23 10:15:00 2016-09-23 10:28:00  ...          0  7100-7095\n",
              "4       2016-10-15 13:40:00 2016-10-15 13:51:00  ...          0  7100-7095\n",
              "...                     ...                 ...  ...        ...        ...\n",
              "3946854 2018-10-19 15:20:00 2018-10-19 15:40:00  ...          0  7380-7379\n",
              "3946855 2018-10-23 17:58:00 2018-10-23 18:05:00  ...          0  7380-7379\n",
              "3946856 2018-11-13 15:16:00 2018-11-13 15:39:00  ...          0  7380-7379\n",
              "3946857 2018-09-23 16:46:00 2018-09-23 17:09:00  ...          0  7384-7379\n",
              "3946858 2018-10-10 10:34:00 2018-10-10 10:55:00  ...          0  7384-7379\n",
              "\n",
              "[3946859 rows x 21 columns]"
            ]
          },
          "metadata": {
            "tags": []
          },
          "execution_count": 77
        }
      ]
    },
    {
      "cell_type": "code",
      "metadata": {
        "id": "Z8YDdL-BBhMp",
        "colab_type": "code",
        "colab": {}
      },
      "source": [
        "#making station names under same id the same\n",
        "bikeshare_df.loc[bikeshare_df['name_from'] == 'Wellesley St E / Yonge St (Green P)','name_from'] = 'Wellesley St E / Yonge St Green P'\n",
        "bikeshare_df.loc[bikeshare_df['name_to'] == 'Wellesley St E / Yonge St (Green P)','name_to'] = 'Wellesley St E / Yonge St Green P'\n",
        "bikeshare_df.loc[bikeshare_df['name_from'] == 'Bathurst St/Queens Quay(Billy Bishop Airport)','name_from'] = 'Bathurst St / Queens Quay W'\n",
        "bikeshare_df.loc[bikeshare_df['name_to'] == 'Bathurst St/Queens Quay(Billy Bishop Airport)','name_to'] = 'Bathurst St / Queens Quay W'\n",
        "bikeshare_df.loc[bikeshare_df['name_from'] == 'Simcoe St / Queen St W','name_from'] = 'Simcoe St / Dundas St W'\n",
        "bikeshare_df.loc[bikeshare_df['name_to'] == 'Simcoe St / Queen St W','name_to'] = 'Simcoe St / Dundas St W'\n",
        "bikeshare_df.loc[bikeshare_df['name_from'] == 'Sherbourne St / Wellesley St E','name_from'] = 'Sherbourne St / Wellesley St'\n",
        "bikeshare_df.loc[bikeshare_df['name_to'] == 'Sherbourne St / Wellesley St E','name_to'] = 'Sherbourne St / Wellesley St'"
      ],
      "execution_count": 0,
      "outputs": []
    },
    {
      "cell_type": "code",
      "metadata": {
        "id": "QViAIqU1g9PG",
        "colab_type": "code",
        "colab": {}
      },
      "source": [
        "#exporting dataframe checkpoint\n",
        "export_csv = bikeshare_df.to_csv(r'/content/drive/My Drive/BikeshareData - City of Toronto/bikeshare_df.csv',index = False)"
      ],
      "execution_count": 0,
      "outputs": []
    },
    {
      "cell_type": "code",
      "metadata": {
        "id": "X-J6Je7-r6lQ",
        "colab_type": "code",
        "colab": {}
      },
      "source": [
        "bikeshare_df = pd.read_csv(r'/content/drive/My Drive/BikeshareData - City of Toronto/bikeshare_df.csv')"
      ],
      "execution_count": 0,
      "outputs": []
    },
    {
      "cell_type": "markdown",
      "metadata": {
        "id": "pUwP19t1gXYi",
        "colab_type": "text"
      },
      "source": [
        "#Table Outputs and Aggregations"
      ]
    },
    {
      "cell_type": "markdown",
      "metadata": {
        "id": "fsQ8QXmY90uR",
        "colab_type": "text"
      },
      "source": [
        "###Calculating Popular Usage Hours"
      ]
    },
    {
      "cell_type": "code",
      "metadata": {
        "colab_type": "code",
        "id": "CJzCqa76ps0U",
        "colab": {}
      },
      "source": [
        "#determining top usage hours\n",
        "usagehours_df = bikeshare_df[['trip_start_time','StartHour']].groupby(['StartHour']).count().sort_values('trip_start_time',ascending = False)"
      ],
      "execution_count": 0,
      "outputs": []
    },
    {
      "cell_type": "code",
      "metadata": {
        "id": "u-0RBUnZCTWq",
        "colab_type": "code",
        "colab": {
          "base_uri": "https://localhost:8080/",
          "height": 235
        },
        "outputId": "a04f4c26-0f7e-45bb-c9f7-eb2c66ce66b2"
      },
      "source": [
        "usagehours_df.head()"
      ],
      "execution_count": 135,
      "outputs": [
        {
          "output_type": "execute_result",
          "data": {
            "text/html": [
              "<div>\n",
              "<style scoped>\n",
              "    .dataframe tbody tr th:only-of-type {\n",
              "        vertical-align: middle;\n",
              "    }\n",
              "\n",
              "    .dataframe tbody tr th {\n",
              "        vertical-align: top;\n",
              "    }\n",
              "\n",
              "    .dataframe thead th {\n",
              "        text-align: right;\n",
              "    }\n",
              "</style>\n",
              "<table border=\"1\" class=\"dataframe\">\n",
              "  <thead>\n",
              "    <tr style=\"text-align: right;\">\n",
              "      <th></th>\n",
              "      <th>trip_start_time</th>\n",
              "    </tr>\n",
              "    <tr>\n",
              "      <th>StartHour</th>\n",
              "      <th></th>\n",
              "    </tr>\n",
              "  </thead>\n",
              "  <tbody>\n",
              "    <tr>\n",
              "      <th>17</th>\n",
              "      <td>386518</td>\n",
              "    </tr>\n",
              "    <tr>\n",
              "      <th>18</th>\n",
              "      <td>303806</td>\n",
              "    </tr>\n",
              "    <tr>\n",
              "      <th>16</th>\n",
              "      <td>294533</td>\n",
              "    </tr>\n",
              "    <tr>\n",
              "      <th>8</th>\n",
              "      <td>258620</td>\n",
              "    </tr>\n",
              "    <tr>\n",
              "      <th>12</th>\n",
              "      <td>239514</td>\n",
              "    </tr>\n",
              "  </tbody>\n",
              "</table>\n",
              "</div>"
            ],
            "text/plain": [
              "           trip_start_time\n",
              "StartHour                 \n",
              "17                  386518\n",
              "18                  303806\n",
              "16                  294533\n",
              "8                   258620\n",
              "12                  239514"
            ]
          },
          "metadata": {
            "tags": []
          },
          "execution_count": 135
        }
      ]
    },
    {
      "cell_type": "markdown",
      "metadata": {
        "id": "FsD8C-MTT8ps",
        "colab_type": "text"
      },
      "source": [
        "**Table Output:3.1.1.**"
      ]
    },
    {
      "cell_type": "code",
      "metadata": {
        "id": "ZuuoaHQwgjzP",
        "colab_type": "code",
        "colab": {
          "base_uri": "https://localhost:8080/",
          "height": 824
        },
        "outputId": "a1f6731c-f5f5-4620-a009-61859cadba9a"
      },
      "source": [
        "usagehours_df.rename(columns={\"trip_start_time\": \"Count of Records\"})"
      ],
      "execution_count": 136,
      "outputs": [
        {
          "output_type": "execute_result",
          "data": {
            "text/html": [
              "<div>\n",
              "<style scoped>\n",
              "    .dataframe tbody tr th:only-of-type {\n",
              "        vertical-align: middle;\n",
              "    }\n",
              "\n",
              "    .dataframe tbody tr th {\n",
              "        vertical-align: top;\n",
              "    }\n",
              "\n",
              "    .dataframe thead th {\n",
              "        text-align: right;\n",
              "    }\n",
              "</style>\n",
              "<table border=\"1\" class=\"dataframe\">\n",
              "  <thead>\n",
              "    <tr style=\"text-align: right;\">\n",
              "      <th></th>\n",
              "      <th>Count of Records</th>\n",
              "    </tr>\n",
              "    <tr>\n",
              "      <th>StartHour</th>\n",
              "      <th></th>\n",
              "    </tr>\n",
              "  </thead>\n",
              "  <tbody>\n",
              "    <tr>\n",
              "      <th>17</th>\n",
              "      <td>386518</td>\n",
              "    </tr>\n",
              "    <tr>\n",
              "      <th>18</th>\n",
              "      <td>303806</td>\n",
              "    </tr>\n",
              "    <tr>\n",
              "      <th>16</th>\n",
              "      <td>294533</td>\n",
              "    </tr>\n",
              "    <tr>\n",
              "      <th>8</th>\n",
              "      <td>258620</td>\n",
              "    </tr>\n",
              "    <tr>\n",
              "      <th>12</th>\n",
              "      <td>239514</td>\n",
              "    </tr>\n",
              "    <tr>\n",
              "      <th>19</th>\n",
              "      <td>237631</td>\n",
              "    </tr>\n",
              "    <tr>\n",
              "      <th>13</th>\n",
              "      <td>232908</td>\n",
              "    </tr>\n",
              "    <tr>\n",
              "      <th>21</th>\n",
              "      <td>218550</td>\n",
              "    </tr>\n",
              "    <tr>\n",
              "      <th>20</th>\n",
              "      <td>218028</td>\n",
              "    </tr>\n",
              "    <tr>\n",
              "      <th>15</th>\n",
              "      <td>217241</td>\n",
              "    </tr>\n",
              "    <tr>\n",
              "      <th>14</th>\n",
              "      <td>200808</td>\n",
              "    </tr>\n",
              "    <tr>\n",
              "      <th>9</th>\n",
              "      <td>181481</td>\n",
              "    </tr>\n",
              "    <tr>\n",
              "      <th>22</th>\n",
              "      <td>172139</td>\n",
              "    </tr>\n",
              "    <tr>\n",
              "      <th>11</th>\n",
              "      <td>158605</td>\n",
              "    </tr>\n",
              "    <tr>\n",
              "      <th>23</th>\n",
              "      <td>120756</td>\n",
              "    </tr>\n",
              "    <tr>\n",
              "      <th>10</th>\n",
              "      <td>120078</td>\n",
              "    </tr>\n",
              "    <tr>\n",
              "      <th>7</th>\n",
              "      <td>102678</td>\n",
              "    </tr>\n",
              "    <tr>\n",
              "      <th>0</th>\n",
              "      <td>79588</td>\n",
              "    </tr>\n",
              "    <tr>\n",
              "      <th>1</th>\n",
              "      <td>56565</td>\n",
              "    </tr>\n",
              "    <tr>\n",
              "      <th>2</th>\n",
              "      <td>42976</td>\n",
              "    </tr>\n",
              "    <tr>\n",
              "      <th>6</th>\n",
              "      <td>38946</td>\n",
              "    </tr>\n",
              "    <tr>\n",
              "      <th>3</th>\n",
              "      <td>27681</td>\n",
              "    </tr>\n",
              "    <tr>\n",
              "      <th>5</th>\n",
              "      <td>19384</td>\n",
              "    </tr>\n",
              "    <tr>\n",
              "      <th>4</th>\n",
              "      <td>17825</td>\n",
              "    </tr>\n",
              "  </tbody>\n",
              "</table>\n",
              "</div>"
            ],
            "text/plain": [
              "           Count of Records\n",
              "StartHour                  \n",
              "17                   386518\n",
              "18                   303806\n",
              "16                   294533\n",
              "8                    258620\n",
              "12                   239514\n",
              "19                   237631\n",
              "13                   232908\n",
              "21                   218550\n",
              "20                   218028\n",
              "15                   217241\n",
              "14                   200808\n",
              "9                    181481\n",
              "22                   172139\n",
              "11                   158605\n",
              "23                   120756\n",
              "10                   120078\n",
              "7                    102678\n",
              "0                     79588\n",
              "1                     56565\n",
              "2                     42976\n",
              "6                     38946\n",
              "3                     27681\n",
              "5                     19384\n",
              "4                     17825"
            ]
          },
          "metadata": {
            "tags": []
          },
          "execution_count": 136
        }
      ]
    },
    {
      "cell_type": "code",
      "metadata": {
        "id": "Fal7id-7CumJ",
        "colab_type": "code",
        "colab": {}
      },
      "source": [
        "#export table output\n",
        "export_csv = usagehours_df.to_csv(r'/content/drive/My Drive/BikeshareData - City of Toronto/TableOutput3.1.1.csv',index = False)"
      ],
      "execution_count": 0,
      "outputs": []
    },
    {
      "cell_type": "markdown",
      "metadata": {
        "id": "UPpff3iZ99VR",
        "colab_type": "text"
      },
      "source": [
        "###Calculating Most used Locations and Seasonal Variance"
      ]
    },
    {
      "cell_type": "code",
      "metadata": {
        "id": "CYtT4SLs98Ul",
        "colab_type": "code",
        "colab": {}
      },
      "source": [
        "#getting number of records per station and sort by descending\n",
        "most_df = bikeshare_df[['station_id_from','name_from','trip_start_time']].groupby(['station_id_from','name_from']).count().sort_values('trip_start_time',ascending = False)"
      ],
      "execution_count": 0,
      "outputs": []
    },
    {
      "cell_type": "code",
      "metadata": {
        "id": "VRkOZjorNHZm",
        "colab_type": "code",
        "colab": {
          "base_uri": "https://localhost:8080/",
          "height": 390
        },
        "outputId": "ce4d03be-0a3d-4e3d-f396-afaa17e94cab"
      },
      "source": [
        "most_df.head(10)"
      ],
      "execution_count": 138,
      "outputs": [
        {
          "output_type": "execute_result",
          "data": {
            "text/html": [
              "<div>\n",
              "<style scoped>\n",
              "    .dataframe tbody tr th:only-of-type {\n",
              "        vertical-align: middle;\n",
              "    }\n",
              "\n",
              "    .dataframe tbody tr th {\n",
              "        vertical-align: top;\n",
              "    }\n",
              "\n",
              "    .dataframe thead th {\n",
              "        text-align: right;\n",
              "    }\n",
              "</style>\n",
              "<table border=\"1\" class=\"dataframe\">\n",
              "  <thead>\n",
              "    <tr style=\"text-align: right;\">\n",
              "      <th></th>\n",
              "      <th></th>\n",
              "      <th>trip_start_time</th>\n",
              "    </tr>\n",
              "    <tr>\n",
              "      <th>station_id_from</th>\n",
              "      <th>name_from</th>\n",
              "      <th></th>\n",
              "    </tr>\n",
              "  </thead>\n",
              "  <tbody>\n",
              "    <tr>\n",
              "      <th>7022.0</th>\n",
              "      <th>Simcoe St / Dundas St W</th>\n",
              "      <td>54353</td>\n",
              "    </tr>\n",
              "    <tr>\n",
              "      <th>7033.0</th>\n",
              "      <th>Union Station</th>\n",
              "      <td>51164</td>\n",
              "    </tr>\n",
              "    <tr>\n",
              "      <th>7076.0</th>\n",
              "      <th>York St / Queens Quay W</th>\n",
              "      <td>48951</td>\n",
              "    </tr>\n",
              "    <tr>\n",
              "      <th>7030.0</th>\n",
              "      <th>Bay St / Wellesley St W</th>\n",
              "      <td>45425</td>\n",
              "    </tr>\n",
              "    <tr>\n",
              "      <th>7016.0</th>\n",
              "      <th>Bay St / Queens Quay W (Ferry Terminal)</th>\n",
              "      <td>43365</td>\n",
              "    </tr>\n",
              "    <tr>\n",
              "      <th>7006.0</th>\n",
              "      <th>Bay St / College St (East Side)</th>\n",
              "      <td>42543</td>\n",
              "    </tr>\n",
              "    <tr>\n",
              "      <th>7049.0</th>\n",
              "      <th>Queen St W / Portland St</th>\n",
              "      <td>41838</td>\n",
              "    </tr>\n",
              "    <tr>\n",
              "      <th>7042.0</th>\n",
              "      <th>Sherbourne St / Wellesley St</th>\n",
              "      <td>39916</td>\n",
              "    </tr>\n",
              "    <tr>\n",
              "      <th>7059.0</th>\n",
              "      <th>Front St W / Blue Jays Way</th>\n",
              "      <td>39668</td>\n",
              "    </tr>\n",
              "    <tr>\n",
              "      <th>7010.0</th>\n",
              "      <th>King St W / Spadina Ave</th>\n",
              "      <td>37459</td>\n",
              "    </tr>\n",
              "  </tbody>\n",
              "</table>\n",
              "</div>"
            ],
            "text/plain": [
              "                                                         trip_start_time\n",
              "station_id_from name_from                                               \n",
              "7022.0          Simcoe St / Dundas St W                            54353\n",
              "7033.0          Union Station                                      51164\n",
              "7076.0          York St / Queens Quay W                            48951\n",
              "7030.0          Bay St / Wellesley St W                            45425\n",
              "7016.0          Bay St / Queens Quay W (Ferry Terminal)            43365\n",
              "7006.0          Bay St / College St (East Side)                    42543\n",
              "7049.0          Queen St W / Portland St                           41838\n",
              "7042.0          Sherbourne St / Wellesley St                       39916\n",
              "7059.0          Front St W / Blue Jays Way                         39668\n",
              "7010.0          King St W / Spadina Ave                            37459"
            ]
          },
          "metadata": {
            "tags": []
          },
          "execution_count": 138
        }
      ]
    },
    {
      "cell_type": "code",
      "metadata": {
        "id": "0EXECCB5O5Qy",
        "colab_type": "code",
        "colab": {}
      },
      "source": [
        "#taking rows only from top 10 most used stations\n",
        "mostused_df = bikeshare_df[(bikeshare_df['station_id_from'] == 7033) |(bikeshare_df['station_id_from'] == 7076)|(bikeshare_df['station_id_from'] == 7030)|(bikeshare_df['station_id_from'] == 7016)|(bikeshare_df['station_id_from'] == 7006)|(bikeshare_df['station_id_from'] == 7049)|(bikeshare_df['station_id_from'] == 7059)|(bikeshare_df['station_id_from'] == 7022)|(bikeshare_df['station_id_from'] == 7010)|(bikeshare_df['station_id_from'] == 7042)]"
      ],
      "execution_count": 0,
      "outputs": []
    },
    {
      "cell_type": "code",
      "metadata": {
        "id": "ws3atkSCP2l-",
        "colab_type": "code",
        "colab": {}
      },
      "source": [
        "#aggregrating most used stations by count and looking at seasonal variance by quarter\n",
        "top10locations =  mostused_df[['station_id_from','name_from','lat_from','lon_from','Quarter','trip_start_time']].groupby(['station_id_from','name_from','lat_from','lon_from','Quarter']).count()"
      ],
      "execution_count": 0,
      "outputs": []
    },
    {
      "cell_type": "code",
      "metadata": {
        "id": "P53vQTleQefc",
        "colab_type": "code",
        "colab": {}
      },
      "source": [
        "#renaming column to one that makes sense\n",
        "top10locations = top10locations.rename(columns = {'trip_start_time':'Number of Records'})"
      ],
      "execution_count": 0,
      "outputs": []
    },
    {
      "cell_type": "markdown",
      "metadata": {
        "id": "a_6vYMJRTkDe",
        "colab_type": "text"
      },
      "source": [
        "**Table Output :3.1.2.**"
      ]
    },
    {
      "cell_type": "code",
      "metadata": {
        "id": "oG72mw2vR4-c",
        "colab_type": "code",
        "colab": {
          "base_uri": "https://localhost:8080/",
          "height": 1000
        },
        "outputId": "1e1068ef-e0fa-4858-a9af-1caf66bc48bc"
      },
      "source": [
        "top10locations"
      ],
      "execution_count": 142,
      "outputs": [
        {
          "output_type": "execute_result",
          "data": {
            "text/html": [
              "<div>\n",
              "<style scoped>\n",
              "    .dataframe tbody tr th:only-of-type {\n",
              "        vertical-align: middle;\n",
              "    }\n",
              "\n",
              "    .dataframe tbody tr th {\n",
              "        vertical-align: top;\n",
              "    }\n",
              "\n",
              "    .dataframe thead th {\n",
              "        text-align: right;\n",
              "    }\n",
              "</style>\n",
              "<table border=\"1\" class=\"dataframe\">\n",
              "  <thead>\n",
              "    <tr style=\"text-align: right;\">\n",
              "      <th></th>\n",
              "      <th></th>\n",
              "      <th></th>\n",
              "      <th></th>\n",
              "      <th></th>\n",
              "      <th>Number of Records</th>\n",
              "    </tr>\n",
              "    <tr>\n",
              "      <th>station_id_from</th>\n",
              "      <th>name_from</th>\n",
              "      <th>lat_from</th>\n",
              "      <th>lon_from</th>\n",
              "      <th>Quarter</th>\n",
              "      <th></th>\n",
              "    </tr>\n",
              "  </thead>\n",
              "  <tbody>\n",
              "    <tr>\n",
              "      <th rowspan=\"4\" valign=\"top\">7006.0</th>\n",
              "      <th rowspan=\"4\" valign=\"top\">Bay St / College St (East Side)</th>\n",
              "      <th rowspan=\"4\" valign=\"top\">43.660439</th>\n",
              "      <th rowspan=\"4\" valign=\"top\">-79.385525</th>\n",
              "      <th>1</th>\n",
              "      <td>4327</td>\n",
              "    </tr>\n",
              "    <tr>\n",
              "      <th>2</th>\n",
              "      <td>9132</td>\n",
              "    </tr>\n",
              "    <tr>\n",
              "      <th>3</th>\n",
              "      <td>18354</td>\n",
              "    </tr>\n",
              "    <tr>\n",
              "      <th>4</th>\n",
              "      <td>10730</td>\n",
              "    </tr>\n",
              "    <tr>\n",
              "      <th rowspan=\"4\" valign=\"top\">7010.0</th>\n",
              "      <th rowspan=\"4\" valign=\"top\">King St W / Spadina Ave</th>\n",
              "      <th rowspan=\"4\" valign=\"top\">43.645323</th>\n",
              "      <th rowspan=\"4\" valign=\"top\">-79.395003</th>\n",
              "      <th>1</th>\n",
              "      <td>3550</td>\n",
              "    </tr>\n",
              "    <tr>\n",
              "      <th>2</th>\n",
              "      <td>9808</td>\n",
              "    </tr>\n",
              "    <tr>\n",
              "      <th>3</th>\n",
              "      <td>16112</td>\n",
              "    </tr>\n",
              "    <tr>\n",
              "      <th>4</th>\n",
              "      <td>7989</td>\n",
              "    </tr>\n",
              "    <tr>\n",
              "      <th rowspan=\"4\" valign=\"top\">7016.0</th>\n",
              "      <th rowspan=\"4\" valign=\"top\">Bay St / Queens Quay W (Ferry Terminal)</th>\n",
              "      <th rowspan=\"4\" valign=\"top\">43.640823</th>\n",
              "      <th rowspan=\"4\" valign=\"top\">-79.376265</th>\n",
              "      <th>1</th>\n",
              "      <td>1892</td>\n",
              "    </tr>\n",
              "    <tr>\n",
              "      <th>2</th>\n",
              "      <td>10505</td>\n",
              "    </tr>\n",
              "    <tr>\n",
              "      <th>3</th>\n",
              "      <td>24476</td>\n",
              "    </tr>\n",
              "    <tr>\n",
              "      <th>4</th>\n",
              "      <td>6492</td>\n",
              "    </tr>\n",
              "    <tr>\n",
              "      <th rowspan=\"4\" valign=\"top\">7022.0</th>\n",
              "      <th rowspan=\"4\" valign=\"top\">Simcoe St / Dundas St W</th>\n",
              "      <th rowspan=\"4\" valign=\"top\">43.650858</th>\n",
              "      <th rowspan=\"4\" valign=\"top\">-79.387582</th>\n",
              "      <th>1</th>\n",
              "      <td>4913</td>\n",
              "    </tr>\n",
              "    <tr>\n",
              "      <th>2</th>\n",
              "      <td>11353</td>\n",
              "    </tr>\n",
              "    <tr>\n",
              "      <th>3</th>\n",
              "      <td>24752</td>\n",
              "    </tr>\n",
              "    <tr>\n",
              "      <th>4</th>\n",
              "      <td>13335</td>\n",
              "    </tr>\n",
              "    <tr>\n",
              "      <th rowspan=\"4\" valign=\"top\">7030.0</th>\n",
              "      <th rowspan=\"4\" valign=\"top\">Bay St / Wellesley St W</th>\n",
              "      <th rowspan=\"4\" valign=\"top\">43.664088</th>\n",
              "      <th rowspan=\"4\" valign=\"top\">-79.387095</th>\n",
              "      <th>1</th>\n",
              "      <td>4620</td>\n",
              "    </tr>\n",
              "    <tr>\n",
              "      <th>2</th>\n",
              "      <td>10328</td>\n",
              "    </tr>\n",
              "    <tr>\n",
              "      <th>3</th>\n",
              "      <td>18811</td>\n",
              "    </tr>\n",
              "    <tr>\n",
              "      <th>4</th>\n",
              "      <td>11666</td>\n",
              "    </tr>\n",
              "    <tr>\n",
              "      <th rowspan=\"4\" valign=\"top\">7033.0</th>\n",
              "      <th rowspan=\"4\" valign=\"top\">Union Station</th>\n",
              "      <th rowspan=\"4\" valign=\"top\">43.645609</th>\n",
              "      <th rowspan=\"4\" valign=\"top\">-79.380386</th>\n",
              "      <th>1</th>\n",
              "      <td>5200</td>\n",
              "    </tr>\n",
              "    <tr>\n",
              "      <th>2</th>\n",
              "      <td>12045</td>\n",
              "    </tr>\n",
              "    <tr>\n",
              "      <th>3</th>\n",
              "      <td>21488</td>\n",
              "    </tr>\n",
              "    <tr>\n",
              "      <th>4</th>\n",
              "      <td>12431</td>\n",
              "    </tr>\n",
              "    <tr>\n",
              "      <th rowspan=\"4\" valign=\"top\">7042.0</th>\n",
              "      <th rowspan=\"4\" valign=\"top\">Sherbourne St / Wellesley St</th>\n",
              "      <th rowspan=\"4\" valign=\"top\">43.667300</th>\n",
              "      <th rowspan=\"4\" valign=\"top\">-79.374000</th>\n",
              "      <th>1</th>\n",
              "      <td>4566</td>\n",
              "    </tr>\n",
              "    <tr>\n",
              "      <th>2</th>\n",
              "      <td>9099</td>\n",
              "    </tr>\n",
              "    <tr>\n",
              "      <th>3</th>\n",
              "      <td>16043</td>\n",
              "    </tr>\n",
              "    <tr>\n",
              "      <th>4</th>\n",
              "      <td>10208</td>\n",
              "    </tr>\n",
              "    <tr>\n",
              "      <th rowspan=\"4\" valign=\"top\">7049.0</th>\n",
              "      <th rowspan=\"4\" valign=\"top\">Queen St W / Portland St</th>\n",
              "      <th rowspan=\"4\" valign=\"top\">43.647600</th>\n",
              "      <th rowspan=\"4\" valign=\"top\">-79.401500</th>\n",
              "      <th>1</th>\n",
              "      <td>3458</td>\n",
              "    </tr>\n",
              "    <tr>\n",
              "      <th>2</th>\n",
              "      <td>9811</td>\n",
              "    </tr>\n",
              "    <tr>\n",
              "      <th>3</th>\n",
              "      <td>18998</td>\n",
              "    </tr>\n",
              "    <tr>\n",
              "      <th>4</th>\n",
              "      <td>9571</td>\n",
              "    </tr>\n",
              "    <tr>\n",
              "      <th rowspan=\"4\" valign=\"top\">7059.0</th>\n",
              "      <th rowspan=\"4\" valign=\"top\">Front St W / Blue Jays Way</th>\n",
              "      <th rowspan=\"4\" valign=\"top\">43.643473</th>\n",
              "      <th rowspan=\"4\" valign=\"top\">-79.390477</th>\n",
              "      <th>1</th>\n",
              "      <td>3321</td>\n",
              "    </tr>\n",
              "    <tr>\n",
              "      <th>2</th>\n",
              "      <td>8935</td>\n",
              "    </tr>\n",
              "    <tr>\n",
              "      <th>3</th>\n",
              "      <td>18334</td>\n",
              "    </tr>\n",
              "    <tr>\n",
              "      <th>4</th>\n",
              "      <td>9078</td>\n",
              "    </tr>\n",
              "    <tr>\n",
              "      <th rowspan=\"4\" valign=\"top\">7076.0</th>\n",
              "      <th rowspan=\"4\" valign=\"top\">York St / Queens Quay W</th>\n",
              "      <th rowspan=\"4\" valign=\"top\">43.640132</th>\n",
              "      <th rowspan=\"4\" valign=\"top\">-79.380464</th>\n",
              "      <th>1</th>\n",
              "      <td>2433</td>\n",
              "    </tr>\n",
              "    <tr>\n",
              "      <th>2</th>\n",
              "      <td>11733</td>\n",
              "    </tr>\n",
              "    <tr>\n",
              "      <th>3</th>\n",
              "      <td>26767</td>\n",
              "    </tr>\n",
              "    <tr>\n",
              "      <th>4</th>\n",
              "      <td>8018</td>\n",
              "    </tr>\n",
              "  </tbody>\n",
              "</table>\n",
              "</div>"
            ],
            "text/plain": [
              "                                                                                      Number of Records\n",
              "station_id_from name_from                               lat_from  lon_from   Quarter                   \n",
              "7006.0          Bay St / College St (East Side)         43.660439 -79.385525 1                     4327\n",
              "                                                                             2                     9132\n",
              "                                                                             3                    18354\n",
              "                                                                             4                    10730\n",
              "7010.0          King St W / Spadina Ave                 43.645323 -79.395003 1                     3550\n",
              "                                                                             2                     9808\n",
              "                                                                             3                    16112\n",
              "                                                                             4                     7989\n",
              "7016.0          Bay St / Queens Quay W (Ferry Terminal) 43.640823 -79.376265 1                     1892\n",
              "                                                                             2                    10505\n",
              "                                                                             3                    24476\n",
              "                                                                             4                     6492\n",
              "7022.0          Simcoe St / Dundas St W                 43.650858 -79.387582 1                     4913\n",
              "                                                                             2                    11353\n",
              "                                                                             3                    24752\n",
              "                                                                             4                    13335\n",
              "7030.0          Bay St / Wellesley St W                 43.664088 -79.387095 1                     4620\n",
              "                                                                             2                    10328\n",
              "                                                                             3                    18811\n",
              "                                                                             4                    11666\n",
              "7033.0          Union Station                           43.645609 -79.380386 1                     5200\n",
              "                                                                             2                    12045\n",
              "                                                                             3                    21488\n",
              "                                                                             4                    12431\n",
              "7042.0          Sherbourne St / Wellesley St            43.667300 -79.374000 1                     4566\n",
              "                                                                             2                     9099\n",
              "                                                                             3                    16043\n",
              "                                                                             4                    10208\n",
              "7049.0          Queen St W / Portland St                43.647600 -79.401500 1                     3458\n",
              "                                                                             2                     9811\n",
              "                                                                             3                    18998\n",
              "                                                                             4                     9571\n",
              "7059.0          Front St W / Blue Jays Way              43.643473 -79.390477 1                     3321\n",
              "                                                                             2                     8935\n",
              "                                                                             3                    18334\n",
              "                                                                             4                     9078\n",
              "7076.0          York St / Queens Quay W                 43.640132 -79.380464 1                     2433\n",
              "                                                                             2                    11733\n",
              "                                                                             3                    26767\n",
              "                                                                             4                     8018"
            ]
          },
          "metadata": {
            "tags": []
          },
          "execution_count": 142
        }
      ]
    },
    {
      "cell_type": "code",
      "metadata": {
        "id": "APxS-goG5WE_",
        "colab_type": "code",
        "colab": {}
      },
      "source": [
        "#export table output\n",
        "export_csv = top10locations.to_csv(r'/content/drive/My Drive/BikeshareData - City of Toronto/TableOutput3.1.2.csv',index = False)"
      ],
      "execution_count": 0,
      "outputs": []
    },
    {
      "cell_type": "code",
      "metadata": {
        "id": "b9TJyTqUYRc0",
        "colab_type": "code",
        "colab": {}
      },
      "source": [
        "#isolating top 10 location coordinates for mapping\n",
        "tenbikestations_df = bikestations_df[(bikestations_df['station_id'] == 7033) |(bikestations_df['station_id'] == 7076)|(bikestations_df['station_id'] == 7030)|(bikestations_df['station_id'] == 7016)|(bikestations_df['station_id'] == 7006)|(bikestations_df['station_id'] == 7049)|(bikestations_df['station_id'] == 7059)|(bikestations_df['station_id'] == 7022)|(bikestations_df['station_id'] == 7010)|(bikestations_df['station_id'] == 7042)]"
      ],
      "execution_count": 0,
      "outputs": []
    },
    {
      "cell_type": "code",
      "metadata": {
        "id": "Pl4ArORxa5aX",
        "colab_type": "code",
        "colab": {}
      },
      "source": [
        "#exporting top locations coordinates \n",
        "export_csv = tenbikestations_df.to_csv(r'/content/drive/My Drive/BikeshareData - City of Toronto/tenbikestations.csv')"
      ],
      "execution_count": 0,
      "outputs": []
    },
    {
      "cell_type": "code",
      "metadata": {
        "id": "eORI3yKBHWYE",
        "colab_type": "code",
        "colab": {}
      },
      "source": [
        "#export mostused_df for mapping\n",
        "export_csv = mostused_df.to_csv(r'/content/drive/My Drive/BikeshareData - City of Toronto/mostused_df.csv',index = False)"
      ],
      "execution_count": 0,
      "outputs": []
    },
    {
      "cell_type": "markdown",
      "metadata": {
        "id": "_Kdyzowo9sbP",
        "colab_type": "text"
      },
      "source": [
        "###Calculating Popular Routes and Seasonal Variance"
      ]
    },
    {
      "cell_type": "code",
      "metadata": {
        "id": "dMF6Vsri0orf",
        "colab_type": "code",
        "colab": {}
      },
      "source": [
        "#aggregating for most used routes by count\n",
        "idroutes_df = bikeshare_df[['Route Id','trip_start_time']].groupby(['Route Id']).count().sort_values('trip_start_time',ascending = False)"
      ],
      "execution_count": 0,
      "outputs": []
    },
    {
      "cell_type": "code",
      "metadata": {
        "id": "Vl2CDIiN9tVg",
        "colab_type": "code",
        "colab": {
          "base_uri": "https://localhost:8080/",
          "height": 700
        },
        "outputId": "f037ecfe-0dee-400e-d241-e69c2f183c15"
      },
      "source": [
        "idroutes_df.head(20)"
      ],
      "execution_count": 145,
      "outputs": [
        {
          "output_type": "execute_result",
          "data": {
            "text/html": [
              "<div>\n",
              "<style scoped>\n",
              "    .dataframe tbody tr th:only-of-type {\n",
              "        vertical-align: middle;\n",
              "    }\n",
              "\n",
              "    .dataframe tbody tr th {\n",
              "        vertical-align: top;\n",
              "    }\n",
              "\n",
              "    .dataframe thead th {\n",
              "        text-align: right;\n",
              "    }\n",
              "</style>\n",
              "<table border=\"1\" class=\"dataframe\">\n",
              "  <thead>\n",
              "    <tr style=\"text-align: right;\">\n",
              "      <th></th>\n",
              "      <th>trip_start_time</th>\n",
              "    </tr>\n",
              "    <tr>\n",
              "      <th>Route Id</th>\n",
              "      <th></th>\n",
              "    </tr>\n",
              "  </thead>\n",
              "  <tbody>\n",
              "    <tr>\n",
              "      <th>7016-7016</th>\n",
              "      <td>7457</td>\n",
              "    </tr>\n",
              "    <tr>\n",
              "      <th>7171-7171</th>\n",
              "      <td>5371</td>\n",
              "    </tr>\n",
              "    <tr>\n",
              "      <th>7059-7033</th>\n",
              "      <td>4598</td>\n",
              "    </tr>\n",
              "    <tr>\n",
              "      <th>7076-7076</th>\n",
              "      <td>4356</td>\n",
              "    </tr>\n",
              "    <tr>\n",
              "      <th>7175-7175</th>\n",
              "      <td>3655</td>\n",
              "    </tr>\n",
              "    <tr>\n",
              "      <th>7288-7288</th>\n",
              "      <td>2972</td>\n",
              "    </tr>\n",
              "    <tr>\n",
              "      <th>7203-7076</th>\n",
              "      <td>2742</td>\n",
              "    </tr>\n",
              "    <tr>\n",
              "      <th>7022-7022</th>\n",
              "      <td>2616</td>\n",
              "    </tr>\n",
              "    <tr>\n",
              "      <th>7051-7042</th>\n",
              "      <td>2565</td>\n",
              "    </tr>\n",
              "    <tr>\n",
              "      <th>7076-7203</th>\n",
              "      <td>2371</td>\n",
              "    </tr>\n",
              "    <tr>\n",
              "      <th>7030-7033</th>\n",
              "      <td>2347</td>\n",
              "    </tr>\n",
              "    <tr>\n",
              "      <th>7076-7075</th>\n",
              "      <td>2138</td>\n",
              "    </tr>\n",
              "    <tr>\n",
              "      <th>7043-7043</th>\n",
              "      <td>2128</td>\n",
              "    </tr>\n",
              "    <tr>\n",
              "      <th>7042-7051</th>\n",
              "      <td>2093</td>\n",
              "    </tr>\n",
              "    <tr>\n",
              "      <th>7175-7171</th>\n",
              "      <td>2053</td>\n",
              "    </tr>\n",
              "    <tr>\n",
              "      <th>7220-7220</th>\n",
              "      <td>2030</td>\n",
              "    </tr>\n",
              "    <tr>\n",
              "      <th>7000-7033</th>\n",
              "      <td>1984</td>\n",
              "    </tr>\n",
              "    <tr>\n",
              "      <th>7010-7033</th>\n",
              "      <td>1953</td>\n",
              "    </tr>\n",
              "    <tr>\n",
              "      <th>7010-7057</th>\n",
              "      <td>1935</td>\n",
              "    </tr>\n",
              "    <tr>\n",
              "      <th>7057-7010</th>\n",
              "      <td>1935</td>\n",
              "    </tr>\n",
              "  </tbody>\n",
              "</table>\n",
              "</div>"
            ],
            "text/plain": [
              "           trip_start_time\n",
              "Route Id                  \n",
              "7016-7016             7457\n",
              "7171-7171             5371\n",
              "7059-7033             4598\n",
              "7076-7076             4356\n",
              "7175-7175             3655\n",
              "7288-7288             2972\n",
              "7203-7076             2742\n",
              "7022-7022             2616\n",
              "7051-7042             2565\n",
              "7076-7203             2371\n",
              "7030-7033             2347\n",
              "7076-7075             2138\n",
              "7043-7043             2128\n",
              "7042-7051             2093\n",
              "7175-7171             2053\n",
              "7220-7220             2030\n",
              "7000-7033             1984\n",
              "7010-7033             1953\n",
              "7010-7057             1935\n",
              "7057-7010             1935"
            ]
          },
          "metadata": {
            "tags": []
          },
          "execution_count": 145
        }
      ]
    },
    {
      "cell_type": "markdown",
      "metadata": {
        "id": "Tk3camQB1nLR",
        "colab_type": "text"
      },
      "source": [
        "Two of Three most trafficked Routes are returning back to their Start Stations"
      ]
    },
    {
      "cell_type": "code",
      "metadata": {
        "id": "xPrXQ_c61m1v",
        "colab_type": "code",
        "colab": {}
      },
      "source": [
        "#taking rows only from 3 most used not going back to same station\n",
        "routes_df = bikeshare_df[(bikeshare_df['Route Id'] == '7051-7042') | (bikeshare_df['Route Id'] == '7203-7076') | (bikeshare_df['Route Id'] == '7059-7033')]"
      ],
      "execution_count": 0,
      "outputs": []
    },
    {
      "cell_type": "code",
      "metadata": {
        "id": "dvjRIgeF2Tvg",
        "colab_type": "code",
        "colab": {}
      },
      "source": [
        "#aggregating counts of records by route and quarter\n",
        "popular_routes = routes_df[['Route Id','name_from','name_to','Quarter','trip_start_time']].groupby(['Route Id','name_from','name_to','Quarter']).count()"
      ],
      "execution_count": 0,
      "outputs": []
    },
    {
      "cell_type": "markdown",
      "metadata": {
        "id": "1IyStq2hTvNh",
        "colab_type": "text"
      },
      "source": [
        "**Table Output:3.1.3.**"
      ]
    },
    {
      "cell_type": "markdown",
      "metadata": {
        "id": "V-4VRDBRr-p5",
        "colab_type": "text"
      },
      "source": [
        "took down only routes going to other stations"
      ]
    },
    {
      "cell_type": "code",
      "metadata": {
        "id": "q80LgAn32TcJ",
        "colab_type": "code",
        "colab": {
          "base_uri": "https://localhost:8080/",
          "height": 452
        },
        "outputId": "6d14de99-b1ce-4b03-b967-2707b7b1009e"
      },
      "source": [
        "#renaming column to accurate representation\n",
        "popular_routes.rename(columns = {'trip_start_time':'Number of Records'})"
      ],
      "execution_count": 148,
      "outputs": [
        {
          "output_type": "execute_result",
          "data": {
            "text/html": [
              "<div>\n",
              "<style scoped>\n",
              "    .dataframe tbody tr th:only-of-type {\n",
              "        vertical-align: middle;\n",
              "    }\n",
              "\n",
              "    .dataframe tbody tr th {\n",
              "        vertical-align: top;\n",
              "    }\n",
              "\n",
              "    .dataframe thead th {\n",
              "        text-align: right;\n",
              "    }\n",
              "</style>\n",
              "<table border=\"1\" class=\"dataframe\">\n",
              "  <thead>\n",
              "    <tr style=\"text-align: right;\">\n",
              "      <th></th>\n",
              "      <th></th>\n",
              "      <th></th>\n",
              "      <th></th>\n",
              "      <th>Number of Records</th>\n",
              "    </tr>\n",
              "    <tr>\n",
              "      <th>Route Id</th>\n",
              "      <th>name_from</th>\n",
              "      <th>name_to</th>\n",
              "      <th>Quarter</th>\n",
              "      <th></th>\n",
              "    </tr>\n",
              "  </thead>\n",
              "  <tbody>\n",
              "    <tr>\n",
              "      <th rowspan=\"4\" valign=\"top\">7051-7042</th>\n",
              "      <th rowspan=\"4\" valign=\"top\">Wellesley St E / Yonge St Green P</th>\n",
              "      <th rowspan=\"4\" valign=\"top\">Sherbourne St / Wellesley St</th>\n",
              "      <th>1</th>\n",
              "      <td>228</td>\n",
              "    </tr>\n",
              "    <tr>\n",
              "      <th>2</th>\n",
              "      <td>581</td>\n",
              "    </tr>\n",
              "    <tr>\n",
              "      <th>3</th>\n",
              "      <td>1083</td>\n",
              "    </tr>\n",
              "    <tr>\n",
              "      <th>4</th>\n",
              "      <td>673</td>\n",
              "    </tr>\n",
              "    <tr>\n",
              "      <th rowspan=\"4\" valign=\"top\">7059-7033</th>\n",
              "      <th rowspan=\"4\" valign=\"top\">Front St W / Blue Jays Way</th>\n",
              "      <th rowspan=\"4\" valign=\"top\">Union Station</th>\n",
              "      <th>1</th>\n",
              "      <td>599</td>\n",
              "    </tr>\n",
              "    <tr>\n",
              "      <th>2</th>\n",
              "      <td>1059</td>\n",
              "    </tr>\n",
              "    <tr>\n",
              "      <th>3</th>\n",
              "      <td>1710</td>\n",
              "    </tr>\n",
              "    <tr>\n",
              "      <th>4</th>\n",
              "      <td>1230</td>\n",
              "    </tr>\n",
              "    <tr>\n",
              "      <th rowspan=\"4\" valign=\"top\">7203-7076</th>\n",
              "      <th rowspan=\"4\" valign=\"top\">Bathurst St / Queens Quay W</th>\n",
              "      <th rowspan=\"4\" valign=\"top\">York St / Queens Quay W</th>\n",
              "      <th>1</th>\n",
              "      <td>101</td>\n",
              "    </tr>\n",
              "    <tr>\n",
              "      <th>2</th>\n",
              "      <td>706</td>\n",
              "    </tr>\n",
              "    <tr>\n",
              "      <th>3</th>\n",
              "      <td>1373</td>\n",
              "    </tr>\n",
              "    <tr>\n",
              "      <th>4</th>\n",
              "      <td>562</td>\n",
              "    </tr>\n",
              "  </tbody>\n",
              "</table>\n",
              "</div>"
            ],
            "text/plain": [
              "                                                                                  Number of Records\n",
              "Route Id  name_from                         name_to                      Quarter                   \n",
              "7051-7042 Wellesley St E / Yonge St Green P Sherbourne St / Wellesley St 1                      228\n",
              "                                                                         2                      581\n",
              "                                                                         3                     1083\n",
              "                                                                         4                      673\n",
              "7059-7033 Front St W / Blue Jays Way        Union Station                1                      599\n",
              "                                                                         2                     1059\n",
              "                                                                         3                     1710\n",
              "                                                                         4                     1230\n",
              "7203-7076 Bathurst St / Queens Quay W       York St / Queens Quay W      1                      101\n",
              "                                                                         2                      706\n",
              "                                                                         3                     1373\n",
              "                                                                         4                      562"
            ]
          },
          "metadata": {
            "tags": []
          },
          "execution_count": 148
        }
      ]
    },
    {
      "cell_type": "code",
      "metadata": {
        "id": "gSYFo0gf9PLH",
        "colab_type": "code",
        "colab": {}
      },
      "source": [
        "#exporting top routes for mapping\n",
        "export_csv = routes_df.to_csv(r'/content/drive/My Drive/BikeshareData - City of Toronto/routes_df.csv',index = False)"
      ],
      "execution_count": 0,
      "outputs": []
    },
    {
      "cell_type": "code",
      "metadata": {
        "id": "d7Su0U6Nb3dI",
        "colab_type": "code",
        "colab": {}
      },
      "source": [
        "#isolate 6 coordinates for mapping routes\n",
        "threeroutes_df = bikestations_df[(bikestations_df['station_id'] == 7033) |(bikestations_df['station_id'] == 7076)|(bikestations_df['station_id'] == 7203)|(bikestations_df['station_id'] == 7042)|(bikestations_df['station_id'] == 7051)|(bikestations_df['station_id'] == 7059)]"
      ],
      "execution_count": 0,
      "outputs": []
    },
    {
      "cell_type": "code",
      "metadata": {
        "id": "qt8FWEMPcmZg",
        "colab_type": "code",
        "colab": {
          "base_uri": "https://localhost:8080/",
          "height": 235
        },
        "outputId": "2ca70152-c6a8-4d48-fc45-52a781f87f58"
      },
      "source": [
        "threeroutes_df"
      ],
      "execution_count": 164,
      "outputs": [
        {
          "output_type": "execute_result",
          "data": {
            "text/html": [
              "<div>\n",
              "<style scoped>\n",
              "    .dataframe tbody tr th:only-of-type {\n",
              "        vertical-align: middle;\n",
              "    }\n",
              "\n",
              "    .dataframe tbody tr th {\n",
              "        vertical-align: top;\n",
              "    }\n",
              "\n",
              "    .dataframe thead th {\n",
              "        text-align: right;\n",
              "    }\n",
              "</style>\n",
              "<table border=\"1\" class=\"dataframe\">\n",
              "  <thead>\n",
              "    <tr style=\"text-align: right;\">\n",
              "      <th></th>\n",
              "      <th>station_id</th>\n",
              "      <th>name</th>\n",
              "      <th>lat</th>\n",
              "      <th>lon</th>\n",
              "    </tr>\n",
              "  </thead>\n",
              "  <tbody>\n",
              "    <tr>\n",
              "      <th>33</th>\n",
              "      <td>7033.0</td>\n",
              "      <td>Union Station</td>\n",
              "      <td>43.645609</td>\n",
              "      <td>-79.380386</td>\n",
              "    </tr>\n",
              "    <tr>\n",
              "      <th>42</th>\n",
              "      <td>7042.0</td>\n",
              "      <td>Sherbourne St / Wellesley St E</td>\n",
              "      <td>43.667300</td>\n",
              "      <td>-79.374000</td>\n",
              "    </tr>\n",
              "    <tr>\n",
              "      <th>51</th>\n",
              "      <td>7051.0</td>\n",
              "      <td>Wellesley St E / Yonge St (Green P)</td>\n",
              "      <td>43.665060</td>\n",
              "      <td>-79.383570</td>\n",
              "    </tr>\n",
              "    <tr>\n",
              "      <th>59</th>\n",
              "      <td>7059.0</td>\n",
              "      <td>Front St W / Blue Jays Way</td>\n",
              "      <td>43.643473</td>\n",
              "      <td>-79.390477</td>\n",
              "    </tr>\n",
              "    <tr>\n",
              "      <th>75</th>\n",
              "      <td>7076.0</td>\n",
              "      <td>York St / Queens Quay W</td>\n",
              "      <td>43.640132</td>\n",
              "      <td>-79.380464</td>\n",
              "    </tr>\n",
              "    <tr>\n",
              "      <th>189</th>\n",
              "      <td>7203.0</td>\n",
              "      <td>Bathurst St/Queens Quay(Billy Bishop Airport)</td>\n",
              "      <td>43.635492</td>\n",
              "      <td>-79.398253</td>\n",
              "    </tr>\n",
              "  </tbody>\n",
              "</table>\n",
              "</div>"
            ],
            "text/plain": [
              "     station_id  ...        lon\n",
              "33       7033.0  ... -79.380386\n",
              "42       7042.0  ... -79.374000\n",
              "51       7051.0  ... -79.383570\n",
              "59       7059.0  ... -79.390477\n",
              "75       7076.0  ... -79.380464\n",
              "189      7203.0  ... -79.398253\n",
              "\n",
              "[6 rows x 4 columns]"
            ]
          },
          "metadata": {
            "tags": []
          },
          "execution_count": 164
        }
      ]
    },
    {
      "cell_type": "code",
      "metadata": {
        "id": "QI5H6Yfoc47q",
        "colab_type": "code",
        "colab": {}
      },
      "source": [
        "#exporting 3 route coordinates \n",
        "export_csv = threeroutes_df.to_csv(r'/content/drive/My Drive/BikeshareData - City of Toronto/threeroutes.csv')"
      ],
      "execution_count": 0,
      "outputs": []
    },
    {
      "cell_type": "code",
      "metadata": {
        "id": "FrD0RME8Gg8l",
        "colab_type": "code",
        "colab": {}
      },
      "source": [
        "#export table output\n",
        "export_csv = popular_routes.to_csv(r'/content/drive/My Drive/BikeshareData - City of Toronto/TableOutput3.1.3.csv',index = False)"
      ],
      "execution_count": 0,
      "outputs": []
    },
    {
      "cell_type": "markdown",
      "metadata": {
        "id": "ju-Os0RthmEa",
        "colab_type": "text"
      },
      "source": [
        "###Calculate Total Extra Usage Fees by Quarter"
      ]
    },
    {
      "cell_type": "markdown",
      "metadata": {
        "id": "K9sRKZzdTza3",
        "colab_type": "text"
      },
      "source": [
        "**Table Output:3.1.4.**"
      ]
    },
    {
      "cell_type": "code",
      "metadata": {
        "id": "rH_9fj1GhsIX",
        "colab_type": "code",
        "colab": {}
      },
      "source": [
        "extrafees_df = bikeshare_df[['Quarter','ExtraFees']].groupby(['Quarter']).sum()"
      ],
      "execution_count": 0,
      "outputs": []
    },
    {
      "cell_type": "code",
      "metadata": {
        "id": "NkqjJYHNHDeB",
        "colab_type": "code",
        "colab": {
          "base_uri": "https://localhost:8080/",
          "height": 204
        },
        "outputId": "d2dfc39d-dc66-4ab1-fef6-564e94e76aca"
      },
      "source": [
        "extrafees_df.head()"
      ],
      "execution_count": 152,
      "outputs": [
        {
          "output_type": "execute_result",
          "data": {
            "text/html": [
              "<div>\n",
              "<style scoped>\n",
              "    .dataframe tbody tr th:only-of-type {\n",
              "        vertical-align: middle;\n",
              "    }\n",
              "\n",
              "    .dataframe tbody tr th {\n",
              "        vertical-align: top;\n",
              "    }\n",
              "\n",
              "    .dataframe thead th {\n",
              "        text-align: right;\n",
              "    }\n",
              "</style>\n",
              "<table border=\"1\" class=\"dataframe\">\n",
              "  <thead>\n",
              "    <tr style=\"text-align: right;\">\n",
              "      <th></th>\n",
              "      <th>ExtraFees</th>\n",
              "    </tr>\n",
              "    <tr>\n",
              "      <th>Quarter</th>\n",
              "      <th></th>\n",
              "    </tr>\n",
              "  </thead>\n",
              "  <tbody>\n",
              "    <tr>\n",
              "      <th>1</th>\n",
              "      <td>27581</td>\n",
              "    </tr>\n",
              "    <tr>\n",
              "      <th>2</th>\n",
              "      <td>419435</td>\n",
              "    </tr>\n",
              "    <tr>\n",
              "      <th>3</th>\n",
              "      <td>1069795</td>\n",
              "    </tr>\n",
              "    <tr>\n",
              "      <th>4</th>\n",
              "      <td>166738</td>\n",
              "    </tr>\n",
              "  </tbody>\n",
              "</table>\n",
              "</div>"
            ],
            "text/plain": [
              "         ExtraFees\n",
              "Quarter           \n",
              "1            27581\n",
              "2           419435\n",
              "3          1069795\n",
              "4           166738"
            ]
          },
          "metadata": {
            "tags": []
          },
          "execution_count": 152
        }
      ]
    },
    {
      "cell_type": "code",
      "metadata": {
        "id": "mDKtmDpG6PpF",
        "colab_type": "code",
        "colab": {}
      },
      "source": [
        "#export table output\n",
        "export_csv = extrafees_df.to_csv(r'/content/drive/My Drive/BikeshareData - City of Toronto/TableOutput3.1.4.csv',index = False)"
      ],
      "execution_count": 0,
      "outputs": []
    },
    {
      "cell_type": "markdown",
      "metadata": {
        "id": "OA1VBuEd04Wl",
        "colab_type": "text"
      },
      "source": [
        "#Connecting to Postgres Database "
      ]
    },
    {
      "cell_type": "code",
      "metadata": {
        "id": "WOk-zEeOyOQ9",
        "colab_type": "code",
        "colab": {
          "base_uri": "https://localhost:8080/",
          "height": 34
        },
        "outputId": "8ab8b048-462b-404b-c7fc-32df01328d7a"
      },
      "source": [
        "pip install psycopg2"
      ],
      "execution_count": 166,
      "outputs": [
        {
          "output_type": "stream",
          "text": [
            "Requirement already satisfied: psycopg2 in /usr/local/lib/python3.6/dist-packages (2.7.6.1)\n"
          ],
          "name": "stdout"
        }
      ]
    },
    {
      "cell_type": "code",
      "metadata": {
        "id": "sikIEg7xyNNr",
        "colab_type": "code",
        "colab": {}
      },
      "source": [
        "import psycopg2\n",
        "connection = psycopg2.connect(\n",
        "    host = 'database-1.cglpfnjcmmha.us-east-2.rds.amazonaws.com',\n",
        "    port = 5432,\n",
        "    user = 'postgres',\n",
        "    password = 'bikeshare',\n",
        "    database='torontobikeshare'\n",
        "    )\n",
        "cursor=connection.cursor()"
      ],
      "execution_count": 0,
      "outputs": []
    },
    {
      "cell_type": "code",
      "metadata": {
        "id": "sUz9ageh20CV",
        "colab_type": "code",
        "colab": {
          "base_uri": "https://localhost:8080/",
          "height": 34
        },
        "outputId": "3b07d724-695d-464f-da3a-5097b80955e9"
      },
      "source": [
        "type(bikeshare_df['user_type'][0])"
      ],
      "execution_count": 173,
      "outputs": [
        {
          "output_type": "execute_result",
          "data": {
            "text/plain": [
              "str"
            ]
          },
          "metadata": {
            "tags": []
          },
          "execution_count": 173
        }
      ]
    },
    {
      "cell_type": "code",
      "metadata": {
        "id": "ZEOF7rqF7Y1w",
        "colab_type": "code",
        "colab": {
          "base_uri": "https://localhost:8080/",
          "height": 34
        },
        "outputId": "452705e9-de8b-4f7d-95a0-9335e1428ea2"
      },
      "source": [
        "postgres_df['RouteId'].dtypes"
      ],
      "execution_count": 182,
      "outputs": [
        {
          "output_type": "execute_result",
          "data": {
            "text/plain": [
              "dtype('O')"
            ]
          },
          "metadata": {
            "tags": []
          },
          "execution_count": 182
        }
      ]
    },
    {
      "cell_type": "code",
      "metadata": {
        "id": "tHt_UIfl6hvd",
        "colab_type": "code",
        "colab": {}
      },
      "source": [
        "#changing column name for compatibility with postgres database\n",
        "postgres_df = bikeshare_df.rename(columns = {'Route Id':'RouteId'})"
      ],
      "execution_count": 0,
      "outputs": []
    },
    {
      "cell_type": "code",
      "metadata": {
        "id": "5EAXJMtV9ayC",
        "colab_type": "code",
        "colab": {}
      },
      "source": [
        "#export database csv\n",
        "export_csv = postgres_df.to_csv(r'/content/drive/My Drive/BikeshareData - City of Toronto/postgres_df.csv',index = False)"
      ],
      "execution_count": 0,
      "outputs": []
    },
    {
      "cell_type": "code",
      "metadata": {
        "id": "t6od4pwxzUU7",
        "colab_type": "code",
        "colab": {}
      },
      "source": [
        "#creating table bikedata\n",
        "cursor.execute(\"\"\"CREATE TABLE bikedata(\n",
        "trip_start_time timestamp,\n",
        "trip_stop_time timestamp,\n",
        "trip_duration_seconds integer,\n",
        "user_type text,\n",
        "station_id_from float,\n",
        "name_from text,\n",
        "lat_from float,\n",
        "lon_from float,\n",
        "station_id_to float,\n",
        "name_to text,\n",
        "lat_to float,\n",
        "lon_to float,\n",
        "StartHour integer,\n",
        "StopHour integer,\n",
        "Quarter integer,\n",
        "Year integer,\n",
        "Month integer,\n",
        "DayofWeek text,\n",
        "DayNumber integer,\n",
        "ExtraFees integer,\n",
        "RouteId text)\"\"\")\n",
        "\n",
        "connection.commit()"
      ],
      "execution_count": 0,
      "outputs": []
    },
    {
      "cell_type": "code",
      "metadata": {
        "id": "NqzGdfnJ9L5d",
        "colab_type": "code",
        "colab": {
          "base_uri": "https://localhost:8080/",
          "height": 700
        },
        "outputId": "f3522267-397b-41b6-a9ce-472881c2f874"
      },
      "source": [
        "#getting schema info\n",
        "sql = \"\"\"\n",
        "SELECT \"table_name\",\"column_name\", \"data_type\", \"table_schema\"\n",
        "FROM INFORMATION_SCHEMA.COLUMNS\n",
        "WHERE \"table_schema\" = 'public'\n",
        "ORDER BY table_name  \n",
        "\"\"\"\n",
        "pd.read_sql(sql, con=connection)"
      ],
      "execution_count": 195,
      "outputs": [
        {
          "output_type": "execute_result",
          "data": {
            "text/html": [
              "<div>\n",
              "<style scoped>\n",
              "    .dataframe tbody tr th:only-of-type {\n",
              "        vertical-align: middle;\n",
              "    }\n",
              "\n",
              "    .dataframe tbody tr th {\n",
              "        vertical-align: top;\n",
              "    }\n",
              "\n",
              "    .dataframe thead th {\n",
              "        text-align: right;\n",
              "    }\n",
              "</style>\n",
              "<table border=\"1\" class=\"dataframe\">\n",
              "  <thead>\n",
              "    <tr style=\"text-align: right;\">\n",
              "      <th></th>\n",
              "      <th>table_name</th>\n",
              "      <th>column_name</th>\n",
              "      <th>data_type</th>\n",
              "      <th>table_schema</th>\n",
              "    </tr>\n",
              "  </thead>\n",
              "  <tbody>\n",
              "    <tr>\n",
              "      <th>0</th>\n",
              "      <td>bikedata</td>\n",
              "      <td>month</td>\n",
              "      <td>integer</td>\n",
              "      <td>public</td>\n",
              "    </tr>\n",
              "    <tr>\n",
              "      <th>1</th>\n",
              "      <td>bikedata</td>\n",
              "      <td>lat_to</td>\n",
              "      <td>double precision</td>\n",
              "      <td>public</td>\n",
              "    </tr>\n",
              "    <tr>\n",
              "      <th>2</th>\n",
              "      <td>bikedata</td>\n",
              "      <td>trip_stop_time</td>\n",
              "      <td>timestamp without time zone</td>\n",
              "      <td>public</td>\n",
              "    </tr>\n",
              "    <tr>\n",
              "      <th>3</th>\n",
              "      <td>bikedata</td>\n",
              "      <td>dayofweek</td>\n",
              "      <td>text</td>\n",
              "      <td>public</td>\n",
              "    </tr>\n",
              "    <tr>\n",
              "      <th>4</th>\n",
              "      <td>bikedata</td>\n",
              "      <td>name_to</td>\n",
              "      <td>text</td>\n",
              "      <td>public</td>\n",
              "    </tr>\n",
              "    <tr>\n",
              "      <th>5</th>\n",
              "      <td>bikedata</td>\n",
              "      <td>lon_to</td>\n",
              "      <td>double precision</td>\n",
              "      <td>public</td>\n",
              "    </tr>\n",
              "    <tr>\n",
              "      <th>6</th>\n",
              "      <td>bikedata</td>\n",
              "      <td>extrafees</td>\n",
              "      <td>integer</td>\n",
              "      <td>public</td>\n",
              "    </tr>\n",
              "    <tr>\n",
              "      <th>7</th>\n",
              "      <td>bikedata</td>\n",
              "      <td>daynumber</td>\n",
              "      <td>integer</td>\n",
              "      <td>public</td>\n",
              "    </tr>\n",
              "    <tr>\n",
              "      <th>8</th>\n",
              "      <td>bikedata</td>\n",
              "      <td>quarter</td>\n",
              "      <td>integer</td>\n",
              "      <td>public</td>\n",
              "    </tr>\n",
              "    <tr>\n",
              "      <th>9</th>\n",
              "      <td>bikedata</td>\n",
              "      <td>station_id_from</td>\n",
              "      <td>double precision</td>\n",
              "      <td>public</td>\n",
              "    </tr>\n",
              "    <tr>\n",
              "      <th>10</th>\n",
              "      <td>bikedata</td>\n",
              "      <td>routeid</td>\n",
              "      <td>text</td>\n",
              "      <td>public</td>\n",
              "    </tr>\n",
              "    <tr>\n",
              "      <th>11</th>\n",
              "      <td>bikedata</td>\n",
              "      <td>starthour</td>\n",
              "      <td>integer</td>\n",
              "      <td>public</td>\n",
              "    </tr>\n",
              "    <tr>\n",
              "      <th>12</th>\n",
              "      <td>bikedata</td>\n",
              "      <td>name_from</td>\n",
              "      <td>text</td>\n",
              "      <td>public</td>\n",
              "    </tr>\n",
              "    <tr>\n",
              "      <th>13</th>\n",
              "      <td>bikedata</td>\n",
              "      <td>lon_from</td>\n",
              "      <td>double precision</td>\n",
              "      <td>public</td>\n",
              "    </tr>\n",
              "    <tr>\n",
              "      <th>14</th>\n",
              "      <td>bikedata</td>\n",
              "      <td>stophour</td>\n",
              "      <td>integer</td>\n",
              "      <td>public</td>\n",
              "    </tr>\n",
              "    <tr>\n",
              "      <th>15</th>\n",
              "      <td>bikedata</td>\n",
              "      <td>trip_duration_seconds</td>\n",
              "      <td>integer</td>\n",
              "      <td>public</td>\n",
              "    </tr>\n",
              "    <tr>\n",
              "      <th>16</th>\n",
              "      <td>bikedata</td>\n",
              "      <td>lat_from</td>\n",
              "      <td>double precision</td>\n",
              "      <td>public</td>\n",
              "    </tr>\n",
              "    <tr>\n",
              "      <th>17</th>\n",
              "      <td>bikedata</td>\n",
              "      <td>station_id_to</td>\n",
              "      <td>double precision</td>\n",
              "      <td>public</td>\n",
              "    </tr>\n",
              "    <tr>\n",
              "      <th>18</th>\n",
              "      <td>bikedata</td>\n",
              "      <td>user_type</td>\n",
              "      <td>text</td>\n",
              "      <td>public</td>\n",
              "    </tr>\n",
              "    <tr>\n",
              "      <th>19</th>\n",
              "      <td>bikedata</td>\n",
              "      <td>year</td>\n",
              "      <td>integer</td>\n",
              "      <td>public</td>\n",
              "    </tr>\n",
              "    <tr>\n",
              "      <th>20</th>\n",
              "      <td>bikedata</td>\n",
              "      <td>trip_start_time</td>\n",
              "      <td>timestamp without time zone</td>\n",
              "      <td>public</td>\n",
              "    </tr>\n",
              "  </tbody>\n",
              "</table>\n",
              "</div>"
            ],
            "text/plain": [
              "   table_name            column_name                    data_type table_schema\n",
              "0    bikedata                  month                      integer       public\n",
              "1    bikedata                 lat_to             double precision       public\n",
              "2    bikedata         trip_stop_time  timestamp without time zone       public\n",
              "3    bikedata              dayofweek                         text       public\n",
              "4    bikedata                name_to                         text       public\n",
              "5    bikedata                 lon_to             double precision       public\n",
              "6    bikedata              extrafees                      integer       public\n",
              "7    bikedata              daynumber                      integer       public\n",
              "8    bikedata                quarter                      integer       public\n",
              "9    bikedata        station_id_from             double precision       public\n",
              "10   bikedata                routeid                         text       public\n",
              "11   bikedata              starthour                      integer       public\n",
              "12   bikedata              name_from                         text       public\n",
              "13   bikedata               lon_from             double precision       public\n",
              "14   bikedata               stophour                      integer       public\n",
              "15   bikedata  trip_duration_seconds                      integer       public\n",
              "16   bikedata               lat_from             double precision       public\n",
              "17   bikedata          station_id_to             double precision       public\n",
              "18   bikedata              user_type                         text       public\n",
              "19   bikedata                   year                      integer       public\n",
              "20   bikedata        trip_start_time  timestamp without time zone       public"
            ]
          },
          "metadata": {
            "tags": []
          },
          "execution_count": 195
        }
      ]
    },
    {
      "cell_type": "code",
      "metadata": {
        "id": "5-7c1Pgk7nFC",
        "colab_type": "code",
        "colab": {}
      },
      "source": [
        "#loading csv into database table\n",
        "with open('/content/drive/My Drive/BikeshareData - City of Toronto/postgres_df.csv', 'r') as row:\n",
        "    next(row)# Skip the header row.\n",
        "    cursor.copy_from(row, 'bikedata', sep=',')\n",
        "\n",
        "connection.commit()"
      ],
      "execution_count": 0,
      "outputs": []
    },
    {
      "cell_type": "code",
      "metadata": {
        "id": "GjAJgxiy-nEK",
        "colab_type": "code",
        "colab": {
          "base_uri": "https://localhost:8080/",
          "height": 479
        },
        "outputId": "4d576007-1747-43eb-bc65-2736c572d0b7"
      },
      "source": [
        "#querying\n",
        "sql = \"\"\"\n",
        "SELECT *\n",
        "FROM bikedata\n",
        "limit 5\n",
        "\"\"\"\n",
        "\n",
        "pd.read_sql(sql, con=connection)"
      ],
      "execution_count": 194,
      "outputs": [
        {
          "output_type": "execute_result",
          "data": {
            "text/html": [
              "<div>\n",
              "<style scoped>\n",
              "    .dataframe tbody tr th:only-of-type {\n",
              "        vertical-align: middle;\n",
              "    }\n",
              "\n",
              "    .dataframe tbody tr th {\n",
              "        vertical-align: top;\n",
              "    }\n",
              "\n",
              "    .dataframe thead th {\n",
              "        text-align: right;\n",
              "    }\n",
              "</style>\n",
              "<table border=\"1\" class=\"dataframe\">\n",
              "  <thead>\n",
              "    <tr style=\"text-align: right;\">\n",
              "      <th></th>\n",
              "      <th>trip_start_time</th>\n",
              "      <th>trip_stop_time</th>\n",
              "      <th>trip_duration_seconds</th>\n",
              "      <th>user_type</th>\n",
              "      <th>station_id_from</th>\n",
              "      <th>name_from</th>\n",
              "      <th>lat_from</th>\n",
              "      <th>lon_from</th>\n",
              "      <th>station_id_to</th>\n",
              "      <th>name_to</th>\n",
              "      <th>lat_to</th>\n",
              "      <th>lon_to</th>\n",
              "      <th>starthour</th>\n",
              "      <th>stophour</th>\n",
              "      <th>quarter</th>\n",
              "      <th>year</th>\n",
              "      <th>month</th>\n",
              "      <th>dayofweek</th>\n",
              "      <th>daynumber</th>\n",
              "      <th>extrafees</th>\n",
              "      <th>routeid</th>\n",
              "    </tr>\n",
              "  </thead>\n",
              "  <tbody>\n",
              "    <tr>\n",
              "      <th>0</th>\n",
              "      <td>2016-07-09 01:03:00</td>\n",
              "      <td>2016-07-09 01:15:00</td>\n",
              "      <td>714</td>\n",
              "      <td>Member</td>\n",
              "      <td>7100.0</td>\n",
              "      <td>Dundas St E / Regent Park Blvd</td>\n",
              "      <td>43.660207</td>\n",
              "      <td>-79.361275</td>\n",
              "      <td>7095.0</td>\n",
              "      <td>Danforth Ave / Ellerbeck St</td>\n",
              "      <td>43.677076</td>\n",
              "      <td>-79.35667</td>\n",
              "      <td>1</td>\n",
              "      <td>1</td>\n",
              "      <td>3</td>\n",
              "      <td>2016</td>\n",
              "      <td>7</td>\n",
              "      <td>Saturday</td>\n",
              "      <td>9</td>\n",
              "      <td>0</td>\n",
              "      <td>7100-7095</td>\n",
              "    </tr>\n",
              "    <tr>\n",
              "      <th>1</th>\n",
              "      <td>2016-09-03 22:37:00</td>\n",
              "      <td>2016-09-03 22:48:00</td>\n",
              "      <td>685</td>\n",
              "      <td>Member</td>\n",
              "      <td>7100.0</td>\n",
              "      <td>Dundas St E / Regent Park Blvd</td>\n",
              "      <td>43.660207</td>\n",
              "      <td>-79.361275</td>\n",
              "      <td>7095.0</td>\n",
              "      <td>Danforth Ave / Ellerbeck St</td>\n",
              "      <td>43.677076</td>\n",
              "      <td>-79.35667</td>\n",
              "      <td>22</td>\n",
              "      <td>22</td>\n",
              "      <td>3</td>\n",
              "      <td>2016</td>\n",
              "      <td>9</td>\n",
              "      <td>Saturday</td>\n",
              "      <td>3</td>\n",
              "      <td>0</td>\n",
              "      <td>7100-7095</td>\n",
              "    </tr>\n",
              "    <tr>\n",
              "      <th>2</th>\n",
              "      <td>2016-08-05 16:21:00</td>\n",
              "      <td>2016-08-05 16:33:00</td>\n",
              "      <td>718</td>\n",
              "      <td>Member</td>\n",
              "      <td>7100.0</td>\n",
              "      <td>Dundas St E / Regent Park Blvd</td>\n",
              "      <td>43.660207</td>\n",
              "      <td>-79.361275</td>\n",
              "      <td>7095.0</td>\n",
              "      <td>Danforth Ave / Ellerbeck St</td>\n",
              "      <td>43.677076</td>\n",
              "      <td>-79.35667</td>\n",
              "      <td>16</td>\n",
              "      <td>16</td>\n",
              "      <td>3</td>\n",
              "      <td>2016</td>\n",
              "      <td>8</td>\n",
              "      <td>Friday</td>\n",
              "      <td>5</td>\n",
              "      <td>0</td>\n",
              "      <td>7100-7095</td>\n",
              "    </tr>\n",
              "    <tr>\n",
              "      <th>3</th>\n",
              "      <td>2016-09-23 10:15:00</td>\n",
              "      <td>2016-09-23 10:28:00</td>\n",
              "      <td>792</td>\n",
              "      <td>Member</td>\n",
              "      <td>7100.0</td>\n",
              "      <td>Dundas St E / Regent Park Blvd</td>\n",
              "      <td>43.660207</td>\n",
              "      <td>-79.361275</td>\n",
              "      <td>7095.0</td>\n",
              "      <td>Danforth Ave / Ellerbeck St</td>\n",
              "      <td>43.677076</td>\n",
              "      <td>-79.35667</td>\n",
              "      <td>10</td>\n",
              "      <td>10</td>\n",
              "      <td>3</td>\n",
              "      <td>2016</td>\n",
              "      <td>9</td>\n",
              "      <td>Friday</td>\n",
              "      <td>23</td>\n",
              "      <td>0</td>\n",
              "      <td>7100-7095</td>\n",
              "    </tr>\n",
              "    <tr>\n",
              "      <th>4</th>\n",
              "      <td>2016-10-15 13:40:00</td>\n",
              "      <td>2016-10-15 13:51:00</td>\n",
              "      <td>653</td>\n",
              "      <td>Member</td>\n",
              "      <td>7100.0</td>\n",
              "      <td>Dundas St E / Regent Park Blvd</td>\n",
              "      <td>43.660207</td>\n",
              "      <td>-79.361275</td>\n",
              "      <td>7095.0</td>\n",
              "      <td>Danforth Ave / Ellerbeck St</td>\n",
              "      <td>43.677076</td>\n",
              "      <td>-79.35667</td>\n",
              "      <td>13</td>\n",
              "      <td>13</td>\n",
              "      <td>4</td>\n",
              "      <td>2016</td>\n",
              "      <td>10</td>\n",
              "      <td>Saturday</td>\n",
              "      <td>15</td>\n",
              "      <td>0</td>\n",
              "      <td>7100-7095</td>\n",
              "    </tr>\n",
              "  </tbody>\n",
              "</table>\n",
              "</div>"
            ],
            "text/plain": [
              "      trip_start_time      trip_stop_time  ...  extrafees    routeid\n",
              "0 2016-07-09 01:03:00 2016-07-09 01:15:00  ...          0  7100-7095\n",
              "1 2016-09-03 22:37:00 2016-09-03 22:48:00  ...          0  7100-7095\n",
              "2 2016-08-05 16:21:00 2016-08-05 16:33:00  ...          0  7100-7095\n",
              "3 2016-09-23 10:15:00 2016-09-23 10:28:00  ...          0  7100-7095\n",
              "4 2016-10-15 13:40:00 2016-10-15 13:51:00  ...          0  7100-7095\n",
              "\n",
              "[5 rows x 21 columns]"
            ]
          },
          "metadata": {
            "tags": []
          },
          "execution_count": 194
        }
      ]
    },
    {
      "cell_type": "code",
      "metadata": {
        "id": "PzMjDkRnAp8P",
        "colab_type": "code",
        "colab": {}
      },
      "source": [
        ""
      ],
      "execution_count": 0,
      "outputs": []
    }
  ]
}